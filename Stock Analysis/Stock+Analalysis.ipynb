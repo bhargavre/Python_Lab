{
 "cells": [
  {
   "cell_type": "markdown",
   "metadata": {},
   "source": [
    "# Introduction\n",
    "\n",
    "The primary objective of this exercise was to practice and use functions of the panda series which was given to us by our Professor Michael Schermann. This exercise deals with a simple analysis of the stock market. \n",
    "I have focussed on Apple 'AAPL' primarily.\n",
    "\n",
    "What did I get out of it you ask? Well firstly and foremost I learned a great deal about pandas library and how to use them. Secondly, I did not know much about stocks and the reason for surge in them before  this exercise. \n",
    "Also, these exercises helps me understand about python in general and how to document them professionally.\n",
    "\n",
    "# How did I carry out the Stock Analysis?\n",
    "\n",
    "Let me take you step by step as to what and how I performed this exercise including what I learned.\n",
    "\n",
    "* First: We were asked to use pandas function pandas datareader to acquire the Apple's stock data from the year 1982 uptil today.\n",
    "Reference provided to us: https://pandas-datareader.readthedocs.io/en/latest/\n",
    "\n",
    "-- I tried to import pandas datareader but it caused me errors. Hence I referred to https://github.com/pydata/pandas-datareader and tried to install pandas-datareader in my system, but that also caused me errors. \n",
    "Since I have windows and am using anaconda navigator to launch jupyter I realised I have to install or add pandas datareader library into that. I used the anaconda's terminal by referring to https://python-forum.io/Thread-run-script-from-anaconda-command-prompt and installed pandas-datareader by the command given in https://anaconda.org/anaconda/pandas-datareader.\n",
    "\n",
    "-- After this I was ready to start and explore the world of Pandas.\n"
   ]
  },
  {
   "cell_type": "code",
   "execution_count": 78,
   "metadata": {
    "collapsed": true
   },
   "outputs": [],
   "source": [
    "# print all the outputs in a cell\n",
    "from IPython.core.interactiveshell import InteractiveShell\n",
    "InteractiveShell.ast_node_interactivity = \"all\""
   ]
  },
  {
   "cell_type": "code",
   "execution_count": 79,
   "metadata": {},
   "outputs": [],
   "source": [
    "import pandas_datareader as pdread"
   ]
  },
  {
   "cell_type": "code",
   "execution_count": 80,
   "metadata": {
    "collapsed": true
   },
   "outputs": [],
   "source": [
    "import pandas as pnd"
   ]
  },
  {
   "cell_type": "code",
   "execution_count": 81,
   "metadata": {
    "collapsed": true
   },
   "outputs": [],
   "source": [
    "import datetime as dt"
   ]
  },
  {
   "cell_type": "markdown",
   "metadata": {},
   "source": [
    "Above are the imports i used to perform this exercise."
   ]
  },
  {
   "cell_type": "code",
   "execution_count": 82,
   "metadata": {},
   "outputs": [],
   "source": [
    "st = dt.datetime(1982, 1, 1)"
   ]
  },
  {
   "cell_type": "code",
   "execution_count": 83,
   "metadata": {
    "collapsed": true
   },
   "outputs": [],
   "source": [
    "ed = dt.datetime.today()"
   ]
  },
  {
   "cell_type": "markdown",
   "metadata": {},
   "source": [
    "Initialized, \n",
    "\n",
    "st --> from when I wanted the stock price\n",
    "\n",
    "ed --> until when I wanted the stock price"
   ]
  },
  {
   "cell_type": "code",
   "execution_count": 84,
   "metadata": {},
   "outputs": [],
   "source": [
    "stocks = pdread.DataReader('AAPL', 'yahoo', st, ed)"
   ]
  },
  {
   "cell_type": "markdown",
   "metadata": {},
   "source": [
    "-- I referred multiple sites/blogs to get the above command working\n",
    "\n",
    "* https://pandas-datareader.readthedocs.io/en/latest/remote_data.html#yahoo-finance-quotes\n",
    "\n",
    "* https://stackoverflow.com/questions/44012335/python-pandas-datareader-isnt-working\n",
    "\n",
    "* https://github.com/pydata/pandas-datareader/issues/315\n",
    "\n",
    "Turns out my command was right but I had made a very small mistake, I was searching for the ticker symbol APPL instead fo AAPL. And finally got this to work after multiple tries."
   ]
  },
  {
   "cell_type": "code",
   "execution_count": 85,
   "metadata": {},
   "outputs": [
    {
     "data": {
      "text/html": [
       "<div>\n",
       "<style>\n",
       "    .dataframe thead tr:only-child th {\n",
       "        text-align: right;\n",
       "    }\n",
       "\n",
       "    .dataframe thead th {\n",
       "        text-align: left;\n",
       "    }\n",
       "\n",
       "    .dataframe tbody tr th {\n",
       "        vertical-align: top;\n",
       "    }\n",
       "</style>\n",
       "<table border=\"1\" class=\"dataframe\">\n",
       "  <thead>\n",
       "    <tr style=\"text-align: right;\">\n",
       "      <th></th>\n",
       "      <th>Open</th>\n",
       "      <th>High</th>\n",
       "      <th>Low</th>\n",
       "      <th>Close</th>\n",
       "      <th>Adj Close</th>\n",
       "      <th>Volume</th>\n",
       "    </tr>\n",
       "    <tr>\n",
       "      <th>Date</th>\n",
       "      <th></th>\n",
       "      <th></th>\n",
       "      <th></th>\n",
       "      <th></th>\n",
       "      <th></th>\n",
       "      <th></th>\n",
       "    </tr>\n",
       "  </thead>\n",
       "  <tbody>\n",
       "    <tr>\n",
       "      <th>1982-01-04</th>\n",
       "      <td>0.395089</td>\n",
       "      <td>0.395089</td>\n",
       "      <td>0.392857</td>\n",
       "      <td>0.392857</td>\n",
       "      <td>0.321458</td>\n",
       "      <td>17813600</td>\n",
       "    </tr>\n",
       "    <tr>\n",
       "      <th>1982-01-05</th>\n",
       "      <td>0.377232</td>\n",
       "      <td>0.377232</td>\n",
       "      <td>0.372768</td>\n",
       "      <td>0.372768</td>\n",
       "      <td>0.305020</td>\n",
       "      <td>8960000</td>\n",
       "    </tr>\n",
       "    <tr>\n",
       "      <th>1982-01-06</th>\n",
       "      <td>0.370536</td>\n",
       "      <td>0.370536</td>\n",
       "      <td>0.368304</td>\n",
       "      <td>0.368304</td>\n",
       "      <td>0.301367</td>\n",
       "      <td>16520000</td>\n",
       "    </tr>\n",
       "    <tr>\n",
       "      <th>1982-01-07</th>\n",
       "      <td>0.343750</td>\n",
       "      <td>0.343750</td>\n",
       "      <td>0.339286</td>\n",
       "      <td>0.339286</td>\n",
       "      <td>0.277623</td>\n",
       "      <td>17511200</td>\n",
       "    </tr>\n",
       "    <tr>\n",
       "      <th>1982-01-08</th>\n",
       "      <td>0.354911</td>\n",
       "      <td>0.357143</td>\n",
       "      <td>0.354911</td>\n",
       "      <td>0.354911</td>\n",
       "      <td>0.290408</td>\n",
       "      <td>14151200</td>\n",
       "    </tr>\n",
       "  </tbody>\n",
       "</table>\n",
       "</div>"
      ],
      "text/plain": [
       "                Open      High       Low     Close  Adj Close    Volume\n",
       "Date                                                                   \n",
       "1982-01-04  0.395089  0.395089  0.392857  0.392857   0.321458  17813600\n",
       "1982-01-05  0.377232  0.377232  0.372768  0.372768   0.305020   8960000\n",
       "1982-01-06  0.370536  0.370536  0.368304  0.368304   0.301367  16520000\n",
       "1982-01-07  0.343750  0.343750  0.339286  0.339286   0.277623  17511200\n",
       "1982-01-08  0.354911  0.357143  0.354911  0.354911   0.290408  14151200"
      ]
     },
     "execution_count": 85,
     "metadata": {},
     "output_type": "execute_result"
    }
   ],
   "source": [
    "stocks.head()"
   ]
  },
  {
   "cell_type": "code",
   "execution_count": 86,
   "metadata": {},
   "outputs": [
    {
     "data": {
      "text/html": [
       "<div>\n",
       "<style>\n",
       "    .dataframe thead tr:only-child th {\n",
       "        text-align: right;\n",
       "    }\n",
       "\n",
       "    .dataframe thead th {\n",
       "        text-align: left;\n",
       "    }\n",
       "\n",
       "    .dataframe tbody tr th {\n",
       "        vertical-align: top;\n",
       "    }\n",
       "</style>\n",
       "<table border=\"1\" class=\"dataframe\">\n",
       "  <thead>\n",
       "    <tr style=\"text-align: right;\">\n",
       "      <th></th>\n",
       "      <th>Open</th>\n",
       "      <th>High</th>\n",
       "      <th>Low</th>\n",
       "      <th>Close</th>\n",
       "      <th>Adj Close</th>\n",
       "      <th>Volume</th>\n",
       "    </tr>\n",
       "    <tr>\n",
       "      <th>Date</th>\n",
       "      <th></th>\n",
       "      <th></th>\n",
       "      <th></th>\n",
       "      <th></th>\n",
       "      <th></th>\n",
       "      <th></th>\n",
       "    </tr>\n",
       "  </thead>\n",
       "  <tbody>\n",
       "    <tr>\n",
       "      <th>2018-01-16</th>\n",
       "      <td>177.899994</td>\n",
       "      <td>179.389999</td>\n",
       "      <td>176.139999</td>\n",
       "      <td>176.190002</td>\n",
       "      <td>176.190002</td>\n",
       "      <td>29565900</td>\n",
       "    </tr>\n",
       "    <tr>\n",
       "      <th>2018-01-17</th>\n",
       "      <td>176.149994</td>\n",
       "      <td>179.250000</td>\n",
       "      <td>175.070007</td>\n",
       "      <td>179.100006</td>\n",
       "      <td>179.100006</td>\n",
       "      <td>34386800</td>\n",
       "    </tr>\n",
       "    <tr>\n",
       "      <th>2018-01-18</th>\n",
       "      <td>179.369995</td>\n",
       "      <td>180.100006</td>\n",
       "      <td>178.250000</td>\n",
       "      <td>179.259995</td>\n",
       "      <td>179.259995</td>\n",
       "      <td>31193400</td>\n",
       "    </tr>\n",
       "    <tr>\n",
       "      <th>2018-01-19</th>\n",
       "      <td>178.610001</td>\n",
       "      <td>179.580002</td>\n",
       "      <td>177.410004</td>\n",
       "      <td>178.460007</td>\n",
       "      <td>178.460007</td>\n",
       "      <td>31269600</td>\n",
       "    </tr>\n",
       "    <tr>\n",
       "      <th>2018-01-22</th>\n",
       "      <td>177.300003</td>\n",
       "      <td>177.779999</td>\n",
       "      <td>176.601593</td>\n",
       "      <td>177.000000</td>\n",
       "      <td>177.000000</td>\n",
       "      <td>27100407</td>\n",
       "    </tr>\n",
       "  </tbody>\n",
       "</table>\n",
       "</div>"
      ],
      "text/plain": [
       "                  Open        High         Low       Close   Adj Close  \\\n",
       "Date                                                                     \n",
       "2018-01-16  177.899994  179.389999  176.139999  176.190002  176.190002   \n",
       "2018-01-17  176.149994  179.250000  175.070007  179.100006  179.100006   \n",
       "2018-01-18  179.369995  180.100006  178.250000  179.259995  179.259995   \n",
       "2018-01-19  178.610001  179.580002  177.410004  178.460007  178.460007   \n",
       "2018-01-22  177.300003  177.779999  176.601593  177.000000  177.000000   \n",
       "\n",
       "              Volume  \n",
       "Date                  \n",
       "2018-01-16  29565900  \n",
       "2018-01-17  34386800  \n",
       "2018-01-18  31193400  \n",
       "2018-01-19  31269600  \n",
       "2018-01-22  27100407  "
      ]
     },
     "execution_count": 86,
     "metadata": {},
     "output_type": "execute_result"
    }
   ],
   "source": [
    "stocks.tail()"
   ]
  },
  {
   "cell_type": "code",
   "execution_count": 87,
   "metadata": {},
   "outputs": [
    {
     "data": {
      "text/html": [
       "<div>\n",
       "<style>\n",
       "    .dataframe thead tr:only-child th {\n",
       "        text-align: right;\n",
       "    }\n",
       "\n",
       "    .dataframe thead th {\n",
       "        text-align: left;\n",
       "    }\n",
       "\n",
       "    .dataframe tbody tr th {\n",
       "        vertical-align: top;\n",
       "    }\n",
       "</style>\n",
       "<table border=\"1\" class=\"dataframe\">\n",
       "  <thead>\n",
       "    <tr style=\"text-align: right;\">\n",
       "      <th></th>\n",
       "      <th>Open</th>\n",
       "      <th>High</th>\n",
       "      <th>Low</th>\n",
       "      <th>Close</th>\n",
       "      <th>Adj Close</th>\n",
       "      <th>Volume</th>\n",
       "    </tr>\n",
       "  </thead>\n",
       "  <tbody>\n",
       "    <tr>\n",
       "      <th>count</th>\n",
       "      <td>9092.000000</td>\n",
       "      <td>9092.000000</td>\n",
       "      <td>9092.000000</td>\n",
       "      <td>9092.000000</td>\n",
       "      <td>9092.000000</td>\n",
       "      <td>9.092000e+03</td>\n",
       "    </tr>\n",
       "    <tr>\n",
       "      <th>mean</th>\n",
       "      <td>22.785562</td>\n",
       "      <td>23.001318</td>\n",
       "      <td>22.551656</td>\n",
       "      <td>22.782830</td>\n",
       "      <td>21.403676</td>\n",
       "      <td>9.126154e+07</td>\n",
       "    </tr>\n",
       "    <tr>\n",
       "      <th>std</th>\n",
       "      <td>39.725507</td>\n",
       "      <td>40.034123</td>\n",
       "      <td>39.397154</td>\n",
       "      <td>39.728641</td>\n",
       "      <td>38.279935</td>\n",
       "      <td>8.756673e+07</td>\n",
       "    </tr>\n",
       "    <tr>\n",
       "      <th>min</th>\n",
       "      <td>0.198661</td>\n",
       "      <td>0.198661</td>\n",
       "      <td>0.196429</td>\n",
       "      <td>0.196429</td>\n",
       "      <td>0.160729</td>\n",
       "      <td>3.472000e+05</td>\n",
       "    </tr>\n",
       "    <tr>\n",
       "      <th>25%</th>\n",
       "      <td>1.098214</td>\n",
       "      <td>1.125000</td>\n",
       "      <td>1.066830</td>\n",
       "      <td>1.092500</td>\n",
       "      <td>0.961585</td>\n",
       "      <td>3.645168e+07</td>\n",
       "    </tr>\n",
       "    <tr>\n",
       "      <th>50%</th>\n",
       "      <td>1.669643</td>\n",
       "      <td>1.705357</td>\n",
       "      <td>1.638571</td>\n",
       "      <td>1.669643</td>\n",
       "      <td>1.465154</td>\n",
       "      <td>6.291040e+07</td>\n",
       "    </tr>\n",
       "    <tr>\n",
       "      <th>75%</th>\n",
       "      <td>23.563214</td>\n",
       "      <td>23.901071</td>\n",
       "      <td>23.110000</td>\n",
       "      <td>23.545357</td>\n",
       "      <td>21.106843</td>\n",
       "      <td>1.130045e+08</td>\n",
       "    </tr>\n",
       "    <tr>\n",
       "      <th>max</th>\n",
       "      <td>179.369995</td>\n",
       "      <td>180.100006</td>\n",
       "      <td>178.250000</td>\n",
       "      <td>179.259995</td>\n",
       "      <td>179.259995</td>\n",
       "      <td>1.855410e+09</td>\n",
       "    </tr>\n",
       "  </tbody>\n",
       "</table>\n",
       "</div>"
      ],
      "text/plain": [
       "              Open         High          Low        Close    Adj Close  \\\n",
       "count  9092.000000  9092.000000  9092.000000  9092.000000  9092.000000   \n",
       "mean     22.785562    23.001318    22.551656    22.782830    21.403676   \n",
       "std      39.725507    40.034123    39.397154    39.728641    38.279935   \n",
       "min       0.198661     0.198661     0.196429     0.196429     0.160729   \n",
       "25%       1.098214     1.125000     1.066830     1.092500     0.961585   \n",
       "50%       1.669643     1.705357     1.638571     1.669643     1.465154   \n",
       "75%      23.563214    23.901071    23.110000    23.545357    21.106843   \n",
       "max     179.369995   180.100006   178.250000   179.259995   179.259995   \n",
       "\n",
       "             Volume  \n",
       "count  9.092000e+03  \n",
       "mean   9.126154e+07  \n",
       "std    8.756673e+07  \n",
       "min    3.472000e+05  \n",
       "25%    3.645168e+07  \n",
       "50%    6.291040e+07  \n",
       "75%    1.130045e+08  \n",
       "max    1.855410e+09  "
      ]
     },
     "execution_count": 87,
     "metadata": {},
     "output_type": "execute_result"
    }
   ],
   "source": [
    "stocks.describe()"
   ]
  },
  {
   "cell_type": "markdown",
   "metadata": {},
   "source": [
    "The above, head, tail and describe functions is just to give a brief description on the data that I acquired from Yahoo Finance on Apple."
   ]
  },
  {
   "cell_type": "code",
   "execution_count": 88,
   "metadata": {
    "collapsed": true
   },
   "outputs": [],
   "source": [
    "closePrice = stocks['Close']"
   ]
  },
  {
   "cell_type": "markdown",
   "metadata": {},
   "source": [
    "I created a tag called closePrice just for the Close series as I was going to primarily work on this.\n",
    "\n",
    "\n",
    "We were asked to use the %magic command to activate inline matplotlib graphs and plot the close series. \n",
    "\n",
    "The below command does this.\n",
    "\n",
    "Reference: https://stackoverflow.com/questions/43027980/purpose-of-matplotlib-inline/43028034\n"
   ]
  },
  {
   "cell_type": "code",
   "execution_count": 89,
   "metadata": {
    "collapsed": true
   },
   "outputs": [],
   "source": [
    "%matplotlib inline"
   ]
  },
  {
   "cell_type": "code",
   "execution_count": 90,
   "metadata": {},
   "outputs": [
    {
     "data": {
      "text/plain": [
       "<matplotlib.axes._subplots.AxesSubplot at 0x12c50c211d0>"
      ]
     },
     "execution_count": 90,
     "metadata": {},
     "output_type": "execute_result"
    },
    {
     "data": {
      "image/png": "[encoded data removed]",
      "text/plain": [
       "<matplotlib.figure.Figure at 0x12c50c21b38>"
      ]
     },
     "metadata": {},
     "output_type": "display_data"
    }
   ],
   "source": [
    "closePrice.plot()"
   ]
  },
  {
   "cell_type": "markdown",
   "metadata": {},
   "source": [
    "# Overview of closeprice\n",
    "\n",
    "Firstly, what is a close price or closing price? It refers to the last price stocks trade during a regular trading session. \n",
    "\n",
    "Reference: https://www.sec.gov/fast-answers/answerscloseprhtm.html\n",
    "\n",
    "Looking from the plot of the closing price all the way from Jan 1st, 1982 until Jan 22nd, 2018, a broad overview would seem like the stock price was approximately around the same value till the year 2005 and then there was sudden increase exponentially till 2018. This could mean that Apple's performace increased exponentially and started gaining customer traction from 2005 onwards, basically since they moved into consumer electronics like iPad, iPhone and iPod.\n",
    "\n",
    "Overall, Apple has done well for itself.\n",
    "\n",
    "Since this is a broad-scale plot we cannot see the minute changes in the stock price which we can also call as surge in stock price. But we can notice the drops in stock-value around 2009 - 2017. Going forward we will dive into the surge in stock prices."
   ]
  },
  {
   "cell_type": "code",
   "execution_count": 91,
   "metadata": {},
   "outputs": [
    {
     "data": {
      "text/plain": [
       "179.259995"
      ]
     },
     "execution_count": 91,
     "metadata": {},
     "output_type": "execute_result"
    }
   ],
   "source": [
    "closePrice.max()"
   ]
  },
  {
   "cell_type": "code",
   "execution_count": 187,
   "metadata": {},
   "outputs": [
    {
     "data": {
      "text/plain": [
       "Date\n",
       "2018-01-18    179.259995\n",
       "Name: Close, dtype: float64"
      ]
     },
     "execution_count": 187,
     "metadata": {},
     "output_type": "execute_result"
    }
   ],
   "source": [
    "closePrice.nlargest(1)"
   ]
  },
  {
   "cell_type": "code",
   "execution_count": 93,
   "metadata": {},
   "outputs": [],
   "source": [
    "clPricesort = closePrice.sort_values(ascending=False)\n"
   ]
  },
  {
   "cell_type": "code",
   "execution_count": 94,
   "metadata": {},
   "outputs": [
    {
     "data": {
      "text/plain": [
       "179.10000600000001"
      ]
     },
     "execution_count": 94,
     "metadata": {},
     "output_type": "execute_result"
    }
   ],
   "source": [
    "clPricesort[1]"
   ]
  },
  {
   "cell_type": "markdown",
   "metadata": {},
   "source": [
    "# Three approaches to find maximum close price\n",
    "\n",
    "The above code shows the 3 ways to find the maximum close price in the given series.\n",
    "\n",
    "* Max() -> The function by itself compares each value in the list and returns the largest value\n",
    "* nlargest() -> The function by itself compares each value in the list and returns few of largest values by default. Unless a number is specified in the paranthesis. For example: as given above nlargest(1) reurns the maximum value in the series.\n",
    "* The last is the most traditional way to find the largest, sort descending and the first value is the largest value.\n",
    "\n",
    "Referenecs:\n",
    "- https://stackoverflow.com/questions/15741759/find-maximum-value-of-a-column-and-return-the-corresponding-row-values-using-pan\n",
    "- https://pandas.pydata.org/pandas-docs/stable/generated/pandas.Series.nlargest.html\n",
    "- https://docs.python.org/3/library/heapq.html#heapq.nlargest\n",
    "- https://forum.freecodecamp.org/t/python-max-function/19205\n",
    "- https://www.tutorialspoint.com/python/number_max.htm\n",
    "\n",
    "# Highest stock price surge in 5 days \n",
    "\n",
    "Below code blocks is to find out five timeframes with the highest stock price surge in five days. Lets see what we get.\n"
   ]
  },
  {
   "cell_type": "code",
   "execution_count": 96,
   "metadata": {},
   "outputs": [],
   "source": [
    "percent = (closePrice / closePrice.shift(1)) - 1"
   ]
  },
  {
   "cell_type": "markdown",
   "metadata": {},
   "source": [
    "Here I have used the logic percent = ((a/b) - 1), a -> the stock price of the previous day, b-> the current stock price.\n",
    "This logic would give me the percentage change in the stock price. \n",
    "\n",
    "To accomplish this, I used a pandas function called shift(), with this method we can shift a particular series or dataframe by a specified value. With the help of this I could get the percentage change and notice the surge in stock price.\n",
    "\n",
    "Reference: \n",
    "- https://pandas.pydata.org/pandas-docs/stable/generated/pandas.DataFrame.shift.html\n",
    "- https://stackoverflow.com/questions/10982089/how-to-shift-a-column-in-pandas-dataframe"
   ]
  },
  {
   "cell_type": "code",
   "execution_count": 97,
   "metadata": {},
   "outputs": [
    {
     "data": {
      "text/plain": [
       "<matplotlib.axes._subplots.AxesSubplot at 0x12c50ccf2b0>"
      ]
     },
     "execution_count": 97,
     "metadata": {},
     "output_type": "execute_result"
    },
    {
     "data": {
      "image/png": "[encoded data removed]",
      "text/plain": [
       "<matplotlib.figure.Figure at 0x12c50cb33c8>"
      ]
     },
     "metadata": {},
     "output_type": "display_data"
    }
   ],
   "source": [
    "percent.plot()"
   ]
  },
  {
   "cell_type": "markdown",
   "metadata": {},
   "source": [
    "By looking at the above plot of the percent change values, we can easily notice that unlike the previous plot (that showed a stagnant stock value until 2005), this shows the surge in stock price. This tells us that Apple stock was not stagnant but did waver."
   ]
  },
  {
   "cell_type": "code",
   "execution_count": 101,
   "metadata": {
    "collapsed": true
   },
   "outputs": [],
   "source": [
    "persort = percent.abs().sort_values(ascending=False)"
   ]
  },
  {
   "cell_type": "markdown",
   "metadata": {},
   "source": [
    "The data collected includes negetive values, hence to get the maximum 5 surges and their timeframe, I used the absolute value function and sorted the values in descending order.\n",
    "\n",
    "Reference: https://www.tutorialspoint.com/python/number_abs.htm"
   ]
  },
  {
   "cell_type": "code",
   "execution_count": 102,
   "metadata": {},
   "outputs": [
    {
     "data": {
      "text/plain": [
       "Date\n",
       "2000-09-29    0.518692\n",
       "1997-08-06    0.332279\n",
       "1983-09-23    0.253845\n",
       "1987-10-19    0.243523\n",
       "1998-01-02    0.238095\n",
       "Name: Close, dtype: float64"
      ]
     },
     "execution_count": 102,
     "metadata": {},
     "output_type": "execute_result"
    }
   ],
   "source": [
    "persort.head()"
   ]
  },
  {
   "cell_type": "markdown",
   "metadata": {},
   "source": [
    "# Stock surges\n",
    "\n",
    "### September 29th, 2000\n",
    "This date recorded the largest surge of about 51%. Apple's market value was simply sliced in half. They blamed lower than expected sales in the month of September, 2000. Computer maker's (making hardware, chips) stocks fell in general in this time.\n",
    "\n",
    "Reference: http://money.cnn.com/2000/09/29/markets/techwrap/\n",
    "\n",
    "### August 6th, 1997\n",
    "The surge 33% here was due the fact that Microsoft Corp. bought $150 Million of non-voting shares of Apple for 3 years. Jobs joined the board along with Larry Ellison, CEO Oracle Corp.; Jerry York, a former chief financial officer at IBM and Chrysler Corp.; and Bill Campbell, CEO Intuit. This was to bring the troubled computer maker back into track.\n",
    "\n",
    "Reference: http://money.cnn.com/1997/08/06/technology/apple/\n",
    "\n",
    "### September 23th, 1983\n",
    "The surge here was due to flattening sales, special write-offs and heavier investments to position the company for the future.\n",
    "\n",
    "Reference: http://www.nytimes.com/1983/09/23/business/business-digest-friday-september-23-1983.html\n",
    "\n",
    "### October 19th, 1987\n",
    "This is the day the stock market collapsed. It was the day known as Black Monday.\n",
    "\n",
    "Reference: http://money.cnn.com/2017/10/19/investing/romans-numeral-black-monday/index.html\n",
    "\n",
    "### Jan 2nd, 1998\n",
    "As per the maximum data we have here, this date is supposed to have the 5th largest surge. I was not able to find sufficient information for this day/date. Hence I am not able to comment on this particular date.\n"
   ]
  },
  {
   "cell_type": "markdown",
   "metadata": {},
   "source": [
    "# Quarterly surge in stock \n",
    "\n",
    "This was particularly hard to do compared to the previous code blocks. I was not able to figure out the method or the logic. \n",
    "The most immediate logic I could think of was converting the daily stock price to monthly and moving forward from there.\n",
    "I went through the below references for that\n",
    "* https://stackoverflow.com/questions/38676323/is-it-possible-to-get-monthly-historical-stock-prices-in-python\n",
    "* http://pandas.pydata.org/pandas-docs/stable/timeseries.html#periodindex-and-period-range\n",
    "* https://jakevdp.github.io/PythonDataScienceHandbook/03.11-working-with-time-series.html\n",
    "* https://stackoverflow.com/questions/41271327/panda-dataframe-for-stock-change\n",
    "* https://stackoverflow.com/questions/42191697/resample-daily-data-to-monthly-with-pandas-date-formatting?rq=1\n",
    "\n",
    "\n",
    "But then I went through the pandas documentation and read about resampling. The blow code is from the below given references.\n",
    "\n",
    "References:\n",
    "* https://pandas.pydata.org/pandas-docs/stable/generated/pandas.DataFrame.resample.html#\n",
    "* http://pandas.pydata.org/pandas-docs/version/0.12/timeseries.html\n"
   ]
  },
  {
   "cell_type": "code",
   "execution_count": 173,
   "metadata": {},
   "outputs": [],
   "source": [
    "quarter = stocks.resample('Q-SEP')\n",
    "quarter = quarter.mean()"
   ]
  },
  {
   "cell_type": "markdown",
   "metadata": {},
   "source": [
    "This above command resamples the existing data quarterly until the ending of September. I am also taking the mean values of all the days in the quarter. "
   ]
  },
  {
   "cell_type": "code",
   "execution_count": 174,
   "metadata": {
    "collapsed": true
   },
   "outputs": [],
   "source": [
    "qtrclosePrice = quarter['Close']"
   ]
  },
  {
   "cell_type": "code",
   "execution_count": 192,
   "metadata": {},
   "outputs": [
    {
     "data": {
      "text/plain": [
       "Date\n",
       "1982-03-31    0.327765\n",
       "1982-06-30    0.263747\n",
       "1982-09-30    0.270752\n",
       "1982-12-31    0.503418\n",
       "1983-03-31    0.724383\n",
       "Freq: Q-SEP, Name: Close, dtype: float64"
      ]
     },
     "execution_count": 192,
     "metadata": {},
     "output_type": "execute_result"
    }
   ],
   "source": [
    "qtrclosePrice.head()"
   ]
  },
  {
   "cell_type": "code",
   "execution_count": 197,
   "metadata": {
    "scrolled": true
   },
   "outputs": [],
   "source": [
    "percent_quarter = (qtrclosePrice / qtrclosePrice.shift(4)) - 1"
   ]
  },
  {
   "cell_type": "markdown",
   "metadata": {},
   "source": [
    "This is the same logic I applied before, except this is for quarter and earlier it was for days. \n",
    "I am shifting by 4 because I want to compare the mean close price of quarter 1 with that of quarter 1 of next year."
   ]
  },
  {
   "cell_type": "code",
   "execution_count": 177,
   "metadata": {
    "scrolled": true
   },
   "outputs": [
    {
     "data": {
      "text/plain": [
       "<matplotlib.axes._subplots.AxesSubplot at 0x12c526172e8>"
      ]
     },
     "execution_count": 177,
     "metadata": {},
     "output_type": "execute_result"
    },
    {
     "data": {
      "image/png": "[encoded data removed]",
      "text/plain": [
       "<matplotlib.figure.Figure at 0x12c525fd208>"
      ]
     },
     "metadata": {},
     "output_type": "display_data"
    }
   ],
   "source": [
    "percent_quarter.plot()"
   ]
  },
  {
   "cell_type": "markdown",
   "metadata": {},
   "source": [
    "This plot is to see how was the surge quarterly, similar to how I executed earlier to see the surge on a daily basis. Looking at this graph we can see the surges very clearly on a quarterly basis. The highest surge was sometime before 1984 and second highest a little after 2004."
   ]
  },
  {
   "cell_type": "code",
   "execution_count": 188,
   "metadata": {
    "scrolled": false
   },
   "outputs": [
    {
     "data": {
      "text/plain": [
       "Date\n",
       "1983-06-30    2.535599\n",
       "2005-03-31    2.286090\n",
       "2000-03-31    2.051193\n",
       "1987-09-30    1.777266\n",
       "Name: Close, dtype: float64"
      ]
     },
     "execution_count": 188,
     "metadata": {},
     "output_type": "execute_result"
    }
   ],
   "source": [
    "mask = percent_quarter.abs().apply(lambda x: x > 1)\n",
    "#percent_quarter = percent_quarter.apply(lambda x: x > 1)\n",
    "percent_quarter[mask].nlargest(4)"
   ]
  },
  {
   "cell_type": "markdown",
   "metadata": {},
   "source": [
    "This above code I have used the concept of mask and lambda function. \n",
    "\n",
    "The lambda function I have used to understand the overall surge in stock price greater than 100%. The it will return a value of True to every surge value greater than 100% and False to everything else.\n",
    "I simply used that as mask and with nlargest(4) I could get the 4 largest surges in a quarter. \n",
    "\n",
    "### Largest Surge\n",
    "\n",
    "As you can see the largest surge happened in the 3rd quarter of the fiscal year in 1983.\n",
    "From 1980 - 1983 the apple stock increased from $ 2.75 -  8. Post this there was a decline in stocks around 1985 as Jobs left the company.\n",
    "\n",
    "Reference:\n",
    "* https://blogs.wsj.com/marketbeat/2011/08/25/apples-stock-price-through-the-ages/\n",
    "* http://fortune.com/2012/10/05/apple-from-1980-to-2012/\n",
    "* http://www.dividend.com/dividend-education/the-complete-history-of-apple-aapl/"
   ]
  },
  {
   "cell_type": "markdown",
   "metadata": {},
   "source": [
    "# Visualization"
   ]
  },
  {
   "cell_type": "code",
   "execution_count": 195,
   "metadata": {},
   "outputs": [
    {
     "data": {
      "text/plain": [
       "<matplotlib.axes._subplots.AxesSubplot at 0x12c528be358>"
      ]
     },
     "execution_count": 195,
     "metadata": {},
     "output_type": "execute_result"
    },
    {
     "data": {
      "image/png": "[encoded data removed]",
      "text/plain": [
       "<matplotlib.figure.Figure at 0x12c525728d0>"
      ]
     },
     "metadata": {},
     "output_type": "display_data"
    }
   ],
   "source": [
    "percent_quarter[mask].plot()"
   ]
  },
  {
   "cell_type": "markdown",
   "metadata": {},
   "source": [
    "This is a plot of just those stock price where the surge is more than 100%. From this you can see that around 1983 there was a surge and also as mentioned earlier, as Jobs left the company in 1985 there was a decline in the stock level of the company.\n",
    "\n",
    "\n",
    "# Conclusion\n",
    "\n",
    "Apple's Stock price has exponentially increased since 2005, but they have always been growing. Many great and positive managerial decisions have been made for the betterment and future of the company which has resulted in the overall rise in stock price even though there have been surges to the negetive side.\n",
    "\n",
    "Being new to Python and trying this exercise gave me a great deal of insights and understanding about stocks, pandas and Python. \n",
    "The reformatting of data (with code) could have caused some errors, it could also have been caused by the mathematical formula I used. But though this might be the case, I still learned a lot from this exercise. \n",
    "\n"
   ]
  },
  {
   "cell_type": "code",
   "execution_count": null,
   "metadata": {
    "collapsed": true
   },
   "outputs": [],
   "source": []
  }
 ],
 "metadata": {
  "kernelspec": {
   "display_name": "Python 3",
   "language": "python",
   "name": "python3"
  },
  "language_info": {
   "codemirror_mode": {
    "name": "ipython",
    "version": 3
   },
   "file_extension": ".py",
   "mimetype": "text/x-python",
   "name": "python",
   "nbconvert_exporter": "python",
   "pygments_lexer": "ipython3",
   "version": "3.6.3"
  }
 },
 "nbformat": 4,
 "nbformat_minor": 2
}
