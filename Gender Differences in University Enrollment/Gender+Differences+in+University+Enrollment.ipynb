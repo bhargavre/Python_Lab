{
 "cells": [
  {
   "cell_type": "markdown",
   "metadata": {
    "ExecuteTime": {
     "end_time": "2018-01-23T04:31:51.255588Z",
     "start_time": "2018-01-23T04:31:51.252836Z"
    }
   },
   "source": [
    "# Gender Differences in University Enrollment\n",
    "\n",
    "## Introduction"
   ]
  },
  {
   "cell_type": "markdown",
   "metadata": {},
   "source": [
    "The objective of this program is to practice visualizing data. For this I have used the 'Universities.csv' data from [National Center for Education Statistics](https://nces.ed.gov/ipeds/datacenter/DataFiles.aspx). \n",
    "\n",
    "This data although named 'Universities.csv' actually and mainly contains the number of male and female enrolments in each university. \n",
    "\n",
    "At first one might say, \"so what, just a number, what can be we do with this?\". Well, with proper data analysis and visualization, we can read, understand and highlight important data. \n",
    "\n",
    "Although not complete, the below steps are taken to do the same.\n",
    "\n",
    "\n",
    "## Data Preparation"
   ]
  },
  {
   "cell_type": "code",
   "execution_count": 139,
   "metadata": {
    "ExecuteTime": {
     "end_time": "2018-02-13T17:45:19.822310Z",
     "start_time": "2018-02-13T17:45:19.816703Z"
    },
    "collapsed": true
   },
   "outputs": [],
   "source": [
    "from IPython.core.interactiveshell import InteractiveShell\n",
    "InteractiveShell.ast_node_interactivity = \"all\""
   ]
  },
  {
   "cell_type": "code",
   "execution_count": 140,
   "metadata": {
    "ExecuteTime": {
     "end_time": "2018-02-13T17:45:20.792374Z",
     "start_time": "2018-02-13T17:45:20.557515Z"
    },
    "collapsed": true
   },
   "outputs": [],
   "source": [
    "import numpy as np\n",
    "import pandas as pd"
   ]
  },
  {
   "cell_type": "code",
   "execution_count": 141,
   "metadata": {
    "ExecuteTime": {
     "end_time": "2018-02-13T17:45:23.621448Z",
     "start_time": "2018-02-13T17:45:23.424111Z"
    },
    "collapsed": true
   },
   "outputs": [],
   "source": [
    "c = students = pd.read_csv('https://raw.githubusercontent.com/mschermann/msis2802winter2018homework/master/\\\n",
    "universities.csv')"
   ]
  },
  {
   "cell_type": "code",
   "execution_count": 142,
   "metadata": {
    "ExecuteTime": {
     "end_time": "2018-02-13T17:45:25.590732Z",
     "start_time": "2018-02-13T17:45:25.149151Z"
    },
    "collapsed": true
   },
   "outputs": [],
   "source": [
    "import seaborn as sn\n",
    "%matplotlib inline\n",
    "import matplotlib as mpl\n",
    "import matplotlib.pyplot as plt"
   ]
  },
  {
   "cell_type": "code",
   "execution_count": 143,
   "metadata": {
    "ExecuteTime": {
     "end_time": "2018-02-13T17:46:02.458031Z",
     "start_time": "2018-02-13T17:46:02.452375Z"
    },
    "collapsed": true
   },
   "outputs": [],
   "source": [
    "uswest = ['AK','AZ','CA', 'CO', 'HI', 'ID', 'MT', 'NV', 'NM', 'OR', 'UT', 'WA', 'WY']"
   ]
  },
  {
   "cell_type": "markdown",
   "metadata": {},
   "source": [
    "Above is an array containing all the states that belong to US-West.\n",
    "\n",
    "Since I live in California, I'm being a little selfish to gather data about the US-west."
   ]
  },
  {
   "cell_type": "code",
   "execution_count": 144,
   "metadata": {
    "collapsed": true
   },
   "outputs": [],
   "source": [
    "students = students.dropna()"
   ]
  },
  {
   "cell_type": "markdown",
   "metadata": {},
   "source": [
    "There are a lot of rows, that have null values in the data set. Due to this, dropna() function was used to drop all the NaN values such that it does not cause either errors or pose as an outlier in visualizations."
   ]
  },
  {
   "cell_type": "markdown",
   "metadata": {},
   "source": [
    "### Total Enrollment Per State"
   ]
  },
  {
   "cell_type": "markdown",
   "metadata": {},
   "source": [
    "Filtering out only US-West states from the main database, I grouped by state and used the agg() function to calculate the mean, cound, min and max. I also sorted the values based on descending order of count.\n",
    "\n",
    "Using the data, I created a box plot. So lets see what we find.\n",
    "\n",
    "For boxplot I referred to the below links\n",
    "- https://seaborn.pydata.org/generated/seaborn.boxplot.html\n"
   ]
  },
  {
   "cell_type": "code",
   "execution_count": 145,
   "metadata": {},
   "outputs": [
    {
     "data": {
      "image/png": "[encoded data removed]",
      "text/plain": [
       "<matplotlib.figure.Figure at 0x1d301666860>"
      ]
     },
     "metadata": {},
     "output_type": "display_data"
    }
   ],
   "source": [
    "students_uswest = students[students['STABBR'].isin(uswest)]\n",
    "students_plot = students_uswest.groupby('STABBR', as_index=False)['ENRLT'].agg(['mean', 'count','max','min']).reset_index().sort_values('count',ascending=False)\n",
    "sn.boxplot(y='mean', x='STABBR', data=students_plot);"
   ]
  },
  {
   "cell_type": "markdown",
   "metadata": {},
   "source": [
    "### Observation\n",
    "\n",
    "Box Plots are really useful when you want to plot a range of values. \n",
    "\n",
    "From the box plot above, we can see that California has highest number of universities and Wyoming as the lowest number of universities in the US-West region. Although the highest, the average of total enrollment is lower than that of Wyoming. \n",
    "One can say that from this data, there is a higher acceptance rate in universities in Wyoming compared to that of California. \n",
    "\n",
    "Another observation here is that Utah has the highest average compared to all the other states.\n",
    "\n",
    "But can we be assure of this assumptions? No, we need more information and hard data to conclude that observation.\n",
    "\n"
   ]
  },
  {
   "cell_type": "markdown",
   "metadata": {},
   "source": [
    "### Gender based on Enrollment \n",
    "\n",
    "Now that we have seen and compared the average enrollment into universities in US-West region states, lets deep dive further into the comparision of male/female enrollments."
   ]
  },
  {
   "cell_type": "markdown",
   "metadata": {},
   "source": [
    "For this section I referred to MELT method in this https://pandas.pydata.org/pandas-docs/stable/generated/pandas.melt.html link.\n",
    "\n",
    "Since the main dataset has values of enrollment in separate columns for both male and female, I used this function to melt both these columns to forge a new column that contains both male and female values.\n",
    "\n",
    "The main reason for this was to create a box plot to compare the two."
   ]
  },
  {
   "cell_type": "code",
   "execution_count": 146,
   "metadata": {},
   "outputs": [
    {
     "data": {
      "text/html": [
       "<div>\n",
       "<style>\n",
       "    .dataframe thead tr:only-child th {\n",
       "        text-align: right;\n",
       "    }\n",
       "\n",
       "    .dataframe thead th {\n",
       "        text-align: left;\n",
       "    }\n",
       "\n",
       "    .dataframe tbody tr th {\n",
       "        vertical-align: top;\n",
       "    }\n",
       "</style>\n",
       "<table border=\"1\" class=\"dataframe\">\n",
       "  <thead>\n",
       "    <tr style=\"text-align: right;\">\n",
       "      <th></th>\n",
       "      <th>STABBR</th>\n",
       "      <th>INSTNM</th>\n",
       "      <th>Enrollment Gender wise</th>\n",
       "      <th>Enrollment</th>\n",
       "    </tr>\n",
       "  </thead>\n",
       "  <tbody>\n",
       "    <tr>\n",
       "      <th>0</th>\n",
       "      <td>AK</td>\n",
       "      <td>University of Alaska Anchorage</td>\n",
       "      <td>ENRLM</td>\n",
       "      <td>776.0</td>\n",
       "    </tr>\n",
       "    <tr>\n",
       "      <th>1</th>\n",
       "      <td>AK</td>\n",
       "      <td>University of Alaska Fairbanks</td>\n",
       "      <td>ENRLM</td>\n",
       "      <td>392.0</td>\n",
       "    </tr>\n",
       "    <tr>\n",
       "      <th>2</th>\n",
       "      <td>AK</td>\n",
       "      <td>University of Alaska Southeast</td>\n",
       "      <td>ENRLM</td>\n",
       "      <td>59.0</td>\n",
       "    </tr>\n",
       "    <tr>\n",
       "      <th>3</th>\n",
       "      <td>AK</td>\n",
       "      <td>Alaska Pacific University</td>\n",
       "      <td>ENRLM</td>\n",
       "      <td>15.0</td>\n",
       "    </tr>\n",
       "    <tr>\n",
       "      <th>4</th>\n",
       "      <td>AZ</td>\n",
       "      <td>Carrington College-Phoenix North</td>\n",
       "      <td>ENRLM</td>\n",
       "      <td>15.0</td>\n",
       "    </tr>\n",
       "  </tbody>\n",
       "</table>\n",
       "</div>"
      ],
      "text/plain": [
       "  STABBR                            INSTNM Enrollment Gender wise  Enrollment\n",
       "0     AK    University of Alaska Anchorage                  ENRLM       776.0\n",
       "1     AK    University of Alaska Fairbanks                  ENRLM       392.0\n",
       "2     AK    University of Alaska Southeast                  ENRLM        59.0\n",
       "3     AK         Alaska Pacific University                  ENRLM        15.0\n",
       "4     AZ  Carrington College-Phoenix North                  ENRLM        15.0"
      ]
     },
     "execution_count": 146,
     "metadata": {},
     "output_type": "execute_result"
    }
   ],
   "source": [
    "student_melt = pd.melt(students_uswest, id_vars=['STABBR', 'INSTNM'], value_vars=['ENRLM', 'ENRLW'],var_name='Enrollment Gender wise', value_name='Enrollment')\n",
    "student_melt.head()"
   ]
  },
  {
   "cell_type": "markdown",
   "metadata": {},
   "source": [
    "The above is a new data frame created using the melt method, which contains the university names, states, column for gender and the Enrollment for male/female for each university.\n",
    "\n",
    "To change the figure size I referred to the below link.\n",
    "- https://stackoverflow.com/questions/31594549/how-do-i-change-the-figure-size-for-a-seaborn-plot\n",
    "\n",
    "I also tried to search for labelling the boxplot to show better values but wasn't able to accomplish that. I instead used showmeans to show the mean value for each box plot\n",
    "- https://stackoverflow.com/questions/38649501/labeling-boxplot-in-seaborn-with-median-value"
   ]
  },
  {
   "cell_type": "code",
   "execution_count": 147,
   "metadata": {},
   "outputs": [
    {
     "data": {
      "image/png": "[encoded data removed]",
      "text/plain": [
       "<matplotlib.figure.Figure at 0x1d303ff84a8>"
      ]
     },
     "metadata": {},
     "output_type": "display_data"
    }
   ],
   "source": [
    "plt.figure(figsize=(15,8))\n",
    "sn.boxplot(x='STABBR', hue='Enrollment Gender wise', y='Enrollment', data=student_melt, fliersize=3, showmeans = True);"
   ]
  },
  {
   "cell_type": "markdown",
   "metadata": {},
   "source": [
    "### Observation\n",
    "\n",
    "Although previously we found out that the average total enrollment was high for Wyoming, from this plot we can easily see that Wyoming has just 1 university, and thats why it seems like the average is high compared to california. \n",
    "\n",
    "From this plot we can see that in general, there are higher women enrollees than men from this data. The green triangles in the plot for each box indicates the mean, and shows that for each state the mean of women enrollees is higher than men enrollees.\n",
    "\n",
    "But an observation here that supports the previous observation is that Utah has higher enrollment in general. \n",
    "\n",
    "Can we say that more women are interested in education compared to men? No, again without hard facts and more data, we cannot come to this conclusion. And according to this box plot there are many outliers with which we cannot confirm certain details.\n"
   ]
  },
  {
   "cell_type": "markdown",
   "metadata": {},
   "source": [
    "### Standardized Ratio of Admission\n",
    "\n",
    "In this section I have decided to analyse the the ratio of admissions for men and women in the Bay Area. \n",
    "\n",
    "Firstly I am only choosing thoese universities that have 1000 and more than 1000 enrollments.\n",
    "\n",
    "I have standardized the ratio with the mean in the following way:\n",
    "\n",
    "- Mean ratio = Mean_adm_men/Mean_adm_women\n",
    "\n",
    "- For each university divide the ratio of men/women by this mean ratio\n",
    "\n",
    "There are different ways of doing the ratio and for any given formula we can just change logic to do the same. Once we have the standardized ratio we can do a plot ascending order.\n",
    "\n",
    "\n",
    "###### Why have I standardized this?\n",
    "\n",
    "Because, universities in the Bay Area are different compared to each other in terms of size, rank, admission rate etc. So to make it comparable, we have to standardize the ratio of admission of men to that of women.\n",
    "\n",
    "For this section I learned about barplot from the below links:\n",
    "- https://seaborn.pydata.org/generated/seaborn.barplot.html\n",
    "- https://stackoverflow.com/questions/31859285/rotate-tick-labels-for-seaborn-barplot/31861477\n",
    "- https://stackoverflow.com/questions/11346283/renaming-columns-in-pandas\n"
   ]
  },
  {
   "cell_type": "code",
   "execution_count": 148,
   "metadata": {},
   "outputs": [
    {
     "data": {
      "image/png": "[encoded data removed]",
      "text/plain": [
       "<matplotlib.figure.Figure at 0x1d30167ad68>"
      ]
     },
     "metadata": {},
     "output_type": "display_data"
    }
   ],
   "source": [
    "students_bayarea = students[(students['ZIP'].str.startswith(('950','94')))  & (students['ENRLT'] > 999)].copy()\n",
    "\n",
    "mean_ratio = students_bayarea['ADMSSNM'].mean()/students_bayarea['ADMSSNW'].mean()\n",
    "\n",
    "students_bayarea['Standardized_Ratio'] = ((students['ADMSSNM']/students['ADMSSNW'])/mean_ratio)\n",
    "\n",
    "students_bayarea = students_bayarea.sort_values('Standardized_Ratio',ascending=True)\n",
    "   \n",
    "students_bayarea = students_bayarea.rename(columns={'INSTNM': 'Universities'})\n",
    "\n",
    "sn.barplot(x='Universities', y='Standardized_Ratio', data=students_bayarea).set_xticklabels(students_bayarea['Universities'], rotation=90);"
   ]
  },
  {
   "cell_type": "markdown",
   "metadata": {},
   "source": [
    "### Observation\n",
    "\n",
    "The plot is of universities with more than 1000 enrollments. And since these are standardized they can be compared. From this plot we can see that 4 universities have higher rate of enrollment for men with Stanfor Universities having the higher rate.\n",
    "And 4 universities having higher rate of enrollment for woment with University of San Francisco having the higher rate.\n",
    "\n",
    "We can make assumptions like there are more women in certain areas whereas men in others OR that some universities give admission to more women than men or vice versa as protocol. \n",
    "\n",
    "But we cannot conclude any of these assumptions, as said before, we need more data and hard facts. Moreover we do not know which year or timeline this data belongs to or a generic base year.\n",
    "\n",
    "\n",
    "## Conclusion\n",
    "\n",
    "- California has most number of universities in the US-West region.\n",
    "- Utah as a state has the highest total enrollment and the highest gender enrollment in the US-West region.\n",
    "- Unlike history, many universities have started accepting large number of women students.\n",
    "- In California, Stanford University has the highest men to women admission ratio where as University of San Francisco has the highest women to men admission ratio."
   ]
  }
 ],
 "metadata": {
  "kernelspec": {
   "display_name": "Python 3",
   "language": "python",
   "name": "python3"
  },
  "language_info": {
   "codemirror_mode": {
    "name": "ipython",
    "version": 3
   },
   "file_extension": ".py",
   "mimetype": "text/x-python",
   "name": "python",
   "nbconvert_exporter": "python",
   "pygments_lexer": "ipython3",
   "version": "3.6.3"
  },
  "toc": {
   "nav_menu": {},
   "number_sections": true,
   "sideBar": true,
   "skip_h1_title": false,
   "title_cell": "Table of Contents",
   "title_sidebar": "Contents",
   "toc_cell": false,
   "toc_position": {},
   "toc_section_display": "block",
   "toc_window_display": false
  },
  "varInspector": {
   "cols": {
    "lenName": 16,
    "lenType": 16,
    "lenVar": 40
   },
   "kernels_config": {
    "python": {
     "delete_cmd_postfix": "",
     "delete_cmd_prefix": "del ",
     "library": "var_list.py",
     "varRefreshCmd": "print(var_dic_list())"
    },
    "r": {
     "delete_cmd_postfix": ") ",
     "delete_cmd_prefix": "rm(",
     "library": "var_list.r",
     "varRefreshCmd": "cat(var_dic_list()) "
    }
   },
   "types_to_exclude": [
    "module",
    "function",
    "builtin_function_or_method",
    "instance",
    "_Feature"
   ],
   "window_display": false
  }
 },
 "nbformat": 4,
 "nbformat_minor": 2
}
