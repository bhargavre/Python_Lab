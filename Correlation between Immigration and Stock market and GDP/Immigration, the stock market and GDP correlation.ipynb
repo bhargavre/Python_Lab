{
 "cells": [
  {
   "cell_type": "markdown",
   "metadata": {},
   "source": [
    "# Introduction\n",
    "\n",
    "The main objective of this exercise is to find out what has a higher correlation with the GDP in the US: stock market returns or immigration?\n",
    "\n",
    "First, lets understand what is GPD, stock market returns and immigration\n",
    "\n",
    "- The gross domestic product (GDP) is an indicator used to analyse the health of a country's economy. It is the total dollar value of all goods and services produced over a specific time period. Aka. size of the economy\n",
    "\n",
    "- Stock Market Returns are the returns that the investors generate out of the stock market. This return could be in various forms like profit through trading or dividends given by the company to its shareholders.\n",
    "\n",
    "- Immigration here, refers to the total migrants in USA in a given year.\n",
    "\n",
    "Reference:\n",
    "- www.economywatch.com/stock-markets-in-world/returns.html\n",
    "- https://www.investopedia.com/ask/answers/199.asp\n",
    "\n",
    "\n",
    "# How did I find the correlation\n",
    "\n",
    "So to get this data, I tried to install the wbdata package to access the Worldbank data. Windows is truly bad when it comes to programming languages. I like to use Windows because I have been using it since I was a child and it comes to me much easier to me than Mac. The point here is that, package installation caused me trouble as I was trying to install it in the anaconda prompt which I use to run Jupyter. This caused errors and was truly frustrating. Hence I thought to start from scratch and followed http://jupyter.org/install to install jupyter directly using command prompt instead of using anaconda navigator. \n",
    "Once I installed this, I was successfully able to install the wbdata package.\n",
    "\n",
    "Since, this was installed I referred to http://wbdata.readthedocs.io/en/latest/wbdata.html?highlight=merge to use this package to gather data and perform the analysis."
   ]
  },
  {
   "cell_type": "code",
   "execution_count": 91,
   "metadata": {},
   "outputs": [],
   "source": [
    "from IPython.core.interactiveshell import InteractiveShell\n",
    "InteractiveShell.ast_node_interactivity = \"all\""
   ]
  },
  {
   "cell_type": "code",
   "execution_count": 92,
   "metadata": {},
   "outputs": [],
   "source": [
    "import wbdata\n",
    "import pandas"
   ]
  },
  {
   "cell_type": "code",
   "execution_count": 93,
   "metadata": {
    "scrolled": true
   },
   "outputs": [
    {
     "name": "stdout",
     "output_type": "stream",
     "text": [
      "11\tAfrica Development Indicators\n",
      "36\tStatistical Capacity Indicators\n",
      "31\tCountry Policy and Institutional Assessment\n",
      "41\tCountry Partnership Strategy for India (FY2013 - 17)\n",
      "1 \tDoing Business\n",
      "30\tExporter Dynamics Database ��� Indicators at Country-Year Level\n",
      "12\tEducation Statistics\n",
      "13\tEnterprise Surveys\n",
      "28\tGlobal Financial Inclusion\n",
      "33\tG20 Financial Inclusion Indicators\n",
      "14\tGender Statistics\n",
      "15\tGlobal Economic Monitor\n",
      "27\tGlobal Economic Prospects\n",
      "32\tGlobal Financial Development\n",
      "21\tGlobal Economic Monitor Commodities\n",
      "55\tCommodity Prices- History and Projections\n",
      "34\tGlobal Partnership for Education\n",
      "29\tThe Atlas of Social Protection: Indicators of Resilience and Equity\n",
      "16\tHealth Nutrition and Population Statistics\n",
      "39\tHealth Nutrition and Population Statistics by Wealth Quintile\n",
      "40\tPopulation estimates and projections\n",
      "18\tIDA Results Measurement System\n",
      "45\tIndonesia Database for Policy and Economic Research\n",
      "6 \tInternational Debt Statistics\n",
      "54\tJoint External Debt Hub\n",
      "25\tJobs\n",
      "37\tLAC Equity Lab\n",
      "19\tMillennium Development Goals\n",
      "24\tPoverty and Equity\n",
      "20\tQuarterly Public Sector Debt\n",
      "23\tQuarterly External Debt Statistics GDDS\n",
      "22\tQuarterly External Debt Statistics SDDS\n",
      "44\tReadiness for Investment in Sustainable Energy\n",
      "46\tSustainable Development Goals \n",
      "35\tSustainable Energy for All\n",
      "5 \tSubnational Malnutrition Database\n",
      "38\tSubnational Poverty\n",
      "50\tSubnational Population\n",
      "58\tUniversal Health Coverage\n",
      "43\tWealth accounting\n",
      "57\tWDI Database Archives\n",
      "2 \tWorld Development Indicators\n",
      "3 \tWorldwide Governance Indicators\n"
     ]
    }
   ],
   "source": [
    "wbdata.get_source()"
   ]
  },
  {
   "cell_type": "markdown",
   "metadata": {},
   "source": [
    "The above code, is used to list down the databases the worldbank package has.\n",
    "\n",
    "Here we can see the necessary databases like Population estimates and projections, Global Financial Development, and World Development Indicators to perform the analysis."
   ]
  },
  {
   "cell_type": "markdown",
   "metadata": {},
   "source": [
    "The below code (get_indicator) is to get deeper into the database and see the different kinds of data in the particular database. This data also  comes with their respective indicator (which you can see in the left column). These indicators can be used to extract data."
   ]
  },
  {
   "cell_type": "code",
   "execution_count": 94,
   "metadata": {},
   "outputs": [
    {
     "name": "stdout",
     "output_type": "stream",
     "text": [
      "SM.POP.NETM\tNet migration\n"
     ]
    }
   ],
   "source": [
    "#wbdata.get_indicator(source=40)\n",
    "wbdata.search_indicators(\"Net migration\")"
   ]
  },
  {
   "cell_type": "code",
   "execution_count": 95,
   "metadata": {},
   "outputs": [
    {
     "name": "stdout",
     "output_type": "stream",
     "text": [
      "GFDD.OM.02\tStock market return (%, year-on-year)\n"
     ]
    }
   ],
   "source": [
    "#wbdata.get_indicator(source=32)\n",
    "wbdata.search_indicators(\"Stock market return (%, year-on-year)\")"
   ]
  },
  {
   "cell_type": "code",
   "execution_count": 96,
   "metadata": {
    "scrolled": true
   },
   "outputs": [],
   "source": [
    "#wbdata.get_indicator(source=3)\n",
    "#wbdata.search_indicators(\"GDP per capita growth (annual %)\")"
   ]
  },
  {
   "cell_type": "markdown",
   "metadata": {},
   "source": [
    "The search_indicator function is used to search for particular data's indicator. The reason we use this code, is so that we can use this search instead to easily search for what data we want rather than manually searching through the long list. "
   ]
  },
  {
   "cell_type": "code",
   "execution_count": 97,
   "metadata": {},
   "outputs": [
    {
     "name": "stdout",
     "output_type": "stream",
     "text": [
      "NY.GDP.PCAP.KD.ZG\tGDP per capita growth (annual %)\n"
     ]
    }
   ],
   "source": [
    "wbdata.search_indicators(\"GDP per capita growth (annual %)\")"
   ]
  },
  {
   "cell_type": "code",
   "execution_count": 98,
   "metadata": {},
   "outputs": [],
   "source": [
    "# wbdata.get_dataframe(\"NY.GDP.PCAP.KD.ZG\", country='USA')\n",
    "gdpdf = wbdata.get_dataframe({\"NY.GDP.PCAP.KD.ZG\":\"GDP per capita growth (annual %)\"}, country=\"USA\", convert_date=True)"
   ]
  },
  {
   "cell_type": "markdown",
   "metadata": {},
   "source": [
    "### Issue with the GDP data\n",
    "\n",
    "There is not not much issue with the GDP data, except for the fact that the year 2017 and 1960 do not have values."
   ]
  },
  {
   "cell_type": "markdown",
   "metadata": {},
   "source": [
    "#### Similarly I found the data on Net Migration and Stock market Return (below)."
   ]
  },
  {
   "cell_type": "code",
   "execution_count": 99,
   "metadata": {
    "scrolled": true
   },
   "outputs": [],
   "source": [
    "nmigratndf = wbdata.get_dataframe({\"SM.POP.NETM\":\"Net migration\"}, country=\"USA\", convert_date=True)\n",
    "#nmigratndf"
   ]
  },
  {
   "cell_type": "code",
   "execution_count": 100,
   "metadata": {},
   "outputs": [],
   "source": [
    "stockdf = wbdata.get_dataframe({\"GFDD.OM.02\":\"Stock market return (%, year-on-year)\"}, country=\"USA\", convert_date=True)"
   ]
  },
  {
   "cell_type": "code",
   "execution_count": 101,
   "metadata": {
    "scrolled": true
   },
   "outputs": [],
   "source": [
    "#stockdf"
   ]
  },
  {
   "cell_type": "markdown",
   "metadata": {},
   "source": [
    "### Issues with the Net Migration and Stock market retun data\n",
    "\n",
    "The Net Migration data is only for every 5 years. Not all the values are present for all the years. For example there is no recent data. The last date for which data is present is the year 2012 and 2007 and so on. \n",
    "Also, we dont know if the immigration is cumulative for all the years or for that individual year.\n",
    "\n",
    "The Stock price data ends in 2015 and starts from 1961 (rather than 1960).\n",
    "\n"
   ]
  },
  {
   "cell_type": "markdown",
   "metadata": {},
   "source": [
    "#### To make it comparable we need net migration to be a % value. For this I needed the total population in US per year data."
   ]
  },
  {
   "cell_type": "markdown",
   "metadata": {},
   "source": [
    "From here on, I decided to gather information in terms of a dictionary, to have a (key, value) so it becomes easy to merge all the data together with the same key being the year.\n",
    "\n",
    "To get the total population I referred to https://data.worldbank.org/indicator/SP.POP.TOTL?locations=US, which I found in google.\n",
    "This also had indicator which I could use in the python code to extract data."
   ]
  },
  {
   "cell_type": "code",
   "execution_count": 102,
   "metadata": {},
   "outputs": [],
   "source": [
    "#wbdata.search_indicators(\"SP.POP.TOTL\")\n",
    "#totalpop = wbdata.get_dataframe({\"SM.POP.TOTL\":\"Total Polulation\"}, country=\"US\").to_dict()['Total Polulation']\n",
    "#t = totalpop.to_dict()['Total Polulation']"
   ]
  },
  {
   "cell_type": "markdown",
   "metadata": {},
   "source": [
    "### Issue with the code for total population\n",
    "\n",
    "Not all the values was present for all the years. Total population and immigration data, do not have values in the same year. This could cause a problem to calculate the percentage of net migration.\n",
    "\n",
    "This was a problem, so after reading a lot I came across the link https://pypi.python.org/pypi/wbpy/2.0.1, which uses the concept of Indicator API's and instead of using get_dataframe, this uses get_dataset (in other words gives datasets rather than dataframe). Only for the total population we use the wbpy package because the dataset gives all the values. \n",
    "\n",
    "First I had to install the wbpy package using the pip given in the link. Then refering this link, I extracted the data for total population which resulted in values for every year. This data also matched with the total population data in link I pasted above (https://data.worldbank.org/indicator/SP.POP.TOTL?locations=US)."
   ]
  },
  {
   "cell_type": "code",
   "execution_count": 103,
   "metadata": {},
   "outputs": [],
   "source": [
    "import wbpy\n",
    "import pandas as pd\n",
    "import numpy\n",
    "\n",
    "api = wbpy.IndicatorAPI()\n",
    "ds_total = api.get_dataset(\"SP.POP.TOTL\", [\"USA\"],date=\"1960:2017\").as_dict()[\"US\"]\n",
    "#ds_total"
   ]
  },
  {
   "cell_type": "markdown",
   "metadata": {},
   "source": [
    "As mentioned above I wanted to convert the data into dictionaries such that I would be able to merge the data based on key. The reason I chose to do it this way, is becase I was not able to merge the data without using dictionaries."
   ]
  },
  {
   "cell_type": "code",
   "execution_count": 104,
   "metadata": {},
   "outputs": [],
   "source": [
    "#ds_mig = api.get_dataset(\"SM.POP.NETM\", [\"USA\"],date=\"1960:2017\").as_dict()[\"US\"]\n",
    "ds_mig = wbdata.get_dataframe({\"SM.POP.NETM\":\"Net migration\"}, country=\"US\").to_dict()['Net migration']\n",
    "#ds_mig\n",
    "\n",
    "#ds_gdp = api.get_dataset(\"NY.GDP.PCAP.KD.ZG\", [\"USA\"],date=\"1960:2017\").as_dict()[\"US\"]\n",
    "ds_gdp = wbdata.get_dataframe({\"NY.GDP.PCAP.KD.ZG\":\"GDP per capita growth (annual %)\"}, country=\"US\").to_dict()['GDP per capita growth (annual %)']\n",
    "#ds_gdp\n",
    "\n",
    "#ds_stock = api.get_dataset(\"GFDD.OM.02\",[\"USA\"],date=\"1960:2017\").as_dict()[\"US\"]\n",
    "ds_stock = wbdata.get_dataframe({\"GFDD.OM.02\":\"Stock market return (%, year-on-year)\"}, country=\"US\").to_dict()['Stock market return (%, year-on-year)']\n",
    "#ds_stock"
   ]
  },
  {
   "cell_type": "code",
   "execution_count": 105,
   "metadata": {},
   "outputs": [],
   "source": [
    "ds_mig_gdp = {}\n",
    "ds_mig_gdp = {key:(ds_total[key], ds_mig[key], ds_gdp[key]) for key in ds_total}\n",
    "#ds_mig_gdp\n",
    "\n",
    "ds_stock_gdp = {}\n",
    "ds_stock_gdp = {key:(ds_stock[key], ds_gdp[key]) for key in ds_stock}\n",
    "#ds_stock_gdp"
   ]
  },
  {
   "cell_type": "markdown",
   "metadata": {},
   "source": [
    "Here I made 2 lists in a dictionary format one containing values (total population, net migration, GDP) and other (stock, GDP) for 2 reasons.\n",
    "- Firstly, I wanted to get the % value for net migration\n",
    "- Secondly, the main objective is to find the correlation between GDP & Net migration and GDP & Stock returns and compare which correlation is higher."
   ]
  },
  {
   "cell_type": "code",
   "execution_count": 106,
   "metadata": {},
   "outputs": [],
   "source": [
    "import math\n",
    "ds_mig_gdp1 ={}\n",
    "for key, value in ds_mig_gdp.items():\n",
    "    if  not math.isnan(ds_mig_gdp[key][1]):\n",
    "        ds_mig_gdp1[key] = [(ds_mig_gdp[key][1]/ds_mig_gdp[key][0]) * 100, ds_mig_gdp[key][2]]\n",
    "#ds_mig_gdp1"
   ]
  },
  {
   "cell_type": "markdown",
   "metadata": {},
   "source": [
    "The above code successfully assigns another list with the % value of Net Migration and the GDP. \n",
    "\n",
    "Now we have 2 lists in dictionary format with key being the year, and values being (Net Migration, GDP) and (Stock, GDP).\n",
    "\n",
    "This code also ignores the rows with NaN values. A simple if function that ignores any row with the NaN values. I referred the method .isnan() from the link: https://stackoverflow.com/questions/944700/how-can-i-check-for-nan-in-python"
   ]
  },
  {
   "cell_type": "code",
   "execution_count": 107,
   "metadata": {},
   "outputs": [],
   "source": [
    "#s = pd.Series(ds_mp2)\n",
    "s = pd.DataFrame.from_dict(ds_stock_gdp,'index')\n",
    "s.columns = ['stock','gdp']\n",
    "\n",
    "\n",
    "s1 = pd.DataFrame.from_dict(ds_mig_gdp1,'index')\n",
    "s1.columns = ['mig_per','gdp']"
   ]
  },
  {
   "cell_type": "markdown",
   "metadata": {},
   "source": [
    "Since the merging was done, I wanted to convert the dictionaries into meaningful dataframes. The above code does that for me. I referred to https://stackoverflow.com/questions/18837262/convert-python-dict-into-a-dataframe for the conversion from dictionary to dataframes. \n",
    "I also gave it meaninful column names (stock, gdp) and (mig_per, gdp). \n",
    "##### Another thing to note, since the time of the merge until now, I have made sure that the key remains the same which is the year (for which the values is available). Both the dataframes now match in terms of value present per year. "
   ]
  },
  {
   "cell_type": "markdown",
   "metadata": {},
   "source": [
    "# Observation\n",
    "\n",
    "Since the data extract, clean & merge task was accomplished. It was time for some obervation"
   ]
  },
  {
   "cell_type": "code",
   "execution_count": 108,
   "metadata": {},
   "outputs": [
    {
     "data": {
      "text/plain": [
       "<matplotlib.axes._subplots.AxesSubplot at 0x219b61457b8>"
      ]
     },
     "execution_count": 108,
     "metadata": {},
     "output_type": "execute_result"
    },
    {
     "data": {
      "text/plain": [
       "<matplotlib.axes._subplots.AxesSubplot at 0x219b088a8d0>"
      ]
     },
     "execution_count": 108,
     "metadata": {},
     "output_type": "execute_result"
    },
    {
     "data": {
      "text/html": [
       "<div>\n",
       "<style scoped>\n",
       "    .dataframe tbody tr th:only-of-type {\n",
       "        vertical-align: middle;\n",
       "    }\n",
       "\n",
       "    .dataframe tbody tr th {\n",
       "        vertical-align: top;\n",
       "    }\n",
       "\n",
       "    .dataframe thead th {\n",
       "        text-align: right;\n",
       "    }\n",
       "</style>\n",
       "<table border=\"1\" class=\"dataframe\">\n",
       "  <thead>\n",
       "    <tr style=\"text-align: right;\">\n",
       "      <th></th>\n",
       "      <th>stock</th>\n",
       "      <th>gdp</th>\n",
       "    </tr>\n",
       "  </thead>\n",
       "  <tbody>\n",
       "    <tr>\n",
       "      <th>stock</th>\n",
       "      <td>1.00000</td>\n",
       "      <td>0.32046</td>\n",
       "    </tr>\n",
       "    <tr>\n",
       "      <th>gdp</th>\n",
       "      <td>0.32046</td>\n",
       "      <td>1.00000</td>\n",
       "    </tr>\n",
       "  </tbody>\n",
       "</table>\n",
       "</div>"
      ],
      "text/plain": [
       "         stock      gdp\n",
       "stock  1.00000  0.32046\n",
       "gdp    0.32046  1.00000"
      ]
     },
     "execution_count": 108,
     "metadata": {},
     "output_type": "execute_result"
    },
    {
     "data": {
      "text/html": [
       "<div>\n",
       "<style scoped>\n",
       "    .dataframe tbody tr th:only-of-type {\n",
       "        vertical-align: middle;\n",
       "    }\n",
       "\n",
       "    .dataframe tbody tr th {\n",
       "        vertical-align: top;\n",
       "    }\n",
       "\n",
       "    .dataframe thead th {\n",
       "        text-align: right;\n",
       "    }\n",
       "</style>\n",
       "<table border=\"1\" class=\"dataframe\">\n",
       "  <thead>\n",
       "    <tr style=\"text-align: right;\">\n",
       "      <th></th>\n",
       "      <th>mig_per</th>\n",
       "      <th>gdp</th>\n",
       "    </tr>\n",
       "  </thead>\n",
       "  <tbody>\n",
       "    <tr>\n",
       "      <th>mig_per</th>\n",
       "      <td>1.000000</td>\n",
       "      <td>0.085958</td>\n",
       "    </tr>\n",
       "    <tr>\n",
       "      <th>gdp</th>\n",
       "      <td>0.085958</td>\n",
       "      <td>1.000000</td>\n",
       "    </tr>\n",
       "  </tbody>\n",
       "</table>\n",
       "</div>"
      ],
      "text/plain": [
       "          mig_per       gdp\n",
       "mig_per  1.000000  0.085958\n",
       "gdp      0.085958  1.000000"
      ]
     },
     "execution_count": 108,
     "metadata": {},
     "output_type": "execute_result"
    },
    {
     "data": {
      "text/plain": [
       "0.32046045963006187"
      ]
     },
     "execution_count": 108,
     "metadata": {},
     "output_type": "execute_result"
    },
    {
     "data": {
      "text/plain": [
       "0.08595837184348529"
      ]
     },
     "execution_count": 108,
     "metadata": {},
     "output_type": "execute_result"
    },
    {
     "data": {
      "image/png": "[encoded data removed]",
      "text/plain": [
       "<matplotlib.figure.Figure at 0x219b589e4e0>"
      ]
     },
     "metadata": {},
     "output_type": "display_data"
    },
    {
     "data": {
      "image/png": "[encoded data removed]",
      "text/plain": [
       "<matplotlib.figure.Figure at 0x219b2f5e5f8>"
      ]
     },
     "metadata": {},
     "output_type": "display_data"
    }
   ],
   "source": [
    "s.plot.line()\n",
    "s1.plot.line()\n",
    "\n",
    "s.corr()\n",
    "s1.corr()\n",
    "\n",
    "s['gdp'].corr(s['stock'])\n",
    "s1['gdp'].corr(s1['mig_per'])\n",
    "\n"
   ]
  },
  {
   "cell_type": "markdown",
   "metadata": {},
   "source": [
    "I referred to https://stackoverflow.com/questions/19428029/how-to-get-correlation-of-two-vectors-in-python to do the correlation between 2 columns in a dataframe.\n",
    "\n",
    "#### Now, what do we observe here?\n",
    "- Taking the graph 1 into consideration, we see that GDP across the years goes up and down but from what we can see, we cannot exactly say that stock raise or decline is affecting the GDP or vice versa.\n",
    "\n",
    "- Similarly in graph 2, is the migration data really affecting the GDP or vice versa?\n",
    "\n",
    "- So then I took the correlation data, we can see that with GDP, stock is correlated by 0.320 units\n",
    "\n",
    "- And GDP, with migrants % is correlated by 0.085 units\n",
    "\n",
    "#### Is the graph really effective?\n",
    "According to me considering the graph here is pointless. Because very less can be seen by our naked human eyes and our findings from this will be more error prone. \n",
    "\n",
    "\n",
    "# Conclusion\n",
    "\n",
    "Looking at the observation I could say that neither the Stock market returns nor Net Immigration is correlated with the GDP (because 0.32 is a very low value and is not close to 1). But considering their correlation the Stock market returns has a higher correlation with GDP than the Net Immigration."
   ]
  }
 ],
 "metadata": {
  "kernelspec": {
   "display_name": "Python 3",
   "language": "python",
   "name": "python3"
  },
  "language_info": {
   "codemirror_mode": {
    "name": "ipython",
    "version": 3
   },
   "file_extension": ".py",
   "mimetype": "text/x-python",
   "name": "python",
   "nbconvert_exporter": "python",
   "pygments_lexer": "ipython3",
   "version": "3.6.4"
  }
 },
 "nbformat": 4,
 "nbformat_minor": 2
}
