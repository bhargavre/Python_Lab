{
 "cells": [
  {
   "cell_type": "markdown",
   "metadata": {},
   "source": [
    "# Take Home Exam"
   ]
  },
  {
   "cell_type": "markdown",
   "metadata": {},
   "source": [
    "## Instructions:\n",
    "* Make sure that you run all code cells that are included in this notebook.\n",
    "* I will deduct points in **half-point steps** in the following cases:\n",
    "    * Your code does not work.\n",
    "    * You are not answering the question (Read carefully).\n",
    "    * Your code is slow or inefficient.\n",
    "    * You do not explain why you are doing what you are doing.\n",
    "    * Clean **unnecessary** elements before submission.\n",
    "    * **Check the rubric on Camino for this assignment!**\n",
    "    \n",
    "**The deadline is Saturday, February 10, 2018, 11:59PM**.\n",
    "\n",
    "**I am not available on Saturday and have only limited access to my email. If you have questions or issues, make sure you adress them on Friday. **"
   ]
  },
  {
   "cell_type": "markdown",
   "metadata": {
    "ExecuteTime": {
     "end_time": "2018-02-09T02:47:21.154845Z",
     "start_time": "2018-02-09T02:47:21.148053Z"
    }
   },
   "source": [
    "## Overview"
   ]
  },
  {
   "cell_type": "markdown",
   "metadata": {
    "collapsed": true
   },
   "source": [
    "#####  Hospital care has always been under scrutiny for their medical procedures and complications there of. Though news articles and reports give us an idea, knowledge that we can glean from real data is far more enriching. The data and the tools to analyze the data lets us make our conclusions and form opinions. "
   ]
  },
  {
   "cell_type": "code",
   "execution_count": 1,
   "metadata": {
    "collapsed": true
   },
   "outputs": [],
   "source": [
    "import numpy as np\n",
    "import pandas as pd\n",
    "pd.options.display.float_format = '{:.4f}'.format"
   ]
  },
  {
   "cell_type": "code",
   "execution_count": 2,
   "metadata": {
    "ExecuteTime": {
     "end_time": "2018-02-09T02:32:57.453215Z",
     "start_time": "2018-02-09T02:32:57.208930Z"
    },
    "collapsed": true
   },
   "outputs": [],
   "source": [
    "%matplotlib inline"
   ]
  },
  {
   "cell_type": "code",
   "execution_count": 3,
   "metadata": {
    "ExecuteTime": {
     "end_time": "2018-02-09T02:32:57.827511Z",
     "start_time": "2018-02-09T02:32:57.819390Z"
    },
    "collapsed": true
   },
   "outputs": [],
   "source": [
    "from IPython.core.interactiveshell import InteractiveShell\n",
    "InteractiveShell.ast_node_interactivity = \"all\""
   ]
  },
  {
   "cell_type": "code",
   "execution_count": 4,
   "metadata": {
    "ExecuteTime": {
     "end_time": "2018-02-09T02:32:59.474851Z",
     "start_time": "2018-02-09T02:32:58.389018Z"
    },
    "collapsed": true
   },
   "outputs": [],
   "source": [
    "cd = pd.read_csv('complications.csv', dtype=str).rename(columns=lambda x: x.strip())"
   ]
  },
  {
   "cell_type": "markdown",
   "metadata": {},
   "source": [
    "This dataset contains complications in U.S. hospitals. Each observation represents the number of complications and the 30-day death rate for a specific complication in <bold>a specific hospital.</bold>"
   ]
  },
  {
   "cell_type": "markdown",
   "metadata": {},
   "source": [
    "The columns are as follows:"
   ]
  },
  {
   "cell_type": "code",
   "execution_count": 5,
   "metadata": {
    "ExecuteTime": {
     "end_time": "2018-02-09T02:33:02.568935Z",
     "start_time": "2018-02-09T02:33:02.556557Z"
    }
   },
   "outputs": [
    {
     "data": {
      "text/plain": [
       "Index(['Provider ID', 'Hospital Name', 'Address', 'City', 'ZIP Code',\n",
       "       'County Name', 'Phone Number', 'Year', 'Measure ID', 'Measure Name',\n",
       "       'Denominator', 'Score', 'Lower Estimate', 'Higher Estimate'],\n",
       "      dtype='object')"
      ]
     },
     "execution_count": 5,
     "metadata": {},
     "output_type": "execute_result"
    }
   ],
   "source": [
    "cd.columns"
   ]
  },
  {
   "cell_type": "markdown",
   "metadata": {},
   "source": [
    "| Column Name | Description|\n",
    "|-------------|------------|\n",
    "|Provider ID | Unique ID of the hospital |\n",
    "|Hospital Name| Name of the hospital|\n",
    "|Address| Address of the hospital|\n",
    "|City| Name of the city the hospital is in |\n",
    "|ZIP Code | Postal code of the hospital|\n",
    "|County Name | Name of the county the hospital is in|\n",
    "|Phone Number | Phone number of the hospital |\n",
    "|Year | The year in which the complications were recorded|\n",
    "|Measure ID | Code for the complication |\n",
    "|Measure Name | Name of the complication|\n",
    "|Denominator| Number of underlying medical procedures|\n",
    "|Score | Estimate for number of serious complications |\n",
    "|Lower Estimate | Lower boundary of score|\n",
    "|Higher Estimate | Upper boundary of score|"
   ]
  },
  {
   "cell_type": "markdown",
   "metadata": {},
   "source": [
    "A quick overview of the dataset:"
   ]
  },
  {
   "cell_type": "code",
   "execution_count": 6,
   "metadata": {
    "ExecuteTime": {
     "end_time": "2018-02-09T02:33:06.354324Z",
     "start_time": "2018-02-09T02:33:05.407259Z"
    }
   },
   "outputs": [
    {
     "data": {
      "text/html": [
       "<div>\n",
       "<style>\n",
       "    .dataframe thead tr:only-child th {\n",
       "        text-align: right;\n",
       "    }\n",
       "\n",
       "    .dataframe thead th {\n",
       "        text-align: left;\n",
       "    }\n",
       "\n",
       "    .dataframe tbody tr th {\n",
       "        vertical-align: top;\n",
       "    }\n",
       "</style>\n",
       "<table border=\"1\" class=\"dataframe\">\n",
       "  <thead>\n",
       "    <tr style=\"text-align: right;\">\n",
       "      <th></th>\n",
       "      <th>Provider ID</th>\n",
       "      <th>Hospital Name</th>\n",
       "      <th>Address</th>\n",
       "      <th>City</th>\n",
       "      <th>ZIP Code</th>\n",
       "      <th>County Name</th>\n",
       "      <th>Phone Number</th>\n",
       "      <th>Year</th>\n",
       "      <th>Measure ID</th>\n",
       "      <th>Measure Name</th>\n",
       "      <th>Denominator</th>\n",
       "      <th>Score</th>\n",
       "      <th>Lower Estimate</th>\n",
       "      <th>Higher Estimate</th>\n",
       "    </tr>\n",
       "  </thead>\n",
       "  <tbody>\n",
       "    <tr>\n",
       "      <th>count</th>\n",
       "      <td>272788</td>\n",
       "      <td>272788</td>\n",
       "      <td>272788</td>\n",
       "      <td>272788</td>\n",
       "      <td>272788</td>\n",
       "      <td>272626</td>\n",
       "      <td>272788</td>\n",
       "      <td>272788</td>\n",
       "      <td>272788</td>\n",
       "      <td>272788</td>\n",
       "      <td>272788</td>\n",
       "      <td>272788</td>\n",
       "      <td>272788</td>\n",
       "      <td>272788</td>\n",
       "    </tr>\n",
       "    <tr>\n",
       "      <th>unique</th>\n",
       "      <td>4746</td>\n",
       "      <td>5119</td>\n",
       "      <td>4915</td>\n",
       "      <td>2874</td>\n",
       "      <td>4368</td>\n",
       "      <td>1526</td>\n",
       "      <td>5028</td>\n",
       "      <td>6</td>\n",
       "      <td>26</td>\n",
       "      <td>26</td>\n",
       "      <td>23771</td>\n",
       "      <td>6373</td>\n",
       "      <td>8690</td>\n",
       "      <td>11699</td>\n",
       "    </tr>\n",
       "    <tr>\n",
       "      <th>top</th>\n",
       "      <td>360133</td>\n",
       "      <td>MEMORIAL HOSPITAL</td>\n",
       "      <td>100 HOSPITAL DRIVE</td>\n",
       "      <td>CHICAGO</td>\n",
       "      <td>76104</td>\n",
       "      <td>LOS ANGELES</td>\n",
       "      <td>6104022273</td>\n",
       "      <td>2013</td>\n",
       "      <td>MORT_30_PN</td>\n",
       "      <td>Pneumonia (PN) 30-Day Mortality Rate</td>\n",
       "      <td>26.0</td>\n",
       "      <td>0.06</td>\n",
       "      <td>0.0</td>\n",
       "      <td>0.06</td>\n",
       "    </tr>\n",
       "    <tr>\n",
       "      <th>freq</th>\n",
       "      <td>89</td>\n",
       "      <td>710</td>\n",
       "      <td>378</td>\n",
       "      <td>1957</td>\n",
       "      <td>353</td>\n",
       "      <td>5421</td>\n",
       "      <td>178</td>\n",
       "      <td>58668</td>\n",
       "      <td>24942</td>\n",
       "      <td>24942</td>\n",
       "      <td>1435</td>\n",
       "      <td>2947</td>\n",
       "      <td>23907</td>\n",
       "      <td>2897</td>\n",
       "    </tr>\n",
       "  </tbody>\n",
       "</table>\n",
       "</div>"
      ],
      "text/plain": [
       "       Provider ID      Hospital Name             Address     City ZIP Code  \\\n",
       "count       272788             272788              272788   272788   272788   \n",
       "unique        4746               5119                4915     2874     4368   \n",
       "top         360133  MEMORIAL HOSPITAL  100 HOSPITAL DRIVE  CHICAGO    76104   \n",
       "freq            89                710                 378     1957      353   \n",
       "\n",
       "        County Name Phone Number    Year  Measure ID  \\\n",
       "count        272626       272788  272788      272788   \n",
       "unique         1526         5028       6          26   \n",
       "top     LOS ANGELES   6104022273    2013  MORT_30_PN   \n",
       "freq           5421          178   58668       24942   \n",
       "\n",
       "                                Measure Name Denominator   Score  \\\n",
       "count                                 272788      272788  272788   \n",
       "unique                                    26       23771    6373   \n",
       "top     Pneumonia (PN) 30-Day Mortality Rate        26.0    0.06   \n",
       "freq                                   24942        1435    2947   \n",
       "\n",
       "       Lower Estimate Higher Estimate  \n",
       "count          272788          272788  \n",
       "unique           8690           11699  \n",
       "top               0.0            0.06  \n",
       "freq            23907            2897  "
      ]
     },
     "execution_count": 6,
     "metadata": {},
     "output_type": "execute_result"
    }
   ],
   "source": [
    "cd.describe()"
   ]
  },
  {
   "cell_type": "markdown",
   "metadata": {},
   "source": [
    "A sample of the dataset:"
   ]
  },
  {
   "cell_type": "code",
   "execution_count": 7,
   "metadata": {
    "ExecuteTime": {
     "end_time": "2018-02-09T02:33:09.786940Z",
     "start_time": "2018-02-09T02:33:09.725225Z"
    }
   },
   "outputs": [
    {
     "data": {
      "text/html": [
       "<div>\n",
       "<style>\n",
       "    .dataframe thead tr:only-child th {\n",
       "        text-align: right;\n",
       "    }\n",
       "\n",
       "    .dataframe thead th {\n",
       "        text-align: left;\n",
       "    }\n",
       "\n",
       "    .dataframe tbody tr th {\n",
       "        vertical-align: top;\n",
       "    }\n",
       "</style>\n",
       "<table border=\"1\" class=\"dataframe\">\n",
       "  <thead>\n",
       "    <tr style=\"text-align: right;\">\n",
       "      <th></th>\n",
       "      <th>Provider ID</th>\n",
       "      <th>Hospital Name</th>\n",
       "      <th>Address</th>\n",
       "      <th>City</th>\n",
       "      <th>ZIP Code</th>\n",
       "      <th>County Name</th>\n",
       "      <th>Phone Number</th>\n",
       "      <th>Year</th>\n",
       "      <th>Measure ID</th>\n",
       "      <th>Measure Name</th>\n",
       "      <th>Denominator</th>\n",
       "      <th>Score</th>\n",
       "      <th>Lower Estimate</th>\n",
       "      <th>Higher Estimate</th>\n",
       "    </tr>\n",
       "  </thead>\n",
       "  <tbody>\n",
       "    <tr>\n",
       "      <th>22678</th>\n",
       "      <td>050222</td>\n",
       "      <td>SHARP CHULA VISTA MEDICAL CENTER</td>\n",
       "      <td>751 MEDICAL CENTER COURT</td>\n",
       "      <td>CHULA VISTA</td>\n",
       "      <td>91911</td>\n",
       "      <td>SAN DIEGO</td>\n",
       "      <td>6195025800</td>\n",
       "      <td>2016</td>\n",
       "      <td>MORT_30_PN</td>\n",
       "      <td>Pneumonia (PN) 30-Day Mortality Rate</td>\n",
       "      <td>474.0</td>\n",
       "      <td>14.3</td>\n",
       "      <td>12.1</td>\n",
       "      <td>16.8</td>\n",
       "    </tr>\n",
       "    <tr>\n",
       "      <th>22088</th>\n",
       "      <td>050191</td>\n",
       "      <td>ST MARY MEDICAL CENTER</td>\n",
       "      <td>1050 LINDEN AVE</td>\n",
       "      <td>LONG BEACH</td>\n",
       "      <td>90813</td>\n",
       "      <td>LOS ANGELES</td>\n",
       "      <td>5624919000</td>\n",
       "      <td>2012</td>\n",
       "      <td>PSI_14_POSTOP_DEHIS</td>\n",
       "      <td>A wound that splits open  after surgery on the...</td>\n",
       "      <td>102.0</td>\n",
       "      <td>1.78</td>\n",
       "      <td>0.0</td>\n",
       "      <td>3.64</td>\n",
       "    </tr>\n",
       "    <tr>\n",
       "      <th>111295</th>\n",
       "      <td>201309</td>\n",
       "      <td>MAYO REGIONAL HOSPITAL</td>\n",
       "      <td>897 WEST MAIN STREET</td>\n",
       "      <td>DOVER FOXCROFT</td>\n",
       "      <td>04426</td>\n",
       "      <td>PISCATAQUIS</td>\n",
       "      <td>2075644251</td>\n",
       "      <td>2014</td>\n",
       "      <td>MORT_30_STK</td>\n",
       "      <td>Death rate for stroke patients</td>\n",
       "      <td>43.0</td>\n",
       "      <td>14.1</td>\n",
       "      <td>10.2</td>\n",
       "      <td>18.9</td>\n",
       "    </tr>\n",
       "    <tr>\n",
       "      <th>44865</th>\n",
       "      <td>100012</td>\n",
       "      <td>LEE MEMORIAL HOSPITAL</td>\n",
       "      <td>2776 CLEVELAND AVE</td>\n",
       "      <td>FORT MYERS</td>\n",
       "      <td>33901</td>\n",
       "      <td>LEE</td>\n",
       "      <td>2393321111</td>\n",
       "      <td>2012</td>\n",
       "      <td>MORT_30_PN</td>\n",
       "      <td>Pneumonia (PN) 30-Day Mortality Rate</td>\n",
       "      <td>971.0</td>\n",
       "      <td>10.6</td>\n",
       "      <td>8.9</td>\n",
       "      <td>12.5</td>\n",
       "    </tr>\n",
       "    <tr>\n",
       "      <th>208974</th>\n",
       "      <td>390194</td>\n",
       "      <td>BLUE MOUNTAIN HOSPITAL-GNADEN HUETTEN CAMPUS</td>\n",
       "      <td>211 NORTH 12TH STREET</td>\n",
       "      <td>LEHIGHTON</td>\n",
       "      <td>18235</td>\n",
       "      <td>CARBON</td>\n",
       "      <td>6073771300</td>\n",
       "      <td>2016</td>\n",
       "      <td>MORT_30_STK</td>\n",
       "      <td>Death rate for stroke patients</td>\n",
       "      <td>72.0</td>\n",
       "      <td>15.7</td>\n",
       "      <td>11.7</td>\n",
       "      <td>20.8</td>\n",
       "    </tr>\n",
       "  </tbody>\n",
       "</table>\n",
       "</div>"
      ],
      "text/plain": [
       "       Provider ID                                 Hospital Name  \\\n",
       "22678       050222              SHARP CHULA VISTA MEDICAL CENTER   \n",
       "22088       050191                        ST MARY MEDICAL CENTER   \n",
       "111295      201309                        MAYO REGIONAL HOSPITAL   \n",
       "44865       100012                         LEE MEMORIAL HOSPITAL   \n",
       "208974      390194  BLUE MOUNTAIN HOSPITAL-GNADEN HUETTEN CAMPUS   \n",
       "\n",
       "                         Address            City ZIP Code  County Name  \\\n",
       "22678   751 MEDICAL CENTER COURT     CHULA VISTA    91911    SAN DIEGO   \n",
       "22088            1050 LINDEN AVE      LONG BEACH    90813  LOS ANGELES   \n",
       "111295      897 WEST MAIN STREET  DOVER FOXCROFT    04426  PISCATAQUIS   \n",
       "44865         2776 CLEVELAND AVE      FORT MYERS    33901          LEE   \n",
       "208974     211 NORTH 12TH STREET       LEHIGHTON    18235       CARBON   \n",
       "\n",
       "       Phone Number  Year           Measure ID  \\\n",
       "22678    6195025800  2016           MORT_30_PN   \n",
       "22088    5624919000  2012  PSI_14_POSTOP_DEHIS   \n",
       "111295   2075644251  2014          MORT_30_STK   \n",
       "44865    2393321111  2012           MORT_30_PN   \n",
       "208974   6073771300  2016          MORT_30_STK   \n",
       "\n",
       "                                             Measure Name Denominator Score  \\\n",
       "22678                Pneumonia (PN) 30-Day Mortality Rate       474.0  14.3   \n",
       "22088   A wound that splits open  after surgery on the...       102.0  1.78   \n",
       "111295                     Death rate for stroke patients        43.0  14.1   \n",
       "44865                Pneumonia (PN) 30-Day Mortality Rate       971.0  10.6   \n",
       "208974                     Death rate for stroke patients        72.0  15.7   \n",
       "\n",
       "       Lower Estimate Higher Estimate  \n",
       "22678            12.1            16.8  \n",
       "22088             0.0            3.64  \n",
       "111295           10.2            18.9  \n",
       "44865             8.9            12.5  \n",
       "208974           11.7            20.8  "
      ]
     },
     "execution_count": 7,
     "metadata": {},
     "output_type": "execute_result"
    }
   ],
   "source": [
    "cd.sample(5, random_state=1234).head()"
   ]
  },
  {
   "cell_type": "markdown",
   "metadata": {
    "ExecuteTime": {
     "end_time": "2018-02-09T01:16:45.300896Z",
     "start_time": "2018-02-09T01:16:45.295156Z"
    }
   },
   "source": [
    "# Transform relevant columns"
   ]
  },
  {
   "cell_type": "markdown",
   "metadata": {},
   "source": [
    "All columns in the dataset are of type `str` (to preserve the ZIP code information). For **five** columns, str is the wrong type. Change the columns and explain why you changed which column."
   ]
  },
  {
   "cell_type": "code",
   "execution_count": 8,
   "metadata": {
    "collapsed": true
   },
   "outputs": [],
   "source": [
    "#cd.dtypes\n",
    "cd[['Year','Denominator','Score','Lower Estimate','Higher Estimate']] = cd[['Year','Denominator','Score','Lower Estimate','Higher Estimate']].apply(pd.to_numeric)\n",
    "#cd.dtypes"
   ]
  },
  {
   "cell_type": "markdown",
   "metadata": {
    "collapsed": true
   },
   "source": [
    "##### The columns year, denomintor, score and lower and higher estimate can be used for comparison and computation. Mathematical forumulae might be applied on them to analyze the data. So they need to be numeric. For example min and max of the years of survery. Or ratio of the score and denominator."
   ]
  },
  {
   "cell_type": "markdown",
   "metadata": {
    "ExecuteTime": {
     "end_time": "2018-02-09T01:31:41.847890Z",
     "start_time": "2018-02-09T01:31:41.839019Z"
    }
   },
   "source": [
    "# Create a ratio between the score and the denominator"
   ]
  },
  {
   "cell_type": "markdown",
   "metadata": {
    "ExecuteTime": {
     "end_time": "2018-02-09T01:34:20.308451Z",
     "start_time": "2018-02-09T01:34:20.287272Z"
    }
   },
   "source": [
    "Create a new column in the dataset that contains the ratio value."
   ]
  },
  {
   "cell_type": "code",
   "execution_count": 9,
   "metadata": {
    "collapsed": true
   },
   "outputs": [],
   "source": [
    "#cd['Ratio'] = cd['Score'] / cd['Denominator']\n",
    "\n",
    "# But we have to check if the denominator is 0\n",
    "\n",
    "# A little longer but can check for non zero denominator\n",
    "\n",
    "#%timeit np.where(cd['Denominator'] == 0, cd['Score'], cd['Score']/cd['Denominator'])\n",
    "#%timeit cd['Score']/cd['Denominator']\n",
    "\n",
    "\n",
    "cd['Ratio'] = np.where(cd['Denominator'] == 0, cd['Score'], cd['Score']/cd['Denominator'])\n",
    "#cd.head(1)\n",
    "#cd"
   ]
  },
  {
   "cell_type": "markdown",
   "metadata": {
    "ExecuteTime": {
     "end_time": "2018-02-09T01:33:13.551872Z",
     "start_time": "2018-02-09T01:33:13.546879Z"
    }
   },
   "source": [
    "# Create an overview of the ratio for deathly complications"
   ]
  },
  {
   "cell_type": "markdown",
   "metadata": {},
   "source": [
    "0. **Be careful when you identify 'deathly' complications and make sure that you catch all of them.**\n",
    "1. Create the overview (Make sure that the overview is understandable to everyone.)\n",
    "2. Choose an appropriate measure to aggregate the data. **Ignore that the data is for multiple years**.\n",
    "2. Sort with the highest ratio on top."
   ]
  },
  {
   "cell_type": "markdown",
   "metadata": {
    "scrolled": false
   },
   "source": [
    "\n",
    "##### At a first glance the Denominator and the score that representes the number of underlying medical procedures and the Estimate for number of serious complications seemed to be the factors that need to be considered for \"deathly\" complications. But clearly there was something missing. Looking more into the data, the Measure Name seemed to have more details about the complications. There are different types of complications and that is what the Measure Name tells us. And the denominator and score needs to be interpreted based on the Measure Name or ID. \n",
    "##### As an example:\n",
    "##### A measure ID PSI_14_POSTOP_DEHIS means \"A wound that splits open  after surgery on the abdomen or pelvis\". Though this is a complication, it is not life threatening and does not cause mortality or death. And for this particular case 1.49 is the approximate number of serious complications for about 345 underlying medical procedures. \n",
    "##### On the other hands a measure ID PSI_4_SURG_COMP\tmeans \"Deaths among Patients with Serious Treatable Complications after Surgery\" with a score of 136.18 and denominator of 189. This is a \"deathly\" complication because it caused mortality.\n",
    "\n",
    "##### We need to look at all the unique Measures and see which ones cause death. \n",
    "\n"
   ]
  },
  {
   "cell_type": "code",
   "execution_count": 10,
   "metadata": {},
   "outputs": [
    {
     "data": {
      "text/plain": [
       "array(['Rate of complications for hip/knee replacement patients',\n",
       "       'Acute Myocardial Infarction (AMI) 30-Day Mortality Rate',\n",
       "       'Death rate for CABG',\n",
       "       'Death rate for chronic obstructive pulmonary disease (COPD) patients',\n",
       "       'Heart failure (HF) 30-Day Mortality Rate',\n",
       "       'Pneumonia (PN) 30-Day Mortality Rate',\n",
       "       'Death rate for stroke patients',\n",
       "       'Postoperative Acute Kidney Injury Requiring Dialysis Rate',\n",
       "       'Postoperative Respiratory Failure Rate',\n",
       "       'Serious blood clots after surgery',\n",
       "       'Blood stream infection after surgery',\n",
       "       'A wound that splits open  after surgery on the abdomen or pelvis',\n",
       "       'Accidental cuts and tears from medical treatment',\n",
       "       'Pressure sores',\n",
       "       'Deaths among Patients with Serious Treatable Complications after Surgery',\n",
       "       'Collapsed lung due to medical treatment',\n",
       "       'Infections from a large venous catheter',\n",
       "       'Broken hip from a fall after surgery',\n",
       "       'Perioperative Hemorrhage or Hematoma Rate',\n",
       "       'Acute Myocardial Infarction (AMI) 30-Day Readmission Rate',\n",
       "       'Rate of unplanned readmission for chronic obstructive pulmonary disease (COPD) patients',\n",
       "       'Heart failure (HF) 30-Day Readmission Rate',\n",
       "       'Rate of readmission after hip/knee surgery',\n",
       "       'Rate of readmission after discharge from hospital (hospital-wide)',\n",
       "       'Pneumonia (PN) 30-Day Readmission Rate',\n",
       "       'Rate of unplanned readmission for stroke patients'], dtype=object)"
      ]
     },
     "execution_count": 10,
     "metadata": {},
     "output_type": "execute_result"
    }
   ],
   "source": [
    "cd['Measure Name'].unique()"
   ]
  },
  {
   "cell_type": "markdown",
   "metadata": {},
   "source": [
    "##### The ones with the word 'Death' or 'Mortality' are the ones that indicate \"deadly\" complications.\n"
   ]
  },
  {
   "cell_type": "code",
   "execution_count": 11,
   "metadata": {},
   "outputs": [
    {
     "data": {
      "text/plain": [
       "array(['Acute Myocardial Infarction (AMI) 30-Day Mortality Rate',\n",
       "       'Death rate for CABG',\n",
       "       'Death rate for chronic obstructive pulmonary disease (COPD) patients',\n",
       "       'Heart failure (HF) 30-Day Mortality Rate',\n",
       "       'Pneumonia (PN) 30-Day Mortality Rate',\n",
       "       'Death rate for stroke patients',\n",
       "       'Deaths among Patients with Serious Treatable Complications after Surgery'], dtype=object)"
      ]
     },
     "execution_count": 11,
     "metadata": {},
     "output_type": "execute_result"
    },
    {
     "data": {
      "text/plain": [
       "array(['MORT_30_AMI', 'MORT_30_CABG', 'MORT_30_COPD', 'MORT_30_HF',\n",
       "       'MORT_30_PN', 'MORT_30_STK', 'PSI_4_SURG_COMP'], dtype=object)"
      ]
     },
     "execution_count": 11,
     "metadata": {},
     "output_type": "execute_result"
    }
   ],
   "source": [
    "cd_name = cd[cd['Measure Name'].str.contains(\"Death|Mortality\")]\n",
    "cd_name['Measure Name'].unique()\n",
    "cd_name['Measure ID'].unique()"
   ]
  },
  {
   "cell_type": "markdown",
   "metadata": {},
   "source": [
    "##### These seven complications lead to death/mortality and are the ones that we need to focus on for this analysis. Looking at the corresponding Measure ID we see that the ones with MORT and SURG_COMP are the ones we need to focus on "
   ]
  },
  {
   "cell_type": "code",
   "execution_count": 12,
   "metadata": {
    "collapsed": true
   },
   "outputs": [],
   "source": [
    "\n",
    "#We can pick Measure ID - MORT AND SURG_COMP\n",
    "\n",
    "cd_dcomp = cd[cd['Measure ID'].str.contains(\"MORT|SURG_COMP\")]\n",
    "#cd_comp\n"
   ]
  },
  {
   "cell_type": "markdown",
   "metadata": {},
   "source": [
    "##### Given that we have these 7 complications, it would be good to see how many deaths do they cause. We can see if all these complications have the same score to denominator ratio. For this we group by Measure ID and use the describe function to get the mean Ratio per Measure ID. \n",
    "##### We next plot the ratio against the deathly complications and see how they compare against each other visually."
   ]
  },
  {
   "cell_type": "code",
   "execution_count": 13,
   "metadata": {},
   "outputs": [
    {
     "data": {
      "text/html": [
       "<div>\n",
       "<style>\n",
       "    .dataframe thead tr:only-child th {\n",
       "        text-align: right;\n",
       "    }\n",
       "\n",
       "    .dataframe thead th {\n",
       "        text-align: left;\n",
       "    }\n",
       "\n",
       "    .dataframe tbody tr th {\n",
       "        vertical-align: top;\n",
       "    }\n",
       "</style>\n",
       "<table border=\"1\" class=\"dataframe\">\n",
       "  <thead>\n",
       "    <tr style=\"text-align: right;\">\n",
       "      <th></th>\n",
       "      <th>count</th>\n",
       "      <th>mean</th>\n",
       "      <th>std</th>\n",
       "      <th>min</th>\n",
       "      <th>25%</th>\n",
       "      <th>50%</th>\n",
       "      <th>75%</th>\n",
       "      <th>max</th>\n",
       "    </tr>\n",
       "    <tr>\n",
       "      <th>Measure ID</th>\n",
       "      <th></th>\n",
       "      <th></th>\n",
       "      <th></th>\n",
       "      <th></th>\n",
       "      <th></th>\n",
       "      <th></th>\n",
       "      <th></th>\n",
       "      <th></th>\n",
       "    </tr>\n",
       "  </thead>\n",
       "  <tbody>\n",
       "    <tr>\n",
       "      <th>PSI_4_SURG_COMP</th>\n",
       "      <td>7515.0000</td>\n",
       "      <td>0.5244</td>\n",
       "      <td>0.2329</td>\n",
       "      <td>0.1132</td>\n",
       "      <td>0.3159</td>\n",
       "      <td>0.4935</td>\n",
       "      <td>0.7134</td>\n",
       "      <td>0.9997</td>\n",
       "    </tr>\n",
       "    <tr>\n",
       "      <th>MORT_30_STK</th>\n",
       "      <td>16593.0000</td>\n",
       "      <td>0.1848</td>\n",
       "      <td>0.1613</td>\n",
       "      <td>0.0070</td>\n",
       "      <td>0.0594</td>\n",
       "      <td>0.1179</td>\n",
       "      <td>0.2740</td>\n",
       "      <td>0.7000</td>\n",
       "    </tr>\n",
       "    <tr>\n",
       "      <th>MORT_30_AMI</th>\n",
       "      <td>14817.0000</td>\n",
       "      <td>0.1599</td>\n",
       "      <td>0.1452</td>\n",
       "      <td>0.0068</td>\n",
       "      <td>0.0522</td>\n",
       "      <td>0.1020</td>\n",
       "      <td>0.2246</td>\n",
       "      <td>0.6680</td>\n",
       "    </tr>\n",
       "    <tr>\n",
       "      <th>MORT_30_HF</th>\n",
       "      <td>22275.0000</td>\n",
       "      <td>0.1217</td>\n",
       "      <td>0.1201</td>\n",
       "      <td>0.0033</td>\n",
       "      <td>0.0319</td>\n",
       "      <td>0.0719</td>\n",
       "      <td>0.1762</td>\n",
       "      <td>0.6360</td>\n",
       "    </tr>\n",
       "    <tr>\n",
       "      <th>MORT_30_PN</th>\n",
       "      <td>24942.0000</td>\n",
       "      <td>0.1159</td>\n",
       "      <td>0.1169</td>\n",
       "      <td>0.0044</td>\n",
       "      <td>0.0355</td>\n",
       "      <td>0.0717</td>\n",
       "      <td>0.1505</td>\n",
       "      <td>0.7520</td>\n",
       "    </tr>\n",
       "    <tr>\n",
       "      <th>MORT_30_COPD</th>\n",
       "      <td>21738.0000</td>\n",
       "      <td>0.0833</td>\n",
       "      <td>0.0751</td>\n",
       "      <td>0.0028</td>\n",
       "      <td>0.0275</td>\n",
       "      <td>0.0536</td>\n",
       "      <td>0.1177</td>\n",
       "      <td>0.3640</td>\n",
       "    </tr>\n",
       "    <tr>\n",
       "      <th>MORT_30_CABG</th>\n",
       "      <td>3102.0000</td>\n",
       "      <td>0.0415</td>\n",
       "      <td>0.0308</td>\n",
       "      <td>0.0016</td>\n",
       "      <td>0.0177</td>\n",
       "      <td>0.0337</td>\n",
       "      <td>0.0560</td>\n",
       "      <td>0.1750</td>\n",
       "    </tr>\n",
       "  </tbody>\n",
       "</table>\n",
       "</div>"
      ],
      "text/plain": [
       "                     count   mean    std    min    25%    50%    75%    max\n",
       "Measure ID                                                                 \n",
       "PSI_4_SURG_COMP  7515.0000 0.5244 0.2329 0.1132 0.3159 0.4935 0.7134 0.9997\n",
       "MORT_30_STK     16593.0000 0.1848 0.1613 0.0070 0.0594 0.1179 0.2740 0.7000\n",
       "MORT_30_AMI     14817.0000 0.1599 0.1452 0.0068 0.0522 0.1020 0.2246 0.6680\n",
       "MORT_30_HF      22275.0000 0.1217 0.1201 0.0033 0.0319 0.0719 0.1762 0.6360\n",
       "MORT_30_PN      24942.0000 0.1159 0.1169 0.0044 0.0355 0.0717 0.1505 0.7520\n",
       "MORT_30_COPD    21738.0000 0.0833 0.0751 0.0028 0.0275 0.0536 0.1177 0.3640\n",
       "MORT_30_CABG     3102.0000 0.0415 0.0308 0.0016 0.0177 0.0337 0.0560 0.1750"
      ]
     },
     "execution_count": 13,
     "metadata": {},
     "output_type": "execute_result"
    },
    {
     "data": {
      "text/plain": [
       "<matplotlib.axes._subplots.AxesSubplot at 0x2ae8b558710>"
      ]
     },
     "execution_count": 13,
     "metadata": {},
     "output_type": "execute_result"
    },
    {
     "data": {
      "image/png": "[encoded data removed]",
      "text/plain": [
       "<matplotlib.figure.Figure at 0x2ae8b778588>"
      ]
     },
     "metadata": {},
     "output_type": "display_data"
    }
   ],
   "source": [
    "cd_dcomp['Ratio'].groupby(cd_dcomp['Measure ID']).describe().sort_values(['mean'],ascending=False)\n",
    "cd_dcomp['Ratio'].groupby(cd['Measure ID']).describe().sort_values(['mean'],ascending=False).reset_index().plot.bar(x='Measure ID',y='mean')\n",
    "#dcomp.plot.bar(x='Measure ID',y='mean')\n",
    "#list(cd['Ratio'].groupby(cd['Measure ID']))"
   ]
  },
  {
   "cell_type": "markdown",
   "metadata": {},
   "source": [
    "##### From the above sorted bar plot, we can see that the average ratio for deathly complications is the highest for 'Deaths among Patients with Serious Treatable Complications after Surgery' and least for 'Death rate for CABG'.\n",
    "\n",
    "##### The below code gives us the measure name (description) of the highest and least ratio complication by using the Measure ID as key."
   ]
  },
  {
   "cell_type": "code",
   "execution_count": 14,
   "metadata": {},
   "outputs": [
    {
     "data": {
      "text/plain": [
       "['Deaths among Patients with Serious Treatable Complications after Surgery']"
      ]
     },
     "execution_count": 14,
     "metadata": {},
     "output_type": "execute_result"
    },
    {
     "data": {
      "text/plain": [
       "array(['Death rate for CABG'], dtype=object)"
      ]
     },
     "execution_count": 14,
     "metadata": {},
     "output_type": "execute_result"
    }
   ],
   "source": [
    "#cd[cd.'\\Measure ID'=='PSI_4_SURG_COMP'].'\\Measure Name'\n",
    "#cd.get_value(index , col, takeable=False)\n",
    "list(cd[(cd['Measure ID']=='PSI_4_SURG_COMP')]['Measure Name'].unique())\n",
    "\n",
    "cd[(cd['Measure ID']=='MORT_30_CABG')]['Measure Name'].unique()"
   ]
  },
  {
   "cell_type": "markdown",
   "metadata": {
    "ExecuteTime": {
     "end_time": "2018-02-09T01:37:40.834697Z",
     "start_time": "2018-02-09T01:37:40.831044Z"
    }
   },
   "source": [
    "# Identify the five safest hospitals"
   ]
  },
  {
   "cell_type": "markdown",
   "metadata": {},
   "source": [
    "Return a **list** with the hospitals that have, on average, the lowest rate of deadly complications. **Be careful when you identify 'deathly' complications.** (Again, ignore that the dataset covers multiple years)."
   ]
  },
  {
   "cell_type": "code",
   "execution_count": 15,
   "metadata": {},
   "outputs": [
    {
     "data": {
      "text/html": [
       "<div>\n",
       "<style>\n",
       "    .dataframe thead tr:only-child th {\n",
       "        text-align: right;\n",
       "    }\n",
       "\n",
       "    .dataframe thead th {\n",
       "        text-align: left;\n",
       "    }\n",
       "\n",
       "    .dataframe tbody tr th {\n",
       "        vertical-align: top;\n",
       "    }\n",
       "</style>\n",
       "<table border=\"1\" class=\"dataframe\">\n",
       "  <thead>\n",
       "    <tr style=\"text-align: right;\">\n",
       "      <th></th>\n",
       "      <th></th>\n",
       "      <th>Ratio</th>\n",
       "    </tr>\n",
       "    <tr>\n",
       "      <th>Provider ID</th>\n",
       "      <th>Hospital Name</th>\n",
       "      <th></th>\n",
       "    </tr>\n",
       "  </thead>\n",
       "  <tbody>\n",
       "    <tr>\n",
       "      <th>210043</th>\n",
       "      <th>UNIVERITY OF MD BALTO WASHINGTON  MEDICAL CENTER</th>\n",
       "      <td>0.0206</td>\n",
       "    </tr>\n",
       "    <tr>\n",
       "      <th>330101</th>\n",
       "      <th>NEW YORK-PRESBYTERIAN HOSPITAL</th>\n",
       "      <td>0.0220</td>\n",
       "    </tr>\n",
       "    <tr>\n",
       "      <th>180088</th>\n",
       "      <th>NORTON HOSPITALS, INC</th>\n",
       "      <td>0.0226</td>\n",
       "    </tr>\n",
       "    <tr>\n",
       "      <th>40003F</th>\n",
       "      <th>SAN JUAN VA MEDICAL CENTER</th>\n",
       "      <td>0.0240</td>\n",
       "    </tr>\n",
       "    <tr>\n",
       "      <th>100007</th>\n",
       "      <th>FLORIDA HOSPITAL</th>\n",
       "      <td>0.0256</td>\n",
       "    </tr>\n",
       "  </tbody>\n",
       "</table>\n",
       "</div>"
      ],
      "text/plain": [
       "                                                              Ratio\n",
       "Provider ID Hospital Name                                          \n",
       "210043      UNIVERITY OF MD BALTO WASHINGTON  MEDICAL CENTER 0.0206\n",
       "330101      NEW YORK-PRESBYTERIAN HOSPITAL                   0.0220\n",
       "180088      NORTON HOSPITALS, INC                            0.0226\n",
       "40003F      SAN JUAN VA MEDICAL CENTER                       0.0240\n",
       "100007      FLORIDA HOSPITAL                                 0.0256"
      ]
     },
     "execution_count": 15,
     "metadata": {},
     "output_type": "execute_result"
    }
   ],
   "source": [
    "#len(cd[(cd.Ratio == 0.0)])\n",
    "#cd.sort_values(['Ratio'], ascending=True).head(5)\n",
    "#cd.groupby(cd['Provider ID','Measure ID'])\n",
    "#print(cd[['Provider ID','Measure ID','Ratio']].groupby(['Provider ID','Measure ID']).mean())\n",
    "\n",
    "cd_dcomp[['Provider ID','Hospital Name','Ratio']].groupby(['Provider ID','Hospital Name']).mean().sort_values(['Ratio'],ascending=True).head()"
   ]
  },
  {
   "cell_type": "markdown",
   "metadata": {},
   "source": [
    "##### Now that we have the dataset that is filtered on complications that causes death/mortalility, we can use this for our analysis. Amongst the hospitals with varrying rates of deathly complications, the above is a list of 5 hospitals with the lowest rate of deadly complications. "
   ]
  },
  {
   "cell_type": "markdown",
   "metadata": {
    "ExecuteTime": {
     "end_time": "2018-02-09T01:54:20.635175Z",
     "start_time": "2018-02-09T01:54:20.626192Z"
    }
   },
   "source": [
    "# Augment the datset with information about the state"
   ]
  },
  {
   "cell_type": "markdown",
   "metadata": {
    "ExecuteTime": {
     "end_time": "2018-02-09T01:55:10.296708Z",
     "start_time": "2018-02-09T01:55:10.285834Z"
    }
   },
   "source": [
    "Read the file `geo-data.csv` into an object `zip_codes`. **Make sure that you read all columns as string.** ([Link](https://github.com/scpike/us-state-county-zip))"
   ]
  },
  {
   "cell_type": "code",
   "execution_count": 16,
   "metadata": {
    "collapsed": true
   },
   "outputs": [],
   "source": [
    "zip_codes = pd.read_csv('geo-data.csv', dtype=str).rename(columns=lambda x: x.strip())"
   ]
  },
  {
   "cell_type": "markdown",
   "metadata": {},
   "source": [
    "This file contains information about the relationship of zip codes, counties, and U.S. states. "
   ]
  },
  {
   "cell_type": "code",
   "execution_count": 17,
   "metadata": {
    "ExecuteTime": {
     "end_time": "2018-02-09T02:35:13.640199Z",
     "start_time": "2018-02-09T02:35:13.627558Z"
    },
    "collapsed": true
   },
   "outputs": [],
   "source": [
    "#zip_codes.columns\n",
    "#zip_codes=zip_codes.rename(columns = {'zipcode':'ZIP code'})\n",
    "#zip_codes.columns"
   ]
  },
  {
   "cell_type": "markdown",
   "metadata": {},
   "source": [
    "| Column Name | Description|\n",
    "|-------------|------------|\n",
    "|state_fips | FIPS code for the state |\n",
    "|state| Name of the state|\n",
    "|state_abbr| Abbreviation of the state|\n",
    "|zipcode | Postal code|\n",
    "|county | County name|\n",
    "|city | City name  |"
   ]
  },
  {
   "cell_type": "markdown",
   "metadata": {},
   "source": [
    "1. Combine the dataset on complications with the dateset on zip codes.\n",
    "2. Explain why you chose the column that used to combine the datasets.\n",
    "3. **Do not worry, not all states will be matched.**"
   ]
  },
  {
   "cell_type": "code",
   "execution_count": 18,
   "metadata": {
    "collapsed": true
   },
   "outputs": [],
   "source": [
    "#merged_left = pd.merge(left=cd,right=zip_codes, how='left', left_on='ZIP code', right_on='zipcode')\n",
    "#cdzip = cd.set_index('ZIP code')\n",
    "#cd.columns\n",
    "cdzip = cd.merge(zip_codes, how='left', left_on='ZIP Code', right_on='zipcode',left_index=True)\n",
    "#cdzip\n",
    "cdzip_dcomp = cd_dcomp.merge(zip_codes, how='left', left_on='ZIP Code', right_on='zipcode',left_index=True)\n"
   ]
  },
  {
   "cell_type": "markdown",
   "metadata": {},
   "source": [
    "##### 1) Here I have left merged the geo-data dataset to the complications dataset on the zip code column, because the zipcode column values in the geo-data dataset match that of the complications file. And also zip code is the only column that is unambiguous. The column name of zip code is different in the two tables so they need to be explictity called out as left_on and right_on. I have used the left merge where the left table (cd_dcomp) is the main table and data is gathered from the right table(zip_codes) to add to the left.\n",
    "\n",
    "##### 2) This cd_dcomp data set has the records of only the deathly complications with state value. And cdzip has the entire data set 'complications' merged with the states value. \n",
    "\n",
    "#####  Reference for merging : https://pandas.pydata.org/pandas-docs/stable/merging.html "
   ]
  },
  {
   "cell_type": "markdown",
   "metadata": {
    "ExecuteTime": {
     "end_time": "2018-02-09T02:01:36.232035Z",
     "start_time": "2018-02-09T02:01:36.225785Z"
    }
   },
   "source": [
    "# Create an overview of the complications per U.S. state"
   ]
  },
  {
   "cell_type": "markdown",
   "metadata": {},
   "source": [
    "* Return a sorted list with the overall complication rate per state. \n",
    "* Ignore that the data is for multiple years. \n",
    "* Focus on the **best** ten states."
   ]
  },
  {
   "cell_type": "markdown",
   "metadata": {
    "scrolled": true
   },
   "source": [
    "#####  For computing the overall complication rate I debated between sum and mean. Given that the data available for all the states might not be for the same number of years, mean seemed to be the best way for a comparison. So I choose to group by state and take a mean of the the ratios of all the hospitals in that state. "
   ]
  },
  {
   "cell_type": "code",
   "execution_count": 19,
   "metadata": {},
   "outputs": [
    {
     "data": {
      "text/html": [
       "<div>\n",
       "<style>\n",
       "    .dataframe thead tr:only-child th {\n",
       "        text-align: right;\n",
       "    }\n",
       "\n",
       "    .dataframe thead th {\n",
       "        text-align: left;\n",
       "    }\n",
       "\n",
       "    .dataframe tbody tr th {\n",
       "        vertical-align: top;\n",
       "    }\n",
       "</style>\n",
       "<table border=\"1\" class=\"dataframe\">\n",
       "  <thead>\n",
       "    <tr style=\"text-align: right;\">\n",
       "      <th></th>\n",
       "      <th>state</th>\n",
       "      <th>Ratio</th>\n",
       "    </tr>\n",
       "  </thead>\n",
       "  <tbody>\n",
       "    <tr>\n",
       "      <th>6</th>\n",
       "      <td>Delaware</td>\n",
       "      <td>0.0634</td>\n",
       "    </tr>\n",
       "    <tr>\n",
       "      <th>18</th>\n",
       "      <td>Maryland</td>\n",
       "      <td>0.0685</td>\n",
       "    </tr>\n",
       "    <tr>\n",
       "      <th>8</th>\n",
       "      <td>Florida</td>\n",
       "      <td>0.0756</td>\n",
       "    </tr>\n",
       "    <tr>\n",
       "      <th>7</th>\n",
       "      <td>District of columbia</td>\n",
       "      <td>0.0777</td>\n",
       "    </tr>\n",
       "    <tr>\n",
       "      <th>39</th>\n",
       "      <td>Virginia</td>\n",
       "      <td>0.0796</td>\n",
       "    </tr>\n",
       "    <tr>\n",
       "      <th>33</th>\n",
       "      <td>Pennsylvania</td>\n",
       "      <td>0.0869</td>\n",
       "    </tr>\n",
       "    <tr>\n",
       "      <th>27</th>\n",
       "      <td>New york</td>\n",
       "      <td>0.0881</td>\n",
       "    </tr>\n",
       "    <tr>\n",
       "      <th>34</th>\n",
       "      <td>South carolina</td>\n",
       "      <td>0.0893</td>\n",
       "    </tr>\n",
       "    <tr>\n",
       "      <th>28</th>\n",
       "      <td>North carolina</td>\n",
       "      <td>0.0899</td>\n",
       "    </tr>\n",
       "    <tr>\n",
       "      <th>30</th>\n",
       "      <td>Ohio</td>\n",
       "      <td>0.0918</td>\n",
       "    </tr>\n",
       "  </tbody>\n",
       "</table>\n",
       "</div>"
      ],
      "text/plain": [
       "                   state  Ratio\n",
       "6               Delaware 0.0634\n",
       "18              Maryland 0.0685\n",
       "8                Florida 0.0756\n",
       "7   District of columbia 0.0777\n",
       "39              Virginia 0.0796\n",
       "33          Pennsylvania 0.0869\n",
       "27              New york 0.0881\n",
       "34        South carolina 0.0893\n",
       "28        North carolina 0.0899\n",
       "30                  Ohio 0.0918"
      ]
     },
     "execution_count": 19,
     "metadata": {},
     "output_type": "execute_result"
    }
   ],
   "source": [
    "#cdzip[['state','Ratio']].groupby(['state']).mean().sort_values(['Ratio'],ascending=True).head(10)\n",
    "\n",
    "#top10 = cdzip[['state','Ratio']].groupby(['state']).mean().sort_values(['Ratio'],ascending=True).head(10)\n",
    "\n",
    "#top = cdzip[['state','Ratio']].groupby(['state']).mean().reset_index().sort_values(['Ratio'],ascending=True)\n",
    "#top.drop(['Ratio'],axis=1)\n",
    "\n",
    "\n",
    "top = cdzip[['state','Ratio']].groupby(['state']).mean().reset_index().sort_values(['Ratio'],ascending=True)\n",
    "#top\n",
    "top.head(10)"
   ]
  },
  {
   "cell_type": "markdown",
   "metadata": {},
   "source": [
    "#####  These 10 states represent the lowest rate of complications. This means that the complications caused by procedures in hostpitals of these states are the lowest in the US. \n",
    "#####  Below just gives a graphical representation."
   ]
  },
  {
   "cell_type": "code",
   "execution_count": 20,
   "metadata": {},
   "outputs": [
    {
     "data": {
      "text/plain": [
       "<matplotlib.axes._subplots.AxesSubplot at 0x2ae8b4f2240>"
      ]
     },
     "execution_count": 20,
     "metadata": {},
     "output_type": "execute_result"
    },
    {
     "data": {
      "image/png": "[encoded data removed]",
      "text/plain": [
       "<matplotlib.figure.Figure at 0x2ae8b4c30b8>"
      ]
     },
     "metadata": {},
     "output_type": "display_data"
    }
   ],
   "source": [
    "# Best 10 States\n",
    "#top.drop(['Ratio'],axis=1).head(10)\n",
    "top.head(10).plot.bar(x='state',y='Ratio')"
   ]
  },
  {
   "cell_type": "markdown",
   "metadata": {},
   "source": [
    "# Create an overview of the change in complications across U.S. states"
   ]
  },
  {
   "cell_type": "markdown",
   "metadata": {},
   "source": [
    "* Focus on the deadly complications only.\n",
    "* Calculate the change as follows: **(average rate for last year in dataset - average rate for first year in dataset)/(average rate for first year in dataset)**"
   ]
  },
  {
   "cell_type": "code",
   "execution_count": 21,
   "metadata": {
    "collapsed": true
   },
   "outputs": [],
   "source": [
    "#cdzip[['state','Year']].groupby(['state','Year']).mean().sort_values(['Ratio'],ascending=True).head(10)\n",
    "state_year = cdzip_dcomp[['state','Year','Ratio']].groupby(['state','Year']).mean().reset_index().sort_values(['Ratio'],ascending=False)\n",
    "#state_year.columns\n",
    "#state_year"
   ]
  },
  {
   "cell_type": "code",
   "execution_count": 22,
   "metadata": {
    "collapsed": true,
    "scrolled": true
   },
   "outputs": [],
   "source": [
    "#merge = top.merge(state_year, how='left', left_on='state', right_on='state',left_index=True)\n"
   ]
  },
  {
   "cell_type": "code",
   "execution_count": 23,
   "metadata": {
    "collapsed": true,
    "scrolled": false
   },
   "outputs": [],
   "source": [
    "#merge[merge.reset_index().groupby(['state'])['Year'].max()]\n",
    "#merge[['state','Year','Ratio']].groupby(['state'])['Year'].max()\n",
    "max = state_year.iloc[state_year.reset_index().groupby(['state'])['Year'].idxmax()]\n",
    "min = state_year.iloc[state_year.reset_index().groupby(['state'])['Year'].idxmin()]\n",
    "#min\n",
    "#max"
   ]
  },
  {
   "cell_type": "code",
   "execution_count": 24,
   "metadata": {
    "collapsed": true
   },
   "outputs": [],
   "source": [
    "minmax = max.merge(min, how='left', left_on='state', right_on='state',left_index=True)\n",
    "#minmax.columns\n",
    "minmax['change']=(minmax['Ratio_x']-minmax['Ratio_y'])/minmax['Ratio_y']\n",
    "#minmax"
   ]
  },
  {
   "cell_type": "markdown",
   "metadata": {},
   "source": [
    "##### This piece was exceptionally challenging compared to the other questions. I first created a dataset from the deadly compositions dataset and grouped by state and year by taking mean of Ratio. I then created datasets max and min to have the first and last year data. I referred https://pandas.pydata.org/pandas-docs/stable/generated/pandas.DataFrame.idxmax.html for idxmax() function. \n",
    "\n",
    "##### I then merged min and max and calculated the change. "
   ]
  },
  {
   "cell_type": "markdown",
   "metadata": {},
   "source": [
    "Which state has improved the most?"
   ]
  },
  {
   "cell_type": "markdown",
   "metadata": {},
   "source": [
    "##### Improvement is indicated by a higher ratio in previous years compared to the later years. So a negative number indicates that the later year has lesser ratio and has there fore improved over the years. "
   ]
  },
  {
   "cell_type": "code",
   "execution_count": 25,
   "metadata": {},
   "outputs": [
    {
     "data": {
      "text/html": [
       "<div>\n",
       "<style>\n",
       "    .dataframe thead tr:only-child th {\n",
       "        text-align: right;\n",
       "    }\n",
       "\n",
       "    .dataframe thead th {\n",
       "        text-align: left;\n",
       "    }\n",
       "\n",
       "    .dataframe tbody tr th {\n",
       "        vertical-align: top;\n",
       "    }\n",
       "</style>\n",
       "<table border=\"1\" class=\"dataframe\">\n",
       "  <thead>\n",
       "    <tr style=\"text-align: right;\">\n",
       "      <th></th>\n",
       "      <th>state</th>\n",
       "      <th>Year_x</th>\n",
       "      <th>Ratio_x</th>\n",
       "      <th>Year_y</th>\n",
       "      <th>Ratio_y</th>\n",
       "      <th>change</th>\n",
       "    </tr>\n",
       "  </thead>\n",
       "  <tbody>\n",
       "    <tr>\n",
       "      <th>36</th>\n",
       "      <td>Delaware</td>\n",
       "      <td>2016</td>\n",
       "      <td>0.0457</td>\n",
       "      <td>2011</td>\n",
       "      <td>0.0563</td>\n",
       "      <td>-0.1874</td>\n",
       "    </tr>\n",
       "  </tbody>\n",
       "</table>\n",
       "</div>"
      ],
      "text/plain": [
       "       state  Year_x  Ratio_x  Year_y  Ratio_y  change\n",
       "36  Delaware    2016   0.0457    2011   0.0563 -0.1874"
      ]
     },
     "execution_count": 25,
     "metadata": {},
     "output_type": "execute_result"
    }
   ],
   "source": [
    "minmax.sort_values('change',ascending=True).head(1)"
   ]
  },
  {
   "cell_type": "markdown",
   "metadata": {},
   "source": [
    "Which state has the worst development?"
   ]
  },
  {
   "cell_type": "markdown",
   "metadata": {},
   "source": [
    "##### Worst development is indicated by a greater positive value. This means that the deathly complications has increased in the later years"
   ]
  },
  {
   "cell_type": "code",
   "execution_count": 26,
   "metadata": {},
   "outputs": [
    {
     "data": {
      "text/html": [
       "<div>\n",
       "<style>\n",
       "    .dataframe thead tr:only-child th {\n",
       "        text-align: right;\n",
       "    }\n",
       "\n",
       "    .dataframe thead th {\n",
       "        text-align: left;\n",
       "    }\n",
       "\n",
       "    .dataframe tbody tr th {\n",
       "        vertical-align: top;\n",
       "    }\n",
       "</style>\n",
       "<table border=\"1\" class=\"dataframe\">\n",
       "  <thead>\n",
       "    <tr style=\"text-align: right;\">\n",
       "      <th></th>\n",
       "      <th>state</th>\n",
       "      <th>Year_x</th>\n",
       "      <th>Ratio_x</th>\n",
       "      <th>Year_y</th>\n",
       "      <th>Ratio_y</th>\n",
       "      <th>change</th>\n",
       "    </tr>\n",
       "  </thead>\n",
       "  <tbody>\n",
       "    <tr>\n",
       "      <th>258</th>\n",
       "      <td>Wyoming</td>\n",
       "      <td>2016</td>\n",
       "      <td>0.2335</td>\n",
       "      <td>2011</td>\n",
       "      <td>0.2111</td>\n",
       "      <td>0.1061</td>\n",
       "    </tr>\n",
       "  </tbody>\n",
       "</table>\n",
       "</div>"
      ],
      "text/plain": [
       "       state  Year_x  Ratio_x  Year_y  Ratio_y  change\n",
       "258  Wyoming    2016   0.2335    2011   0.2111  0.1061"
      ]
     },
     "execution_count": 26,
     "metadata": {},
     "output_type": "execute_result"
    }
   ],
   "source": [
    "minmax.sort_values('change',ascending=False).head(1)"
   ]
  },
  {
   "cell_type": "markdown",
   "metadata": {},
   "source": [
    "##### Wyoming seems like the state with the worst death rates for all the deathly complications. "
   ]
  },
  {
   "cell_type": "markdown",
   "metadata": {
    "ExecuteTime": {
     "end_time": "2018-02-09T02:30:33.122083Z",
     "start_time": "2018-02-09T02:30:33.116370Z"
    }
   },
   "source": [
    "# Bonus"
   ]
  },
  {
   "cell_type": "markdown",
   "metadata": {},
   "source": [
    "Which state has the worst development for 'Deaths among Patients with Serious Treatable Complications after Surgery'?"
   ]
  },
  {
   "cell_type": "markdown",
   "metadata": {},
   "source": [
    "##### In the above analysis we had used all the seven measure types that indicated death and mortalitiy. For this analysis we would need to just pick records that have surg_comp. The method to follow is exactly same as above except that we start with a dataset that has only one kind of complication "
   ]
  },
  {
   "cell_type": "code",
   "execution_count": 27,
   "metadata": {},
   "outputs": [
    {
     "data": {
      "text/html": [
       "<div>\n",
       "<style>\n",
       "    .dataframe thead tr:only-child th {\n",
       "        text-align: right;\n",
       "    }\n",
       "\n",
       "    .dataframe thead th {\n",
       "        text-align: left;\n",
       "    }\n",
       "\n",
       "    .dataframe tbody tr th {\n",
       "        vertical-align: top;\n",
       "    }\n",
       "</style>\n",
       "<table border=\"1\" class=\"dataframe\">\n",
       "  <thead>\n",
       "    <tr style=\"text-align: right;\">\n",
       "      <th></th>\n",
       "      <th>state</th>\n",
       "      <th>Year_x</th>\n",
       "      <th>Ratio_x</th>\n",
       "      <th>Year_y</th>\n",
       "      <th>Ratio_y</th>\n",
       "      <th>change</th>\n",
       "    </tr>\n",
       "  </thead>\n",
       "  <tbody>\n",
       "    <tr>\n",
       "      <th>169</th>\n",
       "      <td>Wyoming</td>\n",
       "      <td>2015</td>\n",
       "      <td>0.4608</td>\n",
       "      <td>2012</td>\n",
       "      <td>0.6621</td>\n",
       "      <td>-0.3041</td>\n",
       "    </tr>\n",
       "  </tbody>\n",
       "</table>\n",
       "</div>"
      ],
      "text/plain": [
       "       state  Year_x  Ratio_x  Year_y  Ratio_y  change\n",
       "169  Wyoming    2015   0.4608    2012   0.6621 -0.3041"
      ]
     },
     "execution_count": 27,
     "metadata": {},
     "output_type": "execute_result"
    },
    {
     "data": {
      "text/html": [
       "<div>\n",
       "<style>\n",
       "    .dataframe thead tr:only-child th {\n",
       "        text-align: right;\n",
       "    }\n",
       "\n",
       "    .dataframe thead th {\n",
       "        text-align: left;\n",
       "    }\n",
       "\n",
       "    .dataframe tbody tr th {\n",
       "        vertical-align: top;\n",
       "    }\n",
       "</style>\n",
       "<table border=\"1\" class=\"dataframe\">\n",
       "  <thead>\n",
       "    <tr style=\"text-align: right;\">\n",
       "      <th></th>\n",
       "      <th>state</th>\n",
       "      <th>Year_x</th>\n",
       "      <th>Ratio_x</th>\n",
       "      <th>Year_y</th>\n",
       "      <th>Ratio_y</th>\n",
       "      <th>change</th>\n",
       "    </tr>\n",
       "  </thead>\n",
       "  <tbody>\n",
       "    <tr>\n",
       "      <th>149</th>\n",
       "      <td>Utah</td>\n",
       "      <td>2015</td>\n",
       "      <td>0.5339</td>\n",
       "      <td>2012</td>\n",
       "      <td>0.4393</td>\n",
       "      <td>0.2155</td>\n",
       "    </tr>\n",
       "  </tbody>\n",
       "</table>\n",
       "</div>"
      ],
      "text/plain": [
       "    state  Year_x  Ratio_x  Year_y  Ratio_y  change\n",
       "149  Utah    2015   0.5339    2012   0.4393  0.2155"
      ]
     },
     "execution_count": 27,
     "metadata": {},
     "output_type": "execute_result"
    }
   ],
   "source": [
    "s_cd_dcomp = cd[cd['Measure ID'].str.contains(\"SURG_COMP\")]\n",
    "s_cdzip_dcomp = s_cd_dcomp.merge(zip_codes, how='left', left_on='ZIP Code', right_on='zipcode',left_index=True)\n",
    "#s_cdzip\n",
    "\n",
    "s_state_year = s_cdzip_dcomp[['state','Year','Ratio']].groupby(['state','Year']).mean().reset_index().sort_values(['Ratio'],ascending=False)\n",
    "#s_state_year.columns\n",
    "\n",
    "s_max = s_state_year.iloc[s_state_year.reset_index().groupby(['state'])['Year'].idxmax()]\n",
    "s_min = s_state_year.iloc[s_state_year.reset_index().groupby(['state'])['Year'].idxmin()]\n",
    "s_minmax = s_max.merge(s_min, how='left', left_on='state', right_on='state',left_index=True)\n",
    "#s_minmax.columns\n",
    "\n",
    "s_minmax['change']=(s_minmax['Ratio_x'] - s_minmax['Ratio_y']) / s_minmax['Ratio_y']\n",
    "#s_minmax\n",
    "\n",
    "s_minmax.sort_values('change',ascending=True).head(1)\n",
    "s_minmax.sort_values('change',ascending=False).head(1)"
   ]
  },
  {
   "cell_type": "markdown",
   "metadata": {},
   "source": [
    "##### Utah is the state that has the worst development for 'Deaths among Patients with Serious Treatable Complications after Surgery'.\n",
    "\n",
    "##### What is interesting to note is that Wyoming is the worst when we considered all the deathly complications, but when we look at only \"Deaths among Patients with Serious treatable complications after surgery\" Wyoming is the state that is the best in terms of development. On the whole there might have been more deaths due to complications in Wyoming but if only surgery was considered as the complicatoins, the deaths were the lowest. "
   ]
  },
  {
   "cell_type": "markdown",
   "metadata": {},
   "source": [
    "#  Conclusion "
   ]
  },
  {
   "cell_type": "markdown",
   "metadata": {},
   "source": [
    "##### The data gives a indication of the complications that occur in hospitals after procedures. Though some information about the hospitals can be gleaned from it, it is not enough to make hard conclusions. \n",
    "\n",
    "##### The number of years of the survey 2011 to 2016 is not extensive enough. There are also other factors that might need to be considered like age of patients, history of patient's health etc. "
   ]
  }
 ],
 "metadata": {
  "kernelspec": {
   "display_name": "Python 3",
   "language": "python",
   "name": "python3"
  },
  "language_info": {
   "codemirror_mode": {
    "name": "ipython",
    "version": 3
   },
   "file_extension": ".py",
   "mimetype": "text/x-python",
   "name": "python",
   "nbconvert_exporter": "python",
   "pygments_lexer": "ipython3",
   "version": "3.6.3"
  },
  "toc": {
   "nav_menu": {},
   "number_sections": true,
   "sideBar": true,
   "skip_h1_title": false,
   "title_cell": "Table of Contents",
   "title_sidebar": "Contents",
   "toc_cell": false,
   "toc_position": {},
   "toc_section_display": true,
   "toc_window_display": false
  },
  "varInspector": {
   "cols": {
    "lenName": 16,
    "lenType": 16,
    "lenVar": 40
   },
   "kernels_config": {
    "python": {
     "delete_cmd_postfix": "",
     "delete_cmd_prefix": "del ",
     "library": "var_list.py",
     "varRefreshCmd": "print(var_dic_list())"
    },
    "r": {
     "delete_cmd_postfix": ") ",
     "delete_cmd_prefix": "rm(",
     "library": "var_list.r",
     "varRefreshCmd": "cat(var_dic_list()) "
    }
   },
   "types_to_exclude": [
    "module",
    "function",
    "builtin_function_or_method",
    "instance",
    "_Feature"
   ],
   "window_display": false
  }
 },
 "nbformat": 4,
 "nbformat_minor": 2
}
