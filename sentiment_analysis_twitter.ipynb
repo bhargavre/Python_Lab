{
 "cells": [
  {
   "cell_type": "markdown",
   "metadata": {},
   "source": [
    "# Introduction\n",
    "\n",
    "## Snowden\n",
    "\n",
    "Edward Joseph Snowden is an American computer professional, a former CIA employee and a former contractor for the Unites States government who copied and leaked classified information from the NSA disclosing numerous global surveillance programs.\n",
    "\n",
    "Ref: https://en.wikipedia.org/wiki/Edward_Snowden\n",
    "\n",
    "# Why did I pick Snowden?\n",
    "\n",
    "Snowden was a topic that was discussed about a lot at one point of time. Was it good or bad what Snowden did? Why is there a movie on him? I heard a lot of controversies about these topics. I too had a mixed reviews.\n",
    "* I wanted to do a sentiment analysis on this topic to get a general idea on how people think about this.\n",
    "* Is it positive or negetive?\n",
    "* A managerial insight could be whether this deed should be taken seriously by the govenment or not? Or is it right or wrong for the public to know this information.\n",
    "\n",
    "# How did I perform the sentiment analysis?\n",
    "\n",
    "I am very very new to Python, so to start this I had to read a lot about how to code at first and then about what and how to do the sentiment analysis.\n",
    "The best part about this Assignment is that many have already done sentiment analysis before which helped me a lot to acquire the data i desired. \n",
    "Out of the many links that I read, I liked the below links\n",
    "* http://adilmoujahid.com/posts/2014/07/twitter-analytics/\n",
    "* https://gist.github.com/yanofsky/5436496\n",
    "* https://dev.to/rodolfoferro/sentiment-analysis-on-trumpss-tweets-using-python-\n",
    "\n",
    "But for the extraction of tweets I followed the first link http://adilmoujahid.com/posts/2014/07/twitter-analytics/\n",
    "\n",
    "#### Steps I took to acquire the data\n",
    "First: I signed up with twitter and created an application.\n",
    "Second: I pasted the entire code from that link in Jupyter notebook (which included the secrect keys and access tokens) to see if it works, but it resulted in many errors.\n",
    "Second: I installed Python in my windows 10 system and created a python file with the code and ran it in my command line, but this resulted in the same errors.\n",
    "Third: I analysed the code line by line to figure out mistakes and started correcting it by trial and error method. Alas! it started working.\n",
    "Fourth: I then entered the tag \"Snowden\" in the code and ran the python file while i piped the output of the file into a text file on command line.\n",
    "I let this run for a few hours and it resulted in a text file with JSON output tweets (with metadata) of size 2.06 GB.\n",
    "Fifth: Since the size was huge to upload to jupyter notebook, i re-ran the python file and this time i stopped running it (Ctrl+C) about 15 minutes and this resulted in a text file of close to 500 tweets.\n",
    "\n",
    "#### Positive, Negetive & Stopwords\n",
    "Althought I have given GRE and learned words from Barons and Princetons list, I could not come up with positive, negetive and stopwords by myself. Hence, I googled this information and I found a list of these words that people have already used for their sentiment analysis. \n",
    "I simply pasted those words into a 3 different text files (positive, negetive and stopwords).\n",
    "##### Finally I was ready with my data that I needed to complete this sentiment analysis\n",
    "\n",
    "#### Below is the code & steps I took to check whether the few tweets are inclining towards positive or negetive state\n",
    "As I am new to Python, I had to google codes based on my logic and I also had a lot of help from my friends. In doing so I learned a good deal about python.\n"
   ]
  },
  {
   "cell_type": "code",
   "execution_count": 46,
   "metadata": {
    "collapsed": true
   },
   "outputs": [],
   "source": [
    "# print all the outputs in a cell\n",
    "from IPython.core.interactiveshell import InteractiveShell\n",
    "InteractiveShell.ast_node_interactivity = \"all\""
   ]
  },
  {
   "cell_type": "code",
   "execution_count": 47,
   "metadata": {},
   "outputs": [],
   "source": [
    "t = []\n",
    "b = open('twitter_data_snowden1.txt', 'r')\n",
    "for c in b:\n",
    "    c = c.strip()\n",
    "    c = c.lower()\n",
    "    c = c.replace('!','').replace(',','').replace('.','')\n",
    "    for w in c.split():\n",
    "        t.append(w)\n",
    "b.close()\n"
   ]
  },
  {
   "cell_type": "markdown",
   "metadata": {},
   "source": [
    "First: Wanted to clean the data and remove some characters and transform it to a list format. This would help in the comparision with the positive, negetive and stopwords.\n",
    "To confirm if the text file got redered properly, I checked the lengeth of the list below."
   ]
  },
  {
   "cell_type": "code",
   "execution_count": 58,
   "metadata": {},
   "outputs": [
    {
     "data": {
      "text/plain": [
       "151587"
      ]
     },
     "execution_count": 58,
     "metadata": {},
     "output_type": "execute_result"
    }
   ],
   "source": [
    "len(t)"
   ]
  },
  {
   "cell_type": "code",
   "execution_count": 49,
   "metadata": {},
   "outputs": [],
   "source": [
    "neg = {}\n",
    "b = open('neg.txt', 'r')\n",
    "for c in b:\n",
    "    c = c.strip()\n",
    "    neg[c] = 0\n",
    "b.close()"
   ]
  },
  {
   "cell_type": "code",
   "execution_count": 50,
   "metadata": {
    "collapsed": true
   },
   "outputs": [],
   "source": [
    "pos = {}\n",
    "b = open('pos.txt', 'r')\n",
    "for c in b:\n",
    "    c = c.strip()\n",
    "    pos[c] = 0\n",
    "b.close()"
   ]
  },
  {
   "cell_type": "code",
   "execution_count": 51,
   "metadata": {
    "collapsed": true
   },
   "outputs": [],
   "source": [
    "stop = {}\n",
    "b = open('stop.txt', 'r')\n",
    "for c in b:\n",
    "    c = c.strip()\n",
    "    stop[c] = 0\n",
    "b.close()"
   ]
  },
  {
   "cell_type": "markdown",
   "metadata": {},
   "source": [
    "Second: A precautionary messure to remove the extra spaces in the positive, negetive and stopwords text file while converting them to lists."
   ]
  },
  {
   "cell_type": "code",
   "execution_count": 62,
   "metadata": {},
   "outputs": [],
   "source": [
    "p = 0\n",
    "n = 0\n",
    "s = 0\n",
    "plist = []\n",
    "nlist = []\n",
    "slist = []\n",
    "for c in t:\n",
    "    if c in stop:\n",
    "        slist.append(c)\n",
    "        s = s+1\n",
    "        continue\n",
    "    if c in pos:\n",
    "        plist.append(c)\n",
    "        p = p + 1\n",
    "    elif c in neg:\n",
    "        nlist.append(c)\n",
    "        n = n + 1\n",
    "        \n",
    "# t - list with tweets\n",
    "# stop - list with stopwords\n",
    "# pos - list with positive words\n",
    "# neg - list with negetive words"
   ]
  },
  {
   "cell_type": "code",
   "execution_count": 70,
   "metadata": {
    "collapsed": true
   },
   "outputs": [],
   "source": [
    "import pandas as pd\n",
    "poslist = pd.DataFrame(plist)\n",
    "poslist.to_csv('poslist.csv',index=False,header=False)"
   ]
  },
  {
   "cell_type": "code",
   "execution_count": 71,
   "metadata": {
    "collapsed": true
   },
   "outputs": [],
   "source": [
    "import pandas as pd\n",
    "neglist = pd.DataFrame(nlist)\n",
    "neglist.to_csv('neglist.csv',index=False,header=False)"
   ]
  },
  {
   "cell_type": "code",
   "execution_count": 72,
   "metadata": {
    "collapsed": true
   },
   "outputs": [],
   "source": [
    "import pandas as pd\n",
    "stoplist = pd.DataFrame(slist)\n",
    "stoplist.to_csv('stoplist.csv',index=False,header=False)"
   ]
  },
  {
   "cell_type": "markdown",
   "metadata": {},
   "source": [
    "Third: I used a for-loop to compare the positive, negetive and stopword list with the list of tweets on #Snowden.\n",
    "\n",
    "Fourth: I created and included additional lists like slist, plist and nlist to store the words that match according to the forloop. I then exported them to CSV to view them later.\n",
    "\n",
    "Fifth: Below is the code lines where I have found the number of positive, negetive words used and their ratio.\n",
    "\n",
    "# Observation"
   ]
  },
  {
   "cell_type": "code",
   "execution_count": 67,
   "metadata": {
    "scrolled": true
   },
   "outputs": [
    {
     "data": {
      "text/plain": [
       "2927"
      ]
     },
     "execution_count": 67,
     "metadata": {},
     "output_type": "execute_result"
    },
    {
     "data": {
      "text/plain": [
       "2498"
      ]
     },
     "execution_count": 67,
     "metadata": {},
     "output_type": "execute_result"
    },
    {
     "data": {
      "text/plain": [
       "38611"
      ]
     },
     "execution_count": 67,
     "metadata": {},
     "output_type": "execute_result"
    }
   ],
   "source": [
    "p \n",
    "n \n",
    "s\n"
   ]
  },
  {
   "cell_type": "code",
   "execution_count": 64,
   "metadata": {},
   "outputs": [
    {
     "data": {
      "text/plain": [
       "1.1717373899119294"
      ]
     },
     "execution_count": 64,
     "metadata": {},
     "output_type": "execute_result"
    }
   ],
   "source": [
    "ratio = p/n\n",
    "\n",
    "ratio"
   ]
  },
  {
   "cell_type": "markdown",
   "metadata": {},
   "source": [
    "From the above code we observe that \n",
    "* Out of 151587, 2927 words are positive, 2498 words are negetive and 38611 words are stop words.\n",
    "* The ratio of positive to negetive words is 1.172 which is positive. \n",
    "\n",
    "# Interpretation & Conclusion\n",
    "From the positive ratio found, we can see that most of the words belong to the positive category. This would say that the overall sentiment is positive.\n",
    "\n",
    "# Managerial Insight I could offer\n",
    "Despite the ratio being positive there is a lot of tweets out there of the negetive kind. And looking at the overall analysis being positive, posts should be put out supporting Snowden. We could instigate the government to bring down the severity of the action that would be taken against Snowden so that he could go home!.\n",
    "\n",
    "The above is the managerial insight I could offer only based on the ratio. But the main question here is, is this ratio or is the analysis enough to come up with a managerial insight like this?\n",
    "\n",
    "# Roadmap for future\n",
    "* To analyse all the tweets (2.06 GB) and not just part of it.\n",
    "* To compare sentences instead of just words as negetive/positive because before a negetive word there could be a \"not\" indicating that its not a negetive statement.\n",
    "* To be very efficient and provide an accurate Managerial Insight on this topic"
   ]
  },
  {
   "cell_type": "code",
   "execution_count": null,
   "metadata": {
    "collapsed": true
   },
   "outputs": [],
   "source": []
  }
 ],
 "metadata": {
  "kernelspec": {
   "display_name": "Python 3",
   "language": "python",
   "name": "python3"
  },
  "language_info": {
   "codemirror_mode": {
    "name": "ipython",
    "version": 3
   },
   "file_extension": ".py",
   "mimetype": "text/x-python",
   "name": "python",
   "nbconvert_exporter": "python",
   "pygments_lexer": "ipython3",
   "version": "3.6.3"
  }
 },
 "nbformat": 4,
 "nbformat_minor": 2
}
