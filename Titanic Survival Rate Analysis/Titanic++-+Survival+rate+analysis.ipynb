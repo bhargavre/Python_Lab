{
 "cells": [
  {
   "cell_type": "markdown",
   "metadata": {},
   "source": [
    "# Titanic - Survival rate analysis\n",
    "\n",
    "# Introduction"
   ]
  },
  {
   "cell_type": "markdown",
   "metadata": {},
   "source": [
    "The objective of this exercise is to create a model that predicts who will survive in titanic, will it be Adult or Children? Men or Women?\n",
    "\n",
    "For this exercise `titanic3.csv` data (Source: [Link](http://biostat.mc.vanderbilt.edu/wiki/pub/Main/DataSets/titanic3info.txt)) has been used."
   ]
  },
  {
   "cell_type": "markdown",
   "metadata": {},
   "source": [
    "# Procedure"
   ]
  },
  {
   "cell_type": "code",
   "execution_count": 401,
   "metadata": {
    "ExecuteTime": {
     "end_time": "2018-02-13T22:26:03.868907Z",
     "start_time": "2018-02-13T22:26:03.860430Z"
    },
    "collapsed": true
   },
   "outputs": [],
   "source": [
    "import numpy as np\n",
    "import pandas as pd\n",
    "import seaborn as sns"
   ]
  },
  {
   "cell_type": "code",
   "execution_count": 402,
   "metadata": {
    "ExecuteTime": {
     "end_time": "2018-02-13T22:26:04.100728Z",
     "start_time": "2018-02-13T22:26:04.093183Z"
    },
    "collapsed": true
   },
   "outputs": [],
   "source": [
    "import sklearn as sk\n",
    "import sklearn.tree as tree\n",
    "import sklearn.preprocessing as pp\n",
    "import sklearn.metrics as sm\n",
    "\n",
    "import graphviz"
   ]
  },
  {
   "cell_type": "code",
   "execution_count": 403,
   "metadata": {
    "ExecuteTime": {
     "end_time": "2018-02-13T22:26:04.311512Z",
     "start_time": "2018-02-13T22:26:04.302391Z"
    },
    "collapsed": true
   },
   "outputs": [],
   "source": [
    "from IPython.core.interactiveshell import InteractiveShell\n",
    "InteractiveShell.ast_node_interactivity = \"all\""
   ]
  },
  {
   "cell_type": "code",
   "execution_count": 404,
   "metadata": {
    "ExecuteTime": {
     "end_time": "2018-02-13T22:26:04.602365Z",
     "start_time": "2018-02-13T22:26:04.584842Z"
    },
    "collapsed": true
   },
   "outputs": [],
   "source": [
    "%matplotlib inline"
   ]
  },
  {
   "cell_type": "code",
   "execution_count": 405,
   "metadata": {
    "ExecuteTime": {
     "end_time": "2018-02-13T22:26:04.848983Z",
     "start_time": "2018-02-13T22:26:04.824329Z"
    },
    "collapsed": true
   },
   "outputs": [],
   "source": [
    "tc = pd.read_csv(\"titanic3.csv\")"
   ]
  },
  {
   "cell_type": "markdown",
   "metadata": {},
   "source": [
    "## Description of the dataset\n",
    "\n",
    "Each row is a passenger on the Titanic. The columns report attributes for the passengers:\n",
    "\n",
    "| Column | Description | Relevant for this exercise|\n",
    "|--------|-------------|--------|\n",
    "|`survived`|1 = survived, 0 = died | **X**|\n",
    "|`pclass`| 1 = first class, 2 = second class, 3 = third class |**X**|\n",
    "|`name`| Name of the passenger| |\n",
    "|`sex`| male or female|**X**|\n",
    "|`age`| age in years|**X**|\n",
    "|`sibsp`| The number of siblings or spouses that are also traveling on the Titanic| |\n",
    "|`parch`| The number of parents or childen that are also traveling on the Titanic| |\n",
    "|`ticket`|The ticket number| |\n",
    "|`fare`| The ticket price | |\n",
    "|`cabin`| The cabin number | |\n",
    "|`embarked`| The starting city | |\n",
    "|`boat`| The emergency boat number | |\n",
    "|`body`| The identification number of the body | |\n",
    "|`home.dest`| The destination of the passenger | |"
   ]
  },
  {
   "cell_type": "markdown",
   "metadata": {
    "ExecuteTime": {
     "end_time": "2018-02-13T19:56:42.551866Z",
     "start_time": "2018-02-13T19:56:42.546282Z"
    }
   },
   "source": [
    "## Women and children first?"
   ]
  },
  {
   "cell_type": "code",
   "execution_count": 406,
   "metadata": {
    "collapsed": true
   },
   "outputs": [],
   "source": [
    "tc['Child'] = np.where(tc['age'] > 9, 'Adult', 'Child')"
   ]
  },
  {
   "cell_type": "markdown",
   "metadata": {},
   "source": [
    "Here we are creating a column Child, for all those people who are less than 10 years old. This is mainly done to clearly differentiate between Adult and Child"
   ]
  },
  {
   "cell_type": "markdown",
   "metadata": {},
   "source": [
    "## Survival Rate Interpretation"
   ]
  },
  {
   "cell_type": "markdown",
   "metadata": {},
   "source": [
    "###  Observation"
   ]
  },
  {
   "cell_type": "code",
   "execution_count": 426,
   "metadata": {},
   "outputs": [
    {
     "data": {
      "image/png": "[encoded data removed]",
      "text/plain": [
       "<matplotlib.figure.Figure at 0x18eafd02748>"
      ]
     },
     "metadata": {},
     "output_type": "display_data"
    }
   ],
   "source": [
    "g = tc['survived'].groupby([tc['sex'], tc['Child'],tc['pclass']]).mean().plot.bar();\n",
    "#tc['survived'].groupby([tc['sex'], tc['Child'],tc['pclass']]).mean()\n",
    "\n",
    "g.set_ylabel('Survival Rate');"
   ]
  },
  {
   "cell_type": "code",
   "execution_count": 427,
   "metadata": {},
   "outputs": [
    {
     "data": {
      "image/png": "[encoded data removed]",
      "text/plain": [
       "<matplotlib.figure.Figure at 0x18eb2881278>"
      ]
     },
     "metadata": {},
     "output_type": "display_data"
    }
   ],
   "source": [
    "g = tc['survived'].groupby([tc['Child']]).mean().plot.bar();\n",
    "\n",
    "g.set_ylabel('Survival Rate');"
   ]
  },
  {
   "cell_type": "markdown",
   "metadata": {},
   "source": [
    "From here we can see that about 40% of adults survived and about 35% of children have survived. But there could be some outliers, lets look at the decision tree and see what model is generalted for this data."
   ]
  },
  {
   "cell_type": "code",
   "execution_count": 428,
   "metadata": {},
   "outputs": [
    {
     "data": {
      "image/png": "[encoded data removed]",
      "text/plain": [
       "<matplotlib.figure.Figure at 0x18eb2890470>"
      ]
     },
     "metadata": {},
     "output_type": "display_data"
    }
   ],
   "source": [
    "g = tc['survived'].groupby([tc['pclass']]).mean().plot.bar();\n",
    "#tc['survived'].groupby([tc['pclass']]).mean()\n",
    "\n",
    "g.set_ylabel('Survival Rate');"
   ]
  },
  {
   "cell_type": "markdown",
   "metadata": {},
   "source": [
    "From here we can see that about 60% of the pclass 1, about 40% of pclass 2 and about 25% of pclass 3 have survived."
   ]
  },
  {
   "cell_type": "code",
   "execution_count": 429,
   "metadata": {},
   "outputs": [
    {
     "data": {
      "image/png": "[encoded data removed]",
      "text/plain": [
       "<matplotlib.figure.Figure at 0x18eb29d7ef0>"
      ]
     },
     "metadata": {},
     "output_type": "display_data"
    }
   ],
   "source": [
    "g = tc['survived'].groupby([tc['sex']]).mean().plot.bar();\n",
    "\n",
    "g.set_ylabel('Survival Rate');"
   ]
  },
  {
   "cell_type": "markdown",
   "metadata": {},
   "source": [
    "About 70% of female survivors and 20% of male"
   ]
  },
  {
   "cell_type": "markdown",
   "metadata": {},
   "source": [
    "Looking at the graphs above it is very clear to see that \n",
    "\n",
    "1) More of women(female) survived\n",
    "\n",
    "2) More of the pclass 1 and 2 survived compared to pclass 3\n",
    "\n",
    "3) Adults and children survivors were almost the same and that is because of more female adults who survived."
   ]
  },
  {
   "cell_type": "markdown",
   "metadata": {
    "ExecuteTime": {
     "end_time": "2018-02-13T21:58:44.757490Z",
     "start_time": "2018-02-13T21:58:44.747773Z"
    }
   },
   "source": [
    "## Decision Tree with depth of 1"
   ]
  },
  {
   "cell_type": "code",
   "execution_count": 411,
   "metadata": {
    "collapsed": true
   },
   "outputs": [],
   "source": [
    "tc_tree = tc[['pclass', 'sex', 'age', 'survived']].copy()"
   ]
  },
  {
   "cell_type": "markdown",
   "metadata": {},
   "source": [
    "I'm creating another a copy of dataframe to avoid warnings ahead when we change values in the df. This new dataframe only contains data like sex, age, survived (yes/no or 1/0) and pclass (the class of a person)"
   ]
  },
  {
   "cell_type": "code",
   "execution_count": 412,
   "metadata": {
    "collapsed": true
   },
   "outputs": [],
   "source": [
    "le = pp.LabelEncoder()\n",
    "tc_tree[\"sex\"]=le.fit_transform(tc_tree[\"sex\"].astype(str))"
   ]
  },
  {
   "cell_type": "code",
   "execution_count": 413,
   "metadata": {
    "collapsed": true
   },
   "outputs": [],
   "source": [
    "tc_tree.dropna(inplace = True)\n",
    "tc_tree = tc_tree[tc_tree.pclass != 0]"
   ]
  },
  {
   "cell_type": "markdown",
   "metadata": {},
   "source": [
    "To clean this dataset, I have removed all the entities with NaN values and only selected those where the pclass is not equal to 0. Because a person is either class 1, 2 or 3.\n",
    "\n",
    "Also, encoded the sex column, such that we have numeric values such as 0 (female) and 1 (male)"
   ]
  },
  {
   "cell_type": "markdown",
   "metadata": {},
   "source": [
    "### Build the decision tree"
   ]
  },
  {
   "cell_type": "code",
   "execution_count": 414,
   "metadata": {},
   "outputs": [
    {
     "data": {
      "text/plain": [
       "0.81297709923664119"
      ]
     },
     "execution_count": 414,
     "metadata": {},
     "output_type": "execute_result"
    },
    {
     "data": {
      "text/plain": [
       "[0.0, 1.0]"
      ]
     },
     "execution_count": 414,
     "metadata": {},
     "output_type": "execute_result"
    }
   ],
   "source": [
    "X = tc_tree.drop('survived', axis=1)\n",
    "y = tc_tree['survived']\n",
    "\n",
    "from sklearn.model_selection import train_test_split\n",
    "X_train, X_test, y_train, y_test = train_test_split(X, y, random_state=1)\n",
    "\n",
    "model = tree.DecisionTreeClassifier(max_depth=1).fit(X_train, y_train)\n",
    "#model\n",
    "\n",
    "y_predict = model.predict(X_test)\n",
    "# split data into training and split.. if you use the whole thing into trainig...\n",
    "\n",
    "from sklearn.metrics import accuracy_score\n",
    "\n",
    "accuracy_score(y_test, y_predict)\n",
    "\n",
    "list(model.classes_)\n",
    "\n",
    "#X"
   ]
  },
  {
   "cell_type": "markdown",
   "metadata": {},
   "source": [
    "While X behaves as input values such as age, sex and pclass, 'y' behaves as output or target values which is survived or not. This is done because our target over here is to predict if a person depending on his/her, age and pclass will survive or not in the titanic.\n",
    "\n",
    "I have used predit here to validate the accuracy of the model created using the training data. \n",
    "\n",
    "Here the table says the accuracy of the model is 81.29%. This means that if there are 75% of the women who survive then according to the accuracy only 80% of the predictive model is accurate.\n",
    "\n",
    "I used the below reference to compare how accurate the model is by comparing the y_test and y_predict.\n",
    "http://scikit-learn.org/stable/modules/generated/sklearn.metrics.accuracy_score.html\n"
   ]
  },
  {
   "cell_type": "markdown",
   "metadata": {},
   "source": [
    "###### What is tc_tree?\n",
    "tc_tree is used to come up with a predictive model. In this case we want to use the decision tree. tc_tree is first split into training and test data. We use the training data to come up with a model. THen we use the test data and check the accuracy of the data. For this we use the X_test and find the y_predict. We then compare the y_predict and the y_test to see how close the numbers are and thus determine the accuracy."
   ]
  },
  {
   "cell_type": "code",
   "execution_count": 415,
   "metadata": {
    "ExecuteTime": {
     "end_time": "2018-02-13T22:28:28.050493Z",
     "start_time": "2018-02-13T22:28:27.962900Z"
    }
   },
   "outputs": [
    {
     "data": {
      "image/svg+xml": [
       "<?xml version=\"1.0\" encoding=\"UTF-8\" standalone=\"no\"?>\r\n",
       "<!DOCTYPE svg PUBLIC \"-//W3C//DTD SVG 1.1//EN\"\r\n",
       " \"http://www.w3.org/Graphics/SVG/1.1/DTD/svg11.dtd\">\r\n",
       "<!-- Generated by graphviz version 2.38.0 (20140413.2041)\r\n",
       " -->\r\n",
       "<!-- Title: Tree Pages: 1 -->\r\n",
       "<svg width=\"318pt\" height=\"195pt\"\r\n",
       " viewBox=\"0.00 0.00 317.50 195.00\" xmlns=\"http://www.w3.org/2000/svg\" xmlns:xlink=\"http://www.w3.org/1999/xlink\">\r\n",
       "<g id=\"graph0\" class=\"graph\" transform=\"scale(1 1) rotate(0) translate(4 191)\">\r\n",
       "<title>Tree</title>\r\n",
       "<polygon fill=\"white\" stroke=\"none\" points=\"-4,4 -4,-191 313.5,-191 313.5,4 -4,4\"/>\r\n",
       "<!-- 0 -->\r\n",
       "<g id=\"node1\" class=\"node\"><title>0</title>\r\n",
       "<path fill=\"#e58139\" fill-opacity=\"0.294118\" stroke=\"black\" d=\"M215.5,-187C215.5,-187 85.5,-187 85.5,-187 79.5,-187 73.5,-181 73.5,-175 73.5,-175 73.5,-116 73.5,-116 73.5,-110 79.5,-104 85.5,-104 85.5,-104 215.5,-104 215.5,-104 221.5,-104 227.5,-110 227.5,-116 227.5,-116 227.5,-175 227.5,-175 227.5,-181 221.5,-187 215.5,-187\"/>\r\n",
       "<text text-anchor=\"start\" x=\"121.5\" y=\"-171.8\" font-family=\"Helvetica,sans-Serif\" font-size=\"14.00\">sex ≤ 0.5</text>\r\n",
       "<text text-anchor=\"start\" x=\"113\" y=\"-156.8\" font-family=\"Helvetica,sans-Serif\" font-size=\"14.00\">gini = 0.485</text>\r\n",
       "<text text-anchor=\"start\" x=\"90.5\" y=\"-141.8\" font-family=\"Helvetica,sans-Serif\" font-size=\"14.00\">samples = 100.0%</text>\r\n",
       "<text text-anchor=\"start\" x=\"81.5\" y=\"-126.8\" font-family=\"Helvetica,sans-Serif\" font-size=\"14.00\">value = [0.587, 0.413]</text>\r\n",
       "<text text-anchor=\"start\" x=\"112\" y=\"-111.8\" font-family=\"Helvetica,sans-Serif\" font-size=\"14.00\">class = died</text>\r\n",
       "</g>\r\n",
       "<!-- 1 -->\r\n",
       "<g id=\"node2\" class=\"node\"><title>1</title>\r\n",
       "<path fill=\"#399de5\" fill-opacity=\"0.666667\" stroke=\"black\" d=\"M125,-68C125,-68 12,-68 12,-68 6,-68 0,-62 0,-56 0,-56 0,-12 0,-12 0,-6 6,-0 12,-0 12,-0 125,-0 125,-0 131,-0 137,-6 137,-12 137,-12 137,-56 137,-56 137,-62 131,-68 125,-68\"/>\r\n",
       "<text text-anchor=\"start\" x=\"31\" y=\"-52.8\" font-family=\"Helvetica,sans-Serif\" font-size=\"14.00\">gini = 0.375</text>\r\n",
       "<text text-anchor=\"start\" x=\"12.5\" y=\"-37.8\" font-family=\"Helvetica,sans-Serif\" font-size=\"14.00\">samples = 36.2%</text>\r\n",
       "<text text-anchor=\"start\" x=\"8\" y=\"-22.8\" font-family=\"Helvetica,sans-Serif\" font-size=\"14.00\">value = [0.25, 0.75]</text>\r\n",
       "<text text-anchor=\"start\" x=\"17.5\" y=\"-7.8\" font-family=\"Helvetica,sans-Serif\" font-size=\"14.00\">class = survived</text>\r\n",
       "</g>\r\n",
       "<!-- 0&#45;&gt;1 -->\r\n",
       "<g id=\"edge1\" class=\"edge\"><title>0&#45;&gt;1</title>\r\n",
       "<path fill=\"none\" stroke=\"black\" d=\"M119.966,-103.726C113.273,-94.7878 106.18,-85.3168 99.4696,-76.3558\"/>\r\n",
       "<polygon fill=\"black\" stroke=\"black\" points=\"102.232,-74.206 93.4367,-68.2996 96.6293,-78.402 102.232,-74.206\"/>\r\n",
       "<text text-anchor=\"middle\" x=\"89.8831\" y=\"-89.3457\" font-family=\"Helvetica,sans-Serif\" font-size=\"14.00\">True</text>\r\n",
       "</g>\r\n",
       "<!-- 2 -->\r\n",
       "<g id=\"node3\" class=\"node\"><title>2</title>\r\n",
       "<path fill=\"#e58139\" fill-opacity=\"0.713725\" stroke=\"black\" d=\"M297.5,-68C297.5,-68 167.5,-68 167.5,-68 161.5,-68 155.5,-62 155.5,-56 155.5,-56 155.5,-12 155.5,-12 155.5,-6 161.5,-0 167.5,-0 167.5,-0 297.5,-0 297.5,-0 303.5,-0 309.5,-6 309.5,-12 309.5,-12 309.5,-56 309.5,-56 309.5,-62 303.5,-68 297.5,-68\"/>\r\n",
       "<text text-anchor=\"start\" x=\"195\" y=\"-52.8\" font-family=\"Helvetica,sans-Serif\" font-size=\"14.00\">gini = 0.345</text>\r\n",
       "<text text-anchor=\"start\" x=\"176.5\" y=\"-37.8\" font-family=\"Helvetica,sans-Serif\" font-size=\"14.00\">samples = 63.8%</text>\r\n",
       "<text text-anchor=\"start\" x=\"163.5\" y=\"-22.8\" font-family=\"Helvetica,sans-Serif\" font-size=\"14.00\">value = [0.778, 0.222]</text>\r\n",
       "<text text-anchor=\"start\" x=\"194\" y=\"-7.8\" font-family=\"Helvetica,sans-Serif\" font-size=\"14.00\">class = died</text>\r\n",
       "</g>\r\n",
       "<!-- 0&#45;&gt;2 -->\r\n",
       "<g id=\"edge2\" class=\"edge\"><title>0&#45;&gt;2</title>\r\n",
       "<path fill=\"none\" stroke=\"black\" d=\"M181.034,-103.726C187.727,-94.7878 194.82,-85.3168 201.53,-76.3558\"/>\r\n",
       "<polygon fill=\"black\" stroke=\"black\" points=\"204.371,-78.402 207.563,-68.2996 198.768,-74.206 204.371,-78.402\"/>\r\n",
       "<text text-anchor=\"middle\" x=\"211.117\" y=\"-89.3457\" font-family=\"Helvetica,sans-Serif\" font-size=\"14.00\">False</text>\r\n",
       "</g>\r\n",
       "</g>\r\n",
       "</svg>\r\n"
      ],
      "text/plain": [
       "<graphviz.files.Source at 0x18eafbf8128>"
      ]
     },
     "execution_count": 415,
     "metadata": {},
     "output_type": "execute_result"
    }
   ],
   "source": [
    "import os\n",
    "os.environ[\"PATH\"] += os.pathsep + 'C:/Program Files (x86)/Graphviz2.38/bin/'\n",
    "\n",
    "dot_data = tree.export_graphviz(model, out_file=None, \n",
    "                         feature_names=list(X.columns),  \n",
    "                         class_names = [\"survived\" if i == 1 else \"died\" for i in model.classes_] ,\n",
    "                         #class_names = model.classes_,\n",
    "                         filled=True, rounded=True,  \n",
    "                         special_characters=True, \n",
    "                         proportion=True,\n",
    "                        )  \n",
    "graph = graphviz.Source(dot_data)  \n",
    "graph \n"
   ]
  },
  {
   "cell_type": "markdown",
   "metadata": {},
   "source": [
    "### Explanation of the decision tree"
   ]
  },
  {
   "cell_type": "markdown",
   "metadata": {},
   "source": [
    "By using leEncoder, sex is denoted as 0 for \"female\" and 1 for \"male\".  Hence this decision tree says that, if it is a female (ie. sex = 0) then they have 75% of survival chance and if it is male they have 22.2% of survival chance.\n",
    "\n",
    "The gini value represents the purity of the data. If the gini value is 0, then the data is of the purest form."
   ]
  },
  {
   "cell_type": "markdown",
   "metadata": {
    "ExecuteTime": {
     "end_time": "2018-02-13T22:04:37.179367Z",
     "start_time": "2018-02-13T22:04:37.172592Z"
    }
   },
   "source": [
    "### Visualization of decision tree\n"
   ]
  },
  {
   "cell_type": "markdown",
   "metadata": {},
   "source": [
    "The single depth decision tree is based on the sex. The decision tree model compares the sex and if female shows the survival rate is 0.75 and if male then rate is 0.222\n",
    "\n",
    "To represent this on a factor plot we need to use sex and survived as the axes. "
   ]
  },
  {
   "cell_type": "code",
   "execution_count": 416,
   "metadata": {},
   "outputs": [
    {
     "data": {
      "image/png": "[encoded data removed]",
      "text/plain": [
       "<matplotlib.figure.Figure at 0x18eafb6d860>"
      ]
     },
     "metadata": {},
     "output_type": "display_data"
    }
   ],
   "source": [
    "g = sns.factorplot(x=\"sex\", y=\"survived\", data=tc_tree, saturation=.5, ci=None, aspect=.6)\n",
    "\n",
    "g.set_ylabels('Survival Rate');\n",
    "g.set_xlabels('Female  Male');"
   ]
  },
  {
   "cell_type": "markdown",
   "metadata": {},
   "source": [
    "The factor plot show the survival rate of a little more than 0.7 for females and about 0.2 survival rate for men. "
   ]
  },
  {
   "cell_type": "markdown",
   "metadata": {
    "ExecuteTime": {
     "end_time": "2018-02-13T22:05:16.232383Z",
     "start_time": "2018-02-13T22:05:16.227762Z"
    }
   },
   "source": [
    "### Statistical reproduction of decision"
   ]
  },
  {
   "cell_type": "code",
   "execution_count": 417,
   "metadata": {},
   "outputs": [
    {
     "data": {
      "text/plain": [
       "Ttest_indResult(statistic=20.269466067634454, pvalue=1.6296609399275591e-73)"
      ]
     },
     "execution_count": 417,
     "metadata": {},
     "output_type": "execute_result"
    },
    {
     "name": "stdout",
     "output_type": "stream",
     "text": [
      " \n"
     ]
    },
    {
     "data": {
      "text/plain": [
       "Ttest_indResult(statistic=-0.064241093353295878, pvalue=0.95086508014261639)"
      ]
     },
     "execution_count": 417,
     "metadata": {},
     "output_type": "execute_result"
    }
   ],
   "source": [
    "from scipy.stats import ttest_ind\n",
    "#t = tc_tree[tc_tree['sex']==0]['sex']\n",
    "#p = tc_tree[tc_tree['sex']==1]['sex']\n",
    "\n",
    "#ttest_ind(t, p, equal_var = False)\n",
    "              \n",
    "              #equal_var=False)\n",
    "#, p\n",
    "#print(\"t and p values are\")\n",
    "#print(t)\n",
    "#print(\"  \")\n",
    "#print(p)\n",
    "\n",
    "#tc_tree[tc_tree['sex']<0.5].head(2)\n",
    "#tc_tree[tc_tree['sex']>0.5].head(2)\n",
    "#tc_tree[tc_tree['sex']<0.5].mean()\n",
    "#tc_tree[tc_tree['sex']>0.5].mean()\n",
    "#ttest_ind(tc_tree[tc_tree['sex']<0.5].mean(), tc_tree[tc_tree['sex']>0.5].mean())\n",
    "#ttest_ind(tc_tree[tc_tree['sex']<0.5], tc_tree[tc_tree['sex']>0.5])\n",
    "p = tc_tree[tc_tree['sex']<0.5]['survived']\n",
    "t = tc_tree[tc_tree['sex']>0.5]['survived']\n",
    "ttest_ind(p, t, equal_var = False)\n",
    "\n",
    "print(\" \")\n",
    "\n",
    "ttest_ind(tc_tree[tc_tree['sex']<0.5].mean(), tc_tree[tc_tree['sex']>0.5].mean())"
   ]
  },
  {
   "cell_type": "markdown",
   "metadata": {},
   "source": [
    "Ttest indicates whether the mean of two data series differ from each other or not. There is a concept of \"Null hypothesis\" - which assumes both the series are the same. The ttest gives output that indicates how much they are different from the Null hypothesis. \n",
    "http://hamelg.blogspot.in/2015/11/python-for-data-analysis-part-24.html\n",
    "\n",
    "In this case we want to compare the decisions of the tree classifier. The tree classifier's decision is based on gender - female and male. Comparing the survival rate of the two we get the following using ttest\n",
    "\n",
    "Ttest_indResult(statistic=20.269466067634454, pvalue=1.6296609399275591e-73)\n",
    "\n",
    "the pvalue is much lesser than 0.05 which means the null hypothesis (both are same) can be rejected. This means that both the series are different.\n",
    "\n",
    "I was not able to come up with a clear and precise output or inference and hence this is a future roadmap.\n",
    "\n",
    "Reference:\n",
    "* http://benalexkeen.com/comparative-statistics-in-python-using-scipy/\n",
    "* https://docs.scipy.org/doc/scipy-0.15.1/reference/generated/scipy.stats.ttest_ind.html\n"
   ]
  },
  {
   "cell_type": "markdown",
   "metadata": {},
   "source": [
    "## Interpretation\n",
    "The single depth decision tree is based on the gender - male & female. In the decision tree, if the person is a female there is about 70% probability that she survived. And if the person is male there is about 20% probability that he survived. The accuracy of this decision tree is 80%."
   ]
  },
  {
   "cell_type": "markdown",
   "metadata": {},
   "source": [
    "Reference:\n",
    "* http://benalexkeen.com/decision-tree-classifier-in-python-using-scikit-learn/\n",
    "* http://scikit-learn.org/stable/tutorial/basic/tutorial.html\n",
    "* https://docs.scipy.org/doc/numpy/reference/generated/numpy.isnan.html\n"
   ]
  },
  {
   "cell_type": "markdown",
   "metadata": {},
   "source": [
    "## Develop a decision tree with depth of 2"
   ]
  },
  {
   "cell_type": "markdown",
   "metadata": {},
   "source": [
    "Similar to builing the previous decision tree with depth 1, except here we change the value of depth to be equal to 2."
   ]
  },
  {
   "cell_type": "code",
   "execution_count": 418,
   "metadata": {},
   "outputs": [
    {
     "data": {
      "text/plain": [
       "DecisionTreeClassifier(class_weight=None, criterion='gini', max_depth=2,\n",
       "            max_features=None, max_leaf_nodes=None,\n",
       "            min_impurity_decrease=0.0, min_impurity_split=None,\n",
       "            min_samples_leaf=1, min_samples_split=2,\n",
       "            min_weight_fraction_leaf=0.0, presort=False, random_state=None,\n",
       "            splitter='best')"
      ]
     },
     "execution_count": 418,
     "metadata": {},
     "output_type": "execute_result"
    },
    {
     "data": {
      "text/plain": [
       "0.83587786259541985"
      ]
     },
     "execution_count": 418,
     "metadata": {},
     "output_type": "execute_result"
    },
    {
     "data": {
      "text/plain": [
       "[0.0, 1.0]"
      ]
     },
     "execution_count": 418,
     "metadata": {},
     "output_type": "execute_result"
    }
   ],
   "source": [
    "model2 = tree.DecisionTreeClassifier(max_depth=2)\n",
    "#model2\n",
    "\n",
    "model2.fit(X_train, y_train)\n",
    "\n",
    "y_predict = model2.predict(X_test)\n",
    "\n",
    "from sklearn.metrics import accuracy_score\n",
    "\n",
    "accuracy_score(y_test, y_predict)\n",
    "\n",
    "list(model2.classes_)"
   ]
  },
  {
   "cell_type": "code",
   "execution_count": 419,
   "metadata": {
    "ExecuteTime": {
     "end_time": "2018-02-13T22:26:10.584737Z",
     "start_time": "2018-02-13T22:26:10.539010Z"
    }
   },
   "outputs": [
    {
     "data": {
      "image/svg+xml": [
       "<?xml version=\"1.0\" encoding=\"UTF-8\" standalone=\"no\"?>\r\n",
       "<!DOCTYPE svg PUBLIC \"-//W3C//DTD SVG 1.1//EN\"\r\n",
       " \"http://www.w3.org/Graphics/SVG/1.1/DTD/svg11.dtd\">\r\n",
       "<!-- Generated by graphviz version 2.38.0 (20140413.2041)\r\n",
       " -->\r\n",
       "<!-- Title: Tree Pages: 1 -->\r\n",
       "<svg width=\"604pt\" height=\"314pt\"\r\n",
       " viewBox=\"0.00 0.00 604.00 314.00\" xmlns=\"http://www.w3.org/2000/svg\" xmlns:xlink=\"http://www.w3.org/1999/xlink\">\r\n",
       "<g id=\"graph0\" class=\"graph\" transform=\"scale(1 1) rotate(0) translate(4 310)\">\r\n",
       "<title>Tree</title>\r\n",
       "<polygon fill=\"white\" stroke=\"none\" points=\"-4,4 -4,-310 600,-310 600,4 -4,4\"/>\r\n",
       "<!-- 0 -->\r\n",
       "<g id=\"node1\" class=\"node\"><title>0</title>\r\n",
       "<polygon fill=\"#e58139\" fill-opacity=\"0.294118\" stroke=\"black\" points=\"360,-306 221,-306 221,-223 360,-223 360,-306\"/>\r\n",
       "<text text-anchor=\"start\" x=\"264.5\" y=\"-290.8\" font-family=\"Times New Roman,serif\" font-size=\"14.00\">sex ≤ 0.5</text>\r\n",
       "<text text-anchor=\"start\" x=\"257\" y=\"-275.8\" font-family=\"Times New Roman,serif\" font-size=\"14.00\">gini = 0.485</text>\r\n",
       "<text text-anchor=\"start\" x=\"238.5\" y=\"-260.8\" font-family=\"Times New Roman,serif\" font-size=\"14.00\">samples = 100.0%</text>\r\n",
       "<text text-anchor=\"start\" x=\"229\" y=\"-245.8\" font-family=\"Times New Roman,serif\" font-size=\"14.00\">value = [0.587, 0.413]</text>\r\n",
       "<text text-anchor=\"start\" x=\"256.5\" y=\"-230.8\" font-family=\"Times New Roman,serif\" font-size=\"14.00\">class = died</text>\r\n",
       "</g>\r\n",
       "<!-- 1 -->\r\n",
       "<g id=\"node2\" class=\"node\"><title>1</title>\r\n",
       "<polygon fill=\"#399de5\" fill-opacity=\"0.666667\" stroke=\"black\" points=\"275,-187 150,-187 150,-104 275,-104 275,-187\"/>\r\n",
       "<text text-anchor=\"start\" x=\"178.5\" y=\"-171.8\" font-family=\"Times New Roman,serif\" font-size=\"14.00\">pclass ≤ 2.5</text>\r\n",
       "<text text-anchor=\"start\" x=\"179\" y=\"-156.8\" font-family=\"Times New Roman,serif\" font-size=\"14.00\">gini = 0.375</text>\r\n",
       "<text text-anchor=\"start\" x=\"164\" y=\"-141.8\" font-family=\"Times New Roman,serif\" font-size=\"14.00\">samples = 36.2%</text>\r\n",
       "<text text-anchor=\"start\" x=\"158\" y=\"-126.8\" font-family=\"Times New Roman,serif\" font-size=\"14.00\">value = [0.25, 0.75]</text>\r\n",
       "<text text-anchor=\"start\" x=\"167\" y=\"-111.8\" font-family=\"Times New Roman,serif\" font-size=\"14.00\">class = survived</text>\r\n",
       "</g>\r\n",
       "<!-- 0&#45;&gt;1 -->\r\n",
       "<g id=\"edge1\" class=\"edge\"><title>0&#45;&gt;1</title>\r\n",
       "<path fill=\"none\" stroke=\"black\" d=\"M263.438,-222.907C257.57,-214.105 251.302,-204.703 245.241,-195.612\"/>\r\n",
       "<polygon fill=\"black\" stroke=\"black\" points=\"247.973,-193.4 239.514,-187.021 242.149,-197.283 247.973,-193.4\"/>\r\n",
       "<text text-anchor=\"middle\" x=\"234.611\" y=\"-207.835\" font-family=\"Times New Roman,serif\" font-size=\"14.00\">True</text>\r\n",
       "</g>\r\n",
       "<!-- 4 -->\r\n",
       "<g id=\"node5\" class=\"node\"><title>4</title>\r\n",
       "<polygon fill=\"#e58139\" fill-opacity=\"0.713725\" stroke=\"black\" points=\"439,-187 300,-187 300,-104 439,-104 439,-187\"/>\r\n",
       "<text text-anchor=\"start\" x=\"343.5\" y=\"-171.8\" font-family=\"Times New Roman,serif\" font-size=\"14.00\">age ≤ 9.5</text>\r\n",
       "<text text-anchor=\"start\" x=\"336\" y=\"-156.8\" font-family=\"Times New Roman,serif\" font-size=\"14.00\">gini = 0.345</text>\r\n",
       "<text text-anchor=\"start\" x=\"321\" y=\"-141.8\" font-family=\"Times New Roman,serif\" font-size=\"14.00\">samples = 63.8%</text>\r\n",
       "<text text-anchor=\"start\" x=\"308\" y=\"-126.8\" font-family=\"Times New Roman,serif\" font-size=\"14.00\">value = [0.778, 0.222]</text>\r\n",
       "<text text-anchor=\"start\" x=\"335.5\" y=\"-111.8\" font-family=\"Times New Roman,serif\" font-size=\"14.00\">class = died</text>\r\n",
       "</g>\r\n",
       "<!-- 0&#45;&gt;4 -->\r\n",
       "<g id=\"edge4\" class=\"edge\"><title>0&#45;&gt;4</title>\r\n",
       "<path fill=\"none\" stroke=\"black\" d=\"M317.909,-222.907C323.914,-214.014 330.331,-204.509 336.529,-195.331\"/>\r\n",
       "<polygon fill=\"black\" stroke=\"black\" points=\"339.444,-197.267 342.14,-187.021 333.643,-193.35 339.444,-197.267\"/>\r\n",
       "<text text-anchor=\"middle\" x=\"346.898\" y=\"-207.864\" font-family=\"Times New Roman,serif\" font-size=\"14.00\">False</text>\r\n",
       "</g>\r\n",
       "<!-- 2 -->\r\n",
       "<g id=\"node3\" class=\"node\"><title>2</title>\r\n",
       "<polygon fill=\"#399de5\" fill-opacity=\"0.937255\" stroke=\"black\" points=\"125,-68 0,-68 0,-0 125,-0 125,-68\"/>\r\n",
       "<text text-anchor=\"start\" x=\"29\" y=\"-52.8\" font-family=\"Times New Roman,serif\" font-size=\"14.00\">gini = 0.113</text>\r\n",
       "<text text-anchor=\"start\" x=\"14\" y=\"-37.8\" font-family=\"Times New Roman,serif\" font-size=\"14.00\">samples = 21.2%</text>\r\n",
       "<text text-anchor=\"start\" x=\"8\" y=\"-22.8\" font-family=\"Times New Roman,serif\" font-size=\"14.00\">value = [0.06, 0.94]</text>\r\n",
       "<text text-anchor=\"start\" x=\"17\" y=\"-7.8\" font-family=\"Times New Roman,serif\" font-size=\"14.00\">class = survived</text>\r\n",
       "</g>\r\n",
       "<!-- 1&#45;&gt;2 -->\r\n",
       "<g id=\"edge2\" class=\"edge\"><title>1&#45;&gt;2</title>\r\n",
       "<path fill=\"none\" stroke=\"black\" d=\"M156.646,-103.726C143.527,-94.1494 129.57,-83.9611 116.533,-74.4438\"/>\r\n",
       "<polygon fill=\"black\" stroke=\"black\" points=\"118.256,-71.3688 108.116,-68.2996 114.129,-77.0227 118.256,-71.3688\"/>\r\n",
       "</g>\r\n",
       "<!-- 3 -->\r\n",
       "<g id=\"node4\" class=\"node\"><title>3</title>\r\n",
       "<polygon fill=\"#e58139\" fill-opacity=\"0.066667\" stroke=\"black\" points=\"282,-68 143,-68 143,-0 282,-0 282,-68\"/>\r\n",
       "<text text-anchor=\"start\" x=\"179\" y=\"-52.8\" font-family=\"Times New Roman,serif\" font-size=\"14.00\">gini = 0.499</text>\r\n",
       "<text text-anchor=\"start\" x=\"164\" y=\"-37.8\" font-family=\"Times New Roman,serif\" font-size=\"14.00\">samples = 15.1%</text>\r\n",
       "<text text-anchor=\"start\" x=\"151\" y=\"-22.8\" font-family=\"Times New Roman,serif\" font-size=\"14.00\">value = [0.517, 0.483]</text>\r\n",
       "<text text-anchor=\"start\" x=\"178.5\" y=\"-7.8\" font-family=\"Times New Roman,serif\" font-size=\"14.00\">class = died</text>\r\n",
       "</g>\r\n",
       "<!-- 1&#45;&gt;3 -->\r\n",
       "<g id=\"edge3\" class=\"edge\"><title>1&#45;&gt;3</title>\r\n",
       "<path fill=\"none\" stroke=\"black\" d=\"M212.5,-103.726C212.5,-95.5175 212.5,-86.8595 212.5,-78.56\"/>\r\n",
       "<polygon fill=\"black\" stroke=\"black\" points=\"216,-78.2996 212.5,-68.2996 209,-78.2996 216,-78.2996\"/>\r\n",
       "</g>\r\n",
       "<!-- 5 -->\r\n",
       "<g id=\"node6\" class=\"node\"><title>5</title>\r\n",
       "<polygon fill=\"#399de5\" fill-opacity=\"0.262745\" stroke=\"black\" points=\"439,-68 300,-68 300,-0 439,-0 439,-68\"/>\r\n",
       "<text text-anchor=\"start\" x=\"336\" y=\"-52.8\" font-family=\"Times New Roman,serif\" font-size=\"14.00\">gini = 0.489</text>\r\n",
       "<text text-anchor=\"start\" x=\"324\" y=\"-37.8\" font-family=\"Times New Roman,serif\" font-size=\"14.00\">samples = 4.2%</text>\r\n",
       "<text text-anchor=\"start\" x=\"308\" y=\"-22.8\" font-family=\"Times New Roman,serif\" font-size=\"14.00\">value = [0.424, 0.576]</text>\r\n",
       "<text text-anchor=\"start\" x=\"324\" y=\"-7.8\" font-family=\"Times New Roman,serif\" font-size=\"14.00\">class = survived</text>\r\n",
       "</g>\r\n",
       "<!-- 4&#45;&gt;5 -->\r\n",
       "<g id=\"edge5\" class=\"edge\"><title>4&#45;&gt;5</title>\r\n",
       "<path fill=\"none\" stroke=\"black\" d=\"M369.5,-103.726C369.5,-95.5175 369.5,-86.8595 369.5,-78.56\"/>\r\n",
       "<polygon fill=\"black\" stroke=\"black\" points=\"373,-78.2996 369.5,-68.2996 366,-78.2996 373,-78.2996\"/>\r\n",
       "</g>\r\n",
       "<!-- 6 -->\r\n",
       "<g id=\"node7\" class=\"node\"><title>6</title>\r\n",
       "<polygon fill=\"#e58139\" fill-opacity=\"0.752941\" stroke=\"black\" points=\"596,-68 457,-68 457,-0 596,-0 596,-68\"/>\r\n",
       "<text text-anchor=\"start\" x=\"493\" y=\"-52.8\" font-family=\"Times New Roman,serif\" font-size=\"14.00\">gini = 0.316</text>\r\n",
       "<text text-anchor=\"start\" x=\"478\" y=\"-37.8\" font-family=\"Times New Roman,serif\" font-size=\"14.00\">samples = 59.6%</text>\r\n",
       "<text text-anchor=\"start\" x=\"465\" y=\"-22.8\" font-family=\"Times New Roman,serif\" font-size=\"14.00\">value = [0.803, 0.197]</text>\r\n",
       "<text text-anchor=\"start\" x=\"492.5\" y=\"-7.8\" font-family=\"Times New Roman,serif\" font-size=\"14.00\">class = died</text>\r\n",
       "</g>\r\n",
       "<!-- 4&#45;&gt;6 -->\r\n",
       "<g id=\"edge6\" class=\"edge\"><title>4&#45;&gt;6</title>\r\n",
       "<path fill=\"none\" stroke=\"black\" d=\"M427.961,-103.726C441.823,-94.0582 456.578,-83.767 470.336,-74.172\"/>\r\n",
       "<polygon fill=\"black\" stroke=\"black\" points=\"472.555,-76.891 478.755,-68.2996 468.551,-71.1495 472.555,-76.891\"/>\r\n",
       "</g>\r\n",
       "</g>\r\n",
       "</svg>\r\n"
      ],
      "text/plain": [
       "<graphviz.files.Source at 0x18eaf89b390>"
      ]
     },
     "execution_count": 419,
     "metadata": {},
     "output_type": "execute_result"
    }
   ],
   "source": [
    "dot_data_2 = tree.export_graphviz(model2, out_file=None, \n",
    "                         feature_names=list(X.columns),  \n",
    "                         class_names = [\"survived\" if i == 1 else \"died\" for i in model2.classes_] ,\n",
    "                         filled=True, \n",
    "                         special_characters=True,\n",
    "                               proportion=True)  \n",
    "graph = graphviz.Source(dot_data_2)  \n",
    "graph "
   ]
  },
  {
   "cell_type": "markdown",
   "metadata": {},
   "source": [
    "### Explanation of the decision tree\n",
    "\n",
    "The root node compares male and female and tells us that If it is female and her class is less than 1 or 2, then high chance of survival (94%). If she is of pclass 3 then therei s only 48.3% of survival.\n",
    "\n",
    "Incase of male, if they are a child (less than 10 years) then they have 57.6% of survival chance, otherwise adults have only 19.7% of survival chance."
   ]
  },
  {
   "cell_type": "markdown",
   "metadata": {},
   "source": [
    "###  Visualization of the left side of the decision tree"
   ]
  },
  {
   "cell_type": "code",
   "execution_count": 420,
   "metadata": {
    "scrolled": true
   },
   "outputs": [
    {
     "data": {
      "image/png": "[encoded data removed]",
      "text/plain": [
       "<matplotlib.figure.Figure at 0x18eb2683be0>"
      ]
     },
     "metadata": {},
     "output_type": "display_data"
    }
   ],
   "source": [
    "\n",
    "tc_tree['pc'] = np.where(((tc_tree['pclass'] == 1) | (tc_tree['pclass'] == 2)), '1.5', '3')\n",
    "g = sns.factorplot(x=\"pc\", y=\"survived\",  data=tc_tree[tc_tree['sex']<0.5],saturation=.5,kind=\"bar\", ci=None, aspect=.6)\n",
    "g.set_ylabels('Survival Rate');\n",
    "g.set_xlabels('Class 1, 2 and Class3 for females'); "
   ]
  },
  {
   "cell_type": "markdown",
   "metadata": {},
   "source": [
    "The above bar chart shows that Class 1 and Class 2 females together have about 0.9 rate of survival whereas class 3 have about 0.5."
   ]
  },
  {
   "cell_type": "markdown",
   "metadata": {},
   "source": [
    "### Statistical representation of left side of Decision\n"
   ]
  },
  {
   "cell_type": "code",
   "execution_count": 421,
   "metadata": {},
   "outputs": [
    {
     "name": "stdout",
     "output_type": "stream",
     "text": [
      "RanksumsResult(statistic=7.6264271930953198, pvalue=2.4134913208883318e-14)\n",
      "F_onewayResult(statistic=142.07252159375869, pvalue=4.1875293480157111e-28)\n"
     ]
    }
   ],
   "source": [
    "from scipy.stats import f_oneway, ranksums\n",
    "#t, p = ttest_ind(Xy_train[Xy_train['sex']<1.5], Xy_test[Xy_test['sex']<1.5], equal_var=False)\n",
    "#rank = ranksums(Xy_train[Xy_train['sex']<1.5], Xy_test[Xy_test['sex']<1.5])\n",
    "#oneway = f_oneway(Xy_train[Xy_train['sex']<1.5], Xy_test[Xy_test['sex']<1.5])\n",
    "rank = ranksums(tc_tree[(tc_tree['sex']<0.5) & (tc_tree['pclass']<2.5)]['survived'], tc_tree[(tc_tree['sex']<0.5) & (tc_tree['pclass']>2.5)]['survived'])\n",
    "oneway = f_oneway(tc_tree[(tc_tree['sex']<0.5) & (tc_tree['pclass']<2.5)]['survived'], tc_tree[(tc_tree['sex']<0.5) & (tc_tree['pclass']>2.5)]['survived'])\n",
    "print(rank)\n",
    "print(oneway)"
   ]
  },
  {
   "cell_type": "markdown",
   "metadata": {},
   "source": [
    "Ranksum is another tool indicates whether the mean of two data series differ from each other or not. The ranksum gives output that indicates how much they are different from the Null hypothesis. \n",
    "\n",
    "In this case we want to compare the decisions of the left side of the tree classifier. The tree classifier's decision is based on pclass- class1,2 versus class 3 for females. Comparing the survival rate of the two we get the following using Ranksum\n",
    "RanksumsResult(statistic=7.6264271930953198, pvalue=2.4134913208883318e-14)\n",
    "the pvalue is much lesser than 0.05 which means the null hypothesis (both are same) can be rejected. This means that both the series are different.\n",
    "\n",
    "You can just say f_oneway is similar to ranksums but uses ANOVA (analysis of variance) and can compare more than 2 series.\n",
    "\n",
    "I was not able to come up with a clear and precise output or inferance and hence this is a future roadmap.\n",
    "\n",
    "Reference:\n",
    "* https://docs.scipy.org/doc/scipy-0.19.1/reference/generated/scipy.stats.ranksums.html\n",
    "* https://docs.scipy.org/doc/scipy-0.18.1/reference/generated/scipy.stats.f_oneway.html\n",
    "* http://benalexkeen.com/comparative-statistics-in-python-using-scipy/"
   ]
  },
  {
   "cell_type": "markdown",
   "metadata": {},
   "source": [
    "###  Visualization of the right side of the decision tree"
   ]
  },
  {
   "cell_type": "code",
   "execution_count": 422,
   "metadata": {},
   "outputs": [
    {
     "data": {
      "image/png": "[encoded data removed]",
      "text/plain": [
       "<matplotlib.figure.Figure at 0x18eb15054e0>"
      ]
     },
     "metadata": {},
     "output_type": "display_data"
    }
   ],
   "source": [
    "#g = sns.factorplot(x=\"sex\", y=\"survived\", data=tc_tree[tc_tree['sex']>1.5], col=\"pclass\",saturation=.5,kind=\"bar\", ci=None, aspect=.6)\n",
    "\n",
    "#g = sns.factorplot(x=\"pclass\", y=\"survived\", data=g = sns.factorplot(x=\"pclass\", y=\"survived\", data=tc_tree[tc_tree['sex']>0.5],saturation=.5,kind=\"bar\", ci=None, aspect=.6)\n",
    "\n",
    "#g = sns.factorplot(x=\"age\", y=\"survived\", data=tc_tree[tc_tree['sex']>0.5],saturation=.5,kind=\"bar\", ci=None, aspect=.6)\n",
    "#g.set_ylabels('Survival Rate');\n",
    "#g.set_xlabels('Class 1,2(1.5) and Class3');\n",
    "\n",
    "tc_tree['child'] = np.where((tc_tree['age'] < 9.5), 'Child', 'Adult')\n",
    "g = sns.factorplot(x=\"child\", y=\"survived\", data=tc_tree[tc_tree['sex']>0.5],saturation=.5,kind=\"bar\", ci=None, aspect=.6)\n",
    "g.set_ylabels('Survival Rate');\n",
    "g.set_xlabels('Male');"
   ]
  },
  {
   "cell_type": "markdown",
   "metadata": {},
   "source": [
    "The above bar chart shows that a male Child has about 0.57 rate of survival whereas an Adult has about 0.19."
   ]
  },
  {
   "cell_type": "markdown",
   "metadata": {},
   "source": [
    "### Use the ranksums test from scipy.stats to statistically reproduce the decisions on the right side.\n"
   ]
  },
  {
   "cell_type": "code",
   "execution_count": 423,
   "metadata": {},
   "outputs": [
    {
     "name": "stdout",
     "output_type": "stream",
     "text": [
      "RanksumsResult(statistic=4.4166379535516365, pvalue=1.0024793022808227e-05)\n",
      "F_onewayResult(statistic=0.45772879631039465, pvalue=0.49881220845700114)\n"
     ]
    }
   ],
   "source": [
    "from scipy.stats import f_oneway, ranksums\n",
    "#t, p = ttest_ind(Xy_train[Xy_train['sex']<1.5], Xy_test[Xy_test['sex']<1.5], equal_var=False)\n",
    "#rank = ranksums(Xy_train[Xy_train['sex']<1.5], Xy_test[Xy_test['sex']<1.5])\n",
    "#oneway = f_oneway(Xy_train[Xy_train['sex']<1.5], Xy_test[Xy_test['sex']<1.5])\n",
    "rank = ranksums(tc_tree[(tc_tree['sex']>0.5) & (tc_tree['age']<9.5)]['survived'], tc_tree[(tc_tree['sex']>0.5) & (tc_tree['age']>9.5)]['survived'])\n",
    "oneway = f_oneway(tc_tree[(tc_tree['sex']>0.5) & (tc_tree['age']>2.5)]['survived'], tc_tree[(tc_tree['sex']>0.5) & (tc_tree['age']>9.5)]['survived'])\n",
    "print(rank)\n",
    "print(oneway)"
   ]
  },
  {
   "cell_type": "markdown",
   "metadata": {},
   "source": [
    "In this case we want to compare the decisions of the right side of the tree classifier. The tree classifier's decision is based on age - Adult or Child males. Comparing the survival rate of the two we get the following using Ranksum\n",
    "RanksumsResult(statistic=4.4166379535516365, pvalue=1.0024793022808227e-05)\n",
    "the pvalue is much lesser than 0.05 which means the null hypothesis (both are same) can be rejected. This means that both the series are different.\n",
    "\n",
    "I was not able to come up with a clear and precise output or inferance and hence this is a future roadmap."
   ]
  },
  {
   "cell_type": "markdown",
   "metadata": {},
   "source": [
    "## Interpretation\n",
    "The two depth decision tree is based on the gender - male of female and then based on class for females and age for males.  In the decision tree, if the person is a female and class is 1 or 2 there is a 94% probability that she survived. Where as if the person is a male child there is a 57% probability and if a male Adult there is a 19% probability that he survived. The accuracy of this decision tree is about 83%."
   ]
  },
  {
   "cell_type": "markdown",
   "metadata": {
    "collapsed": true
   },
   "source": [
    "# Conclusion\n",
    "\n",
    "Overall we see that Females compared to males in general have higher survival chance and Children have higher survival chance than Adults."
   ]
  }
 ],
 "metadata": {
  "kernelspec": {
   "display_name": "Python 3",
   "language": "python",
   "name": "python3"
  },
  "language_info": {
   "codemirror_mode": {
    "name": "ipython",
    "version": 3
   },
   "file_extension": ".py",
   "mimetype": "text/x-python",
   "name": "python",
   "nbconvert_exporter": "python",
   "pygments_lexer": "ipython3",
   "version": "3.6.3"
  },
  "toc": {
   "nav_menu": {},
   "number_sections": true,
   "sideBar": true,
   "skip_h1_title": false,
   "title_cell": "Table of Contents",
   "title_sidebar": "Contents",
   "toc_cell": false,
   "toc_position": {},
   "toc_section_display": true,
   "toc_window_display": false
  },
  "varInspector": {
   "cols": {
    "lenName": 16,
    "lenType": 16,
    "lenVar": 40
   },
   "kernels_config": {
    "python": {
     "delete_cmd_postfix": "",
     "delete_cmd_prefix": "del ",
     "library": "var_list.py",
     "varRefreshCmd": "print(var_dic_list())"
    },
    "r": {
     "delete_cmd_postfix": ") ",
     "delete_cmd_prefix": "rm(",
     "library": "var_list.r",
     "varRefreshCmd": "cat(var_dic_list()) "
    }
   },
   "types_to_exclude": [
    "module",
    "function",
    "builtin_function_or_method",
    "instance",
    "_Feature"
   ],
   "window_display": false
  }
 },
 "nbformat": 4,
 "nbformat_minor": 2
}
